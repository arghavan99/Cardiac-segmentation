{
 "cells": [
  {
   "cell_type": "markdown",
   "metadata": {},
   "source": [
    " a costum 3-d unet, training on ED, predicting ED"
   ]
  },
  {
   "cell_type": "markdown",
   "metadata": {},
   "source": [
    "# Imports"
   ]
  },
  {
   "cell_type": "code",
   "execution_count": 1,
   "metadata": {},
   "outputs": [],
   "source": [
    "import torch \n",
    "import torch.nn as nn\n",
    "import torch.nn.functional as F\n",
    "from torch.utils.data import Dataset, DataLoader\n",
    "from torchvision import transforms as transforms\n",
    "from torch.autograd import Variable\n",
    "from PIL import Image\n",
    "import numpy as np\n",
    "from matplotlib.pyplot import imshow\n",
    "from scipy import ndimage as ndi\n",
    "from skimage.transform import resize\n",
    "from sklearn.externals._pilutil import bytescale\n",
    "from skimage.filters import roberts\n",
    "from skimage.measure import label,regionprops, perimeter, regionprops_table\n",
    "from skimage.morphology import ball, disk, dilation, binary_erosion, remove_small_objects, erosion, closing, reconstruction, binary_closing, remove_small_holes\n",
    "import pandas as pd\n",
    "import os\n",
    "import nibabel as nib\n",
    "\n",
    "\n",
    "import matplotlib.pyplot as plt\n",
    "%matplotlib inline\n",
    "\n",
    "%gui qt"
   ]
  },
  {
   "cell_type": "code",
   "execution_count": 2,
   "metadata": {},
   "outputs": [
    {
     "name": "stdout",
     "output_type": "stream",
     "text": [
      "Sat May  1 12:16:14 2021       \r\n",
      "+-----------------------------------------------------------------------------+\r\n",
      "| NVIDIA-SMI 430.50       Driver Version: 430.50       CUDA Version: 10.1     |\r\n",
      "|-------------------------------+----------------------+----------------------+\r\n",
      "| GPU  Name        Persistence-M| Bus-Id        Disp.A | Volatile Uncorr. ECC |\r\n",
      "| Fan  Temp  Perf  Pwr:Usage/Cap|         Memory-Usage | GPU-Util  Compute M. |\r\n",
      "|===============================+======================+======================|\r\n",
      "|   0  GeForce GTX 108...  Off  | 00000000:00:05.0 Off |                  N/A |\r\n",
      "|  0%   24C    P0    55W / 250W |      0MiB / 11178MiB |      0%      Default |\r\n",
      "+-------------------------------+----------------------+----------------------+\r\n",
      "                                                                               \r\n",
      "+-----------------------------------------------------------------------------+\r\n",
      "| Processes:                                                       GPU Memory |\r\n",
      "|  GPU       PID   Type   Process name                             Usage      |\r\n",
      "|=============================================================================|\r\n",
      "|  No running processes found                                                 |\r\n",
      "+-----------------------------------------------------------------------------+\r\n"
     ]
    }
   ],
   "source": [
    "# device = torch.device(\"cuda\" if torch.cuda.is_available() else \"cpu\")\n",
    "!nvidia-smi"
   ]
  },
  {
   "cell_type": "markdown",
   "metadata": {},
   "source": [
    "# Import Data"
   ]
  },
  {
   "cell_type": "code",
   "execution_count": 3,
   "metadata": {},
   "outputs": [
    {
     "data": {
      "text/html": [
       "<div>\n",
       "<style scoped>\n",
       "    .dataframe tbody tr th:only-of-type {\n",
       "        vertical-align: middle;\n",
       "    }\n",
       "\n",
       "    .dataframe tbody tr th {\n",
       "        vertical-align: top;\n",
       "    }\n",
       "\n",
       "    .dataframe thead th {\n",
       "        text-align: right;\n",
       "    }\n",
       "</style>\n",
       "<table border=\"1\" class=\"dataframe\">\n",
       "  <thead>\n",
       "    <tr style=\"text-align: right;\">\n",
       "      <th></th>\n",
       "      <th>External code</th>\n",
       "      <th>VendorName</th>\n",
       "      <th>Vendor</th>\n",
       "      <th>Centre</th>\n",
       "      <th>ED</th>\n",
       "      <th>ES</th>\n",
       "    </tr>\n",
       "  </thead>\n",
       "  <tbody>\n",
       "    <tr>\n",
       "      <th>0</th>\n",
       "      <td>A0S9V9</td>\n",
       "      <td>Siemens</td>\n",
       "      <td>A</td>\n",
       "      <td>1</td>\n",
       "      <td>0</td>\n",
       "      <td>9</td>\n",
       "    </tr>\n",
       "    <tr>\n",
       "      <th>1</th>\n",
       "      <td>A1D0Q7</td>\n",
       "      <td>Philips</td>\n",
       "      <td>B</td>\n",
       "      <td>2</td>\n",
       "      <td>0</td>\n",
       "      <td>9</td>\n",
       "    </tr>\n",
       "    <tr>\n",
       "      <th>2</th>\n",
       "      <td>A1D9Z7</td>\n",
       "      <td>Siemens</td>\n",
       "      <td>A</td>\n",
       "      <td>1</td>\n",
       "      <td>22</td>\n",
       "      <td>11</td>\n",
       "    </tr>\n",
       "    <tr>\n",
       "      <th>3</th>\n",
       "      <td>A1E9Q1</td>\n",
       "      <td>Siemens</td>\n",
       "      <td>A</td>\n",
       "      <td>1</td>\n",
       "      <td>0</td>\n",
       "      <td>9</td>\n",
       "    </tr>\n",
       "    <tr>\n",
       "      <th>4</th>\n",
       "      <td>A1K2P5</td>\n",
       "      <td>Canon</td>\n",
       "      <td>D</td>\n",
       "      <td>5</td>\n",
       "      <td>33</td>\n",
       "      <td>11</td>\n",
       "    </tr>\n",
       "    <tr>\n",
       "      <th>...</th>\n",
       "      <td>...</td>\n",
       "      <td>...</td>\n",
       "      <td>...</td>\n",
       "      <td>...</td>\n",
       "      <td>...</td>\n",
       "      <td>...</td>\n",
       "    </tr>\n",
       "    <tr>\n",
       "      <th>340</th>\n",
       "      <td>T2Z1Z9</td>\n",
       "      <td>Canon</td>\n",
       "      <td>D</td>\n",
       "      <td>5</td>\n",
       "      <td>29</td>\n",
       "      <td>9</td>\n",
       "    </tr>\n",
       "    <tr>\n",
       "      <th>341</th>\n",
       "      <td>T9U9W2</td>\n",
       "      <td>Siemens</td>\n",
       "      <td>A</td>\n",
       "      <td>1</td>\n",
       "      <td>0</td>\n",
       "      <td>10</td>\n",
       "    </tr>\n",
       "    <tr>\n",
       "      <th>342</th>\n",
       "      <td>V4W8Z5</td>\n",
       "      <td>GE</td>\n",
       "      <td>C</td>\n",
       "      <td>4</td>\n",
       "      <td>19</td>\n",
       "      <td>9</td>\n",
       "    </tr>\n",
       "    <tr>\n",
       "      <th>343</th>\n",
       "      <td>W5Z4Z8</td>\n",
       "      <td>Philips</td>\n",
       "      <td>B</td>\n",
       "      <td>2</td>\n",
       "      <td>29</td>\n",
       "      <td>11</td>\n",
       "    </tr>\n",
       "    <tr>\n",
       "      <th>344</th>\n",
       "      <td>Y6Y9Z2</td>\n",
       "      <td>Philips</td>\n",
       "      <td>B</td>\n",
       "      <td>3</td>\n",
       "      <td>29</td>\n",
       "      <td>9</td>\n",
       "    </tr>\n",
       "  </tbody>\n",
       "</table>\n",
       "<p>345 rows × 6 columns</p>\n",
       "</div>"
      ],
      "text/plain": [
       "    External code VendorName Vendor  Centre  ED  ES\n",
       "0          A0S9V9    Siemens      A       1   0   9\n",
       "1          A1D0Q7    Philips      B       2   0   9\n",
       "2          A1D9Z7    Siemens      A       1  22  11\n",
       "3          A1E9Q1    Siemens      A       1   0   9\n",
       "4          A1K2P5      Canon      D       5  33  11\n",
       "..            ...        ...    ...     ...  ..  ..\n",
       "340        T2Z1Z9      Canon      D       5  29   9\n",
       "341        T9U9W2    Siemens      A       1   0  10\n",
       "342        V4W8Z5         GE      C       4  19   9\n",
       "343        W5Z4Z8    Philips      B       2  29  11\n",
       "344        Y6Y9Z2    Philips      B       3  29   9\n",
       "\n",
       "[345 rows x 6 columns]"
      ]
     },
     "execution_count": 3,
     "metadata": {},
     "output_type": "execute_result"
    }
   ],
   "source": [
    "dataDir = 'downloads/OpenDataset/'\n",
    "metadata = pd.read_csv(dataDir + '201014_M&Ms_Dataset_Information_-_opendataset.csv')\n",
    "metadata"
   ]
  },
  {
   "cell_type": "markdown",
   "metadata": {},
   "source": [
    "# Define Dataset"
   ]
  },
  {
   "cell_type": "code",
   "execution_count": 4,
   "metadata": {},
   "outputs": [],
   "source": [
    "def normalize_01(inp: np.ndarray):\n",
    "    inp_out = (inp - np.min(inp)) / np.ptp(inp)\n",
    "    return inp_out\n",
    "\n",
    "def change_sizes(img, diff_seq, is_mask):\n",
    "    img = img[:,:, diff_seq//2:img.shape[2]-(diff_seq-diff_seq//2)]\n",
    "    res = []\n",
    "    temp = np.zeros((200, 200))\n",
    "    res.append(temp)\n",
    "    for i in range(img.shape[2]):\n",
    "        x = resize(img[:,:, i], (200,200))\n",
    "        res.append(x)\n",
    "    res.append(temp)\n",
    "    return np.asarray(res)\n",
    "    \n",
    "def change_size_and_pad(img, diff_seq):\n",
    "    res = []\n",
    "    temp = np.zeros((200, 200))\n",
    "    for i in range(diff_seq//2):\n",
    "        res.append(temp)\n",
    "    for i in range(img.shape[2]):\n",
    "        x = resize(img[:,:, i], (200,200))\n",
    "        res.append(x)\n",
    "    for i in range(diff_seq - diff_seq//2):\n",
    "        res.append(temp)\n",
    "    return np.asarray(res)\n",
    "\n",
    "\n",
    "class SegDataset(Dataset):\n",
    "    def __init__(self, all_dirs, metadata, addr):\n",
    "        self.all_dirs = all_dirs \n",
    "        self.metadata = metadata\n",
    "        self.addr = addr\n",
    "        self.num_seq = 10 \n",
    "\n",
    "    def __len__(self):\n",
    "        return 2*len(self.all_dirs)\n",
    "    \n",
    "    def __getitem__(self, idx):\n",
    "        item = self.all_dirs[idx//2]\n",
    "        path = self.addr + item\n",
    "\n",
    "        mask, img, id = None, None, None\n",
    "\n",
    "        ### lazy load data\n",
    "        for root, dir, files in os.walk(path):\n",
    "            for f in files:\n",
    "                img_arr = nib.load(path + '/' + f).get_fdata()\n",
    "#                 print(f\"file name is {f}\")\n",
    "                if f[-8] == 't':\n",
    "                    id = f.split('_')[0]\n",
    "                    mask = img_arr\n",
    "                else:\n",
    "                    img = img_arr\n",
    "        \n",
    "        # preparing data \n",
    "#         print(f\"df: {metadata[metadata['External code'] == id]['ES']}\")\n",
    "        if idx %2 == 0:\n",
    "            t = metadata[metadata['External code'] == id]['ES'].iloc[0]\n",
    "        else:\n",
    "            t = metadata[metadata['External code'] == id]['ED'].iloc[0]\n",
    "        \n",
    "        img = img[:, :, :, t]\n",
    "        gt = mask[:, :, :, t]\n",
    "\n",
    "\n",
    "#         print('maximum number of mask', np.max(gt) , '\\tmax of img', np.max(img))\n",
    "\n",
    "        diff_seq = img.shape[2] - self.num_seq\n",
    "        if diff_seq > 0: \n",
    "            img = change_sizes(img, diff_seq, False)\n",
    "            gt = change_sizes(gt, diff_seq, True)\n",
    "        else:\n",
    "#             print(f'BEFORE shape of img is {img.shape} and shape of mask is {gt.shape}')\n",
    "            img = change_size_and_pad(img, self.num_seq+2-img.shape[2])\n",
    "            gt = change_size_and_pad(gt, self.num_seq+2-gt.shape[2])\n",
    "#             print(f'AFTER shape of img is {img.shape} and shape of mask is {gt.shape}')\n",
    "\n",
    "        img = normalize_01(img)\n",
    "        \n",
    "        \n",
    "        # convert to tensors\n",
    "        img = torch.FloatTensor([img])\n",
    "        mask = torch.LongTensor(gt)\n",
    "\n",
    "        return img, mask"
   ]
  },
  {
   "cell_type": "markdown",
   "metadata": {},
   "source": [
    "# Load Dataset, DataLoader"
   ]
  },
  {
   "cell_type": "code",
   "execution_count": 5,
   "metadata": {},
   "outputs": [],
   "source": [
    "batch_size = 4\n",
    "num_epochs = 60\n",
    "learning_rate = 0.01"
   ]
  },
  {
   "cell_type": "code",
   "execution_count": 6,
   "metadata": {},
   "outputs": [],
   "source": [
    "train_dir = dataDir + '/Training/Labeled/'\n",
    "train_all = os.listdir(train_dir)\n",
    "train_dataset = SegDataset(train_all, metadata, train_dir)\n",
    "\n",
    "\n",
    "val_dir = dataDir + '/Validation/'\n",
    "val_all = os.listdir(val_dir)[:8]\n",
    "val_dataset = SegDataset(val_all, metadata, val_dir)\n",
    "\n",
    "train_loader = torch.utils.data.DataLoader(dataset=train_dataset,\n",
    "                                           batch_size=batch_size,\n",
    "                                           shuffle=True)\n",
    "val_loader = torch.utils.data.DataLoader(dataset=val_dataset,\n",
    "                                           batch_size=batch_size,\n",
    "                                           shuffle=True)"
   ]
  },
  {
   "cell_type": "markdown",
   "metadata": {},
   "source": [
    "# Define 3d unet\n",
    "https://towardsdatascience.com/creating-and-training-a-u-net-model-with-pytorch-for-2d-3d-semantic-segmentation-model-building-6ab09d6a0862"
   ]
  },
  {
   "cell_type": "code",
   "execution_count": 7,
   "metadata": {},
   "outputs": [],
   "source": [
    "@torch.jit.script\n",
    "def autocrop(encoder_layer: torch.Tensor, decoder_layer: torch.Tensor):\n",
    "    \"\"\"\n",
    "    Center-crops the encoder_layer to the size of the decoder_layer,\n",
    "    so that merging (concatenation) between levels/blocks is possible.\n",
    "    This is only necessary for input sizes != 2**n for 'same' padding and always required for 'valid' padding.\n",
    "    \"\"\"\n",
    "    if encoder_layer.shape[2:] != decoder_layer.shape[2:]:\n",
    "        ds = encoder_layer.shape[2:]\n",
    "        es = decoder_layer.shape[2:]\n",
    "        assert ds[0] >= es[0]\n",
    "        assert ds[1] >= es[1]\n",
    "        if encoder_layer.dim() == 4:  # 2D\n",
    "            encoder_layer = encoder_layer[\n",
    "                            :,\n",
    "                            :,\n",
    "                            ((ds[0] - es[0]) // 2):((ds[0] + es[0]) // 2),\n",
    "                            ((ds[1] - es[1]) // 2):((ds[1] + es[1]) // 2)\n",
    "                            ]\n",
    "        elif encoder_layer.dim() == 5:  # 3D\n",
    "            print('now I want to do cropping: encoder shape', encoder_layer.shape, '\\t decoder shape', decoder_layer.shape)\n",
    "            assert ds[2] >= es[2]\n",
    "            encoder_layer = encoder_layer[\n",
    "                            :,\n",
    "                            :,\n",
    "                            ((ds[0] - es[0]) // 2):((ds[0] + es[0]) // 2),\n",
    "                            ((ds[1] - es[1]) // 2):((ds[1] + es[1]) // 2),\n",
    "                            ((ds[2] - es[2]) // 2):((ds[2] + es[2]) // 2),\n",
    "                            ]\n",
    "            print('encoder layer shape at end', encoder_layer.shape)\n",
    "    return encoder_layer, decoder_layer\n",
    "\n",
    "\n",
    "def conv_layer(dim: int):\n",
    "    if dim == 3:\n",
    "        return nn.Conv3d\n",
    "    elif dim == 2:\n",
    "        return nn.Conv2d\n",
    "\n",
    "\n",
    "def get_conv_layer(in_channels: int,\n",
    "                   out_channels: int,\n",
    "                   kernel_size: int = 3,\n",
    "                   stride: int = 1,\n",
    "                   padding: int = 2,\n",
    "                   bias: bool = True,\n",
    "                   dim: int = 2):\n",
    "    return conv_layer(dim)(in_channels, out_channels, kernel_size=kernel_size, stride=stride, padding=padding,\n",
    "                           bias=bias)\n",
    "\n",
    "\n",
    "def conv_transpose_layer(dim: int):\n",
    "    if dim == 3:\n",
    "        return nn.ConvTranspose3d\n",
    "    elif dim == 2:\n",
    "        return nn.ConvTranspose2d\n",
    "\n",
    "\n",
    "def get_up_layer(in_channels: int,\n",
    "                 out_channels: int,\n",
    "                 kernel_size: int = 2,\n",
    "                 stride: int = 2,\n",
    "                 dim: int = 3,\n",
    "                 up_mode: str = 'transposed',\n",
    "                 ):\n",
    "    if up_mode == 'transposed':\n",
    "        return conv_transpose_layer(dim)(in_channels, out_channels, kernel_size=kernel_size, stride=stride)\n",
    "    else:\n",
    "        return nn.Upsample(scale_factor=2.0, mode=up_mode)\n",
    "\n",
    "\n",
    "def maxpool_layer(dim: int):\n",
    "    if dim == 3:\n",
    "        return nn.MaxPool3d\n",
    "    elif dim == 2:\n",
    "        return nn.MaxPool2d\n",
    "\n",
    "\n",
    "def get_maxpool_layer(kernel_size: int = 2,\n",
    "                      stride: int = 2,\n",
    "                      padding: int = 0,\n",
    "                      dim: int = 2):\n",
    "    return maxpool_layer(dim=dim)(kernel_size=kernel_size, stride=stride, padding=padding)\n",
    "\n",
    "\n",
    "def get_activation(activation: str):\n",
    "    if activation == 'relu':\n",
    "        return nn.ReLU()\n",
    "    elif activation == 'leaky':\n",
    "        return nn.LeakyReLU(negative_slope=0.1)\n",
    "    elif activation == 'elu':\n",
    "        return nn.ELU()\n",
    "\n",
    "\n",
    "def get_normalization(normalization: str,\n",
    "                      num_channels: int,\n",
    "                      dim: int):\n",
    "    if normalization == 'batch':\n",
    "        if dim == 3:\n",
    "            return nn.BatchNorm3d(num_channels)\n",
    "        elif dim == 2:\n",
    "            return nn.BatchNorm2d(num_channels)\n",
    "    elif normalization == 'instance':\n",
    "        if dim == 3:\n",
    "            return nn.InstanceNorm3d(num_channels)\n",
    "        elif dim == 2:\n",
    "            return nn.InstanceNorm2d(num_channels)\n",
    "    elif 'group' in normalization:\n",
    "        num_groups = int(normalization.partition('group')[-1])  # get the group size from string\n",
    "        return nn.GroupNorm(num_groups=num_groups, num_channels=num_channels)\n",
    "\n",
    "\n",
    "class Concatenate(nn.Module):\n",
    "    def __init__(self):\n",
    "        super(Concatenate, self).__init__()\n",
    "\n",
    "    def forward(self, layer_1, layer_2):\n",
    "        x = torch.cat((layer_1, layer_2), 1)\n",
    "\n",
    "        return x\n",
    "\n",
    "\n",
    "class DownBlock(nn.Module):\n",
    "    \"\"\"\n",
    "    A helper Module that performs 2 Convolutions and 1 MaxPool.\n",
    "    An activation follows each convolution.\n",
    "    A normalization layer follows each convolution.\n",
    "    \"\"\"\n",
    "\n",
    "    def __init__(self,\n",
    "                 in_channels: int,\n",
    "                 out_channels: int,\n",
    "                 pooling: bool = True,\n",
    "                 activation: str = 'relu',\n",
    "                 normalization: str = None,\n",
    "                 dim: str = 2,\n",
    "                 conv_mode: str = 'same'):\n",
    "        super().__init__()\n",
    "\n",
    "        self.in_channels = in_channels\n",
    "        self.out_channels = out_channels\n",
    "        self.pooling = pooling\n",
    "        self.normalization = normalization\n",
    "        if conv_mode == 'same':\n",
    "            self.padding = 1\n",
    "        elif conv_mode == 'valid':\n",
    "            self.padding = 0\n",
    "        self.dim = dim\n",
    "        self.activation = activation\n",
    "\n",
    "        # conv layers\n",
    "        self.conv1 = get_conv_layer(self.in_channels, self.out_channels, kernel_size=3, stride=1, padding=self.padding,\n",
    "                                    bias=True, dim=self.dim)\n",
    "        self.conv2 = get_conv_layer(self.out_channels, self.out_channels, kernel_size=3, stride=1, padding=self.padding,\n",
    "                                    bias=True, dim=self.dim)\n",
    "\n",
    "        # pooling layer\n",
    "        if self.pooling:\n",
    "            self.pool = get_maxpool_layer(kernel_size=2, stride=2, padding=0, dim=self.dim)\n",
    "\n",
    "        # activation layers\n",
    "        self.act1 = get_activation(self.activation)\n",
    "        self.act2 = get_activation(self.activation)\n",
    "\n",
    "        # normalization layers\n",
    "        if self.normalization:\n",
    "            self.norm1 = get_normalization(normalization=self.normalization, num_channels=self.out_channels,\n",
    "                                           dim=self.dim)\n",
    "            self.norm2 = get_normalization(normalization=self.normalization, num_channels=self.out_channels,\n",
    "                                           dim=self.dim)\n",
    "\n",
    "    def forward(self, x):\n",
    "        y = self.conv1(x)  # convolution 1\n",
    "        y = self.act1(y)  # activation 1\n",
    "        if self.normalization:\n",
    "            y = self.norm1(y)  # normalization 1\n",
    "        y = self.conv2(y)  # convolution 2\n",
    "        y = self.act2(y)  # activation 2\n",
    "        if self.normalization:\n",
    "            y = self.norm2(y)  # normalization 2\n",
    "\n",
    "        before_pooling = y  # save the outputs before the pooling operation\n",
    "        if self.pooling:\n",
    "            y = self.pool(y)  # pooling\n",
    "        return y, before_pooling\n",
    "\n",
    "\n",
    "class UpBlock(nn.Module):\n",
    "    \"\"\"\n",
    "    A helper Module that performs 2 Convolutions and 1 UpConvolution/Upsample.\n",
    "    An activation follows each convolution.\n",
    "    A normalization layer follows each convolution.\n",
    "    \"\"\"\n",
    "\n",
    "    def __init__(self,\n",
    "                 in_channels: int,\n",
    "                 out_channels: int,\n",
    "                 activation: str = 'relu',\n",
    "                 normalization: str = None,\n",
    "                 dim: int = 3,\n",
    "                 conv_mode: str = 'same',\n",
    "                 up_mode: str = 'transposed'\n",
    "                 ):\n",
    "        super().__init__()\n",
    "\n",
    "        self.in_channels = in_channels\n",
    "        self.out_channels = out_channels\n",
    "        self.normalization = normalization\n",
    "        if conv_mode == 'same':\n",
    "            self.padding = 1\n",
    "        elif conv_mode == 'valid':\n",
    "            self.padding = 0\n",
    "        self.dim = dim\n",
    "        self.activation = activation\n",
    "        self.up_mode = up_mode\n",
    "\n",
    "        # upconvolution/upsample layer\n",
    "        self.up = get_up_layer(self.in_channels, self.out_channels, kernel_size=2, stride=2, dim=self.dim,\n",
    "                               up_mode=self.up_mode)\n",
    "\n",
    "        # conv layers\n",
    "        self.conv0 = get_conv_layer(self.in_channels, self.out_channels, kernel_size=1, stride=1, padding=0,\n",
    "                                    bias=True, dim=self.dim)\n",
    "        self.conv1 = get_conv_layer(2 * self.out_channels, self.out_channels, kernel_size=3, stride=1,\n",
    "                                    padding=self.padding,\n",
    "                                    bias=True, dim=self.dim)\n",
    "        self.conv2 = get_conv_layer(self.out_channels, self.out_channels, kernel_size=3, stride=1, padding=self.padding,\n",
    "                                    bias=True, dim=self.dim)\n",
    "\n",
    "        # activation layers\n",
    "        self.act0 = get_activation(self.activation)\n",
    "        self.act1 = get_activation(self.activation)\n",
    "        self.act2 = get_activation(self.activation)\n",
    "\n",
    "        # normalization layers\n",
    "        if self.normalization:\n",
    "            self.norm0 = get_normalization(normalization=self.normalization, num_channels=self.out_channels,\n",
    "                                           dim=self.dim)\n",
    "            self.norm1 = get_normalization(normalization=self.normalization, num_channels=self.out_channels,\n",
    "                                           dim=self.dim)\n",
    "            self.norm2 = get_normalization(normalization=self.normalization, num_channels=self.out_channels,\n",
    "                                           dim=self.dim)\n",
    "\n",
    "        # concatenate layer\n",
    "        self.concat = Concatenate()\n",
    "\n",
    "    def forward(self, encoder_layer, decoder_layer):\n",
    "        \"\"\" Forward pass\n",
    "        Arguments:\n",
    "            encoder_layer: Tensor from the encoder pathway\n",
    "            decoder_layer: Tensor from the decoder pathway (to be up'd)\n",
    "        \"\"\"\n",
    "        up_layer = self.up(decoder_layer)  # up-convolution/up-sampling\n",
    "        cropped_encoder_layer, dec_layer = autocrop(encoder_layer, up_layer)  # cropping\n",
    "\n",
    "        if self.up_mode != 'transposed':\n",
    "            # We need to reduce the channel dimension with a conv layer\n",
    "            up_layer = self.conv0(up_layer)  # convolution 0\n",
    "        up_layer = self.act0(up_layer)  # activation 0\n",
    "        if self.normalization:\n",
    "            up_layer = self.norm0(up_layer)  # normalization 0\n",
    "\n",
    "        merged_layer = self.concat(up_layer, cropped_encoder_layer)  # concatenation\n",
    "        y = self.conv1(merged_layer)  # convolution 1\n",
    "        y = self.act1(y)  # activation 1\n",
    "        if self.normalization:\n",
    "            y = self.norm1(y)  # normalization 1\n",
    "        y = self.conv2(y)  # convolution 2\n",
    "        y = self.act2(y)  # acivation 2\n",
    "        if self.normalization:\n",
    "            y = self.norm2(y)  # normalization 2\n",
    "        return y\n",
    "\n",
    "\n",
    "class UNet(nn.Module):\n",
    "    def __init__(self,\n",
    "                 in_channels: int = 1,\n",
    "                 out_channels: int = 2,\n",
    "                 n_blocks: int = 4,\n",
    "                 start_filters: int = 32,\n",
    "                 activation: str = 'relu',\n",
    "                 normalization: str = 'batch',\n",
    "                 conv_mode: str = 'same',\n",
    "                 dim: int = 2,\n",
    "                 up_mode: str = 'transposed'\n",
    "                 ):\n",
    "        super().__init__()\n",
    "\n",
    "        self.in_channels = in_channels\n",
    "        self.out_channels = out_channels\n",
    "        self.n_blocks = n_blocks\n",
    "        self.start_filters = start_filters\n",
    "        self.activation = activation\n",
    "        self.normalization = normalization\n",
    "        self.conv_mode = conv_mode\n",
    "        self.dim = dim\n",
    "        self.up_mode = up_mode\n",
    "\n",
    "        self.down_blocks = []\n",
    "        self.up_blocks = []\n",
    "\n",
    "        # create encoder path\n",
    "        for i in range(self.n_blocks):\n",
    "            num_filters_in = self.in_channels if i == 0 else num_filters_out\n",
    "            num_filters_out = self.start_filters * (2 ** i)\n",
    "            pooling = True if i < self.n_blocks - 1 else False\n",
    "\n",
    "            down_block = DownBlock(in_channels=num_filters_in,\n",
    "                                   out_channels=num_filters_out,\n",
    "                                   pooling=pooling,\n",
    "                                   activation=self.activation,\n",
    "                                   normalization=self.normalization,\n",
    "                                   conv_mode=self.conv_mode,\n",
    "                                   dim=self.dim)\n",
    "\n",
    "            self.down_blocks.append(down_block)\n",
    "\n",
    "        # create decoder path (requires only n_blocks-1 blocks)\n",
    "        for i in range(n_blocks - 1):\n",
    "            num_filters_in = num_filters_out\n",
    "            num_filters_out = num_filters_in // 2\n",
    "\n",
    "            up_block = UpBlock(in_channels=num_filters_in,\n",
    "                               out_channels=num_filters_out,\n",
    "                               activation=self.activation,\n",
    "                               normalization=self.normalization,\n",
    "                               conv_mode=self.conv_mode,\n",
    "                               dim=self.dim,\n",
    "                               up_mode=self.up_mode)\n",
    "\n",
    "            self.up_blocks.append(up_block)\n",
    "\n",
    "        # final convolution\n",
    "        self.conv_final = get_conv_layer(num_filters_out, self.out_channels, kernel_size=1, stride=1, padding=0,\n",
    "                                         bias=True, dim=self.dim)\n",
    "\n",
    "        # add the list of modules to current module\n",
    "        self.down_blocks = nn.ModuleList(self.down_blocks)\n",
    "        self.up_blocks = nn.ModuleList(self.up_blocks)\n",
    "\n",
    "        # initialize the weights\n",
    "        self.initialize_parameters()\n",
    "\n",
    "    @staticmethod\n",
    "    def weight_init(module, method, **kwargs):\n",
    "        if isinstance(module, (nn.Conv3d, nn.Conv2d, nn.ConvTranspose3d, nn.ConvTranspose2d)):\n",
    "            method(module.weight, **kwargs)  # weights\n",
    "\n",
    "    @staticmethod\n",
    "    def bias_init(module, method, **kwargs):\n",
    "        if isinstance(module, (nn.Conv3d, nn.Conv2d, nn.ConvTranspose3d, nn.ConvTranspose2d)):\n",
    "            method(module.bias, **kwargs)  # bias\n",
    "\n",
    "    def initialize_parameters(self,\n",
    "                              method_weights=nn.init.xavier_uniform_,\n",
    "                              method_bias=nn.init.zeros_,\n",
    "                              kwargs_weights={},\n",
    "                              kwargs_bias={}\n",
    "                              ):\n",
    "        for module in self.modules():\n",
    "            self.weight_init(module, method_weights, **kwargs_weights)  # initialize weights\n",
    "            self.bias_init(module, method_bias, **kwargs_bias)  # initialize bias\n",
    "\n",
    "    def forward(self, x: torch.tensor):\n",
    "        encoder_output = []\n",
    "\n",
    "        # Encoder pathway\n",
    "        for module in self.down_blocks:\n",
    "            x, before_pooling = module(x)\n",
    "            encoder_output.append(before_pooling)\n",
    "\n",
    "        # Decoder pathway\n",
    "        for i, module in enumerate(self.up_blocks):\n",
    "            before_pool = encoder_output[-(i + 2)]\n",
    "            x = module(before_pool, x)\n",
    "\n",
    "        x = self.conv_final(x)\n",
    "\n",
    "        return x\n",
    "\n",
    "    def __repr__(self):\n",
    "        attributes = {attr_key: self.__dict__[attr_key] for attr_key in self.__dict__.keys() if '_' not in attr_key[0] and 'training' not in attr_key}\n",
    "        d = {self.__class__.__name__: attributes}\n",
    "        return f'{d}'"
   ]
  },
  {
   "cell_type": "markdown",
   "metadata": {},
   "source": [
    "# Define Dice"
   ]
  },
  {
   "cell_type": "code",
   "execution_count": 8,
   "metadata": {},
   "outputs": [],
   "source": [
    "import torch.nn.functional as F\n",
    "\n",
    "def dice_score(inputs, targets, class_num, dims=[1,2,3], smooth=0.5):\n",
    "    inputs = inputs.detach().clone()\n",
    "    targets = targets.detach().clone()    \n",
    "    \n",
    "    inputs = torch.argmax(inputs, dim=1)\n",
    "#     print(f\"check dimensions {inputs.shape}, {targets.shape}\")\n",
    "    \n",
    "    inputs[inputs == class_num] = -1\n",
    "    inputs[inputs != -1] = 0\n",
    "    inputs[inputs != 0] = 1\n",
    "\n",
    "    targets[targets == class_num] = -1\n",
    "    targets[targets != -1] = 0\n",
    "    targets[targets != 0] = 1   \n",
    "\n",
    "#     print(f\"inputs:{inputs}\\ntargets:{targets}\")\n",
    "\n",
    "    intersection = 2 * (inputs * targets)\n",
    "    total = (inputs + targets)\n",
    "#     print(f\"intersection: {intersection}\\ntotal: {total}\")\n",
    "    \n",
    "    intersection = intersection.sum(dim=dims)\n",
    "    total = total.sum(dim=dims)\n",
    "#     print(f\"intersection: {intersection}\\ntotal: {total}\")\n",
    "\n",
    "    dice = torch.add(intersection, smooth)/torch.add(total, smooth)\n",
    "    \n",
    "#     print('shape of dice', dice.shape)\n",
    "    dice = torch.mean(dice).item()\n",
    "#     print(dice)\n",
    "    return dice  "
   ]
  },
  {
   "cell_type": "code",
   "execution_count": 9,
   "metadata": {},
   "outputs": [],
   "source": [
    "class CostumLoss(nn.Module):\n",
    "    def __init__(self, weight=None, size_average=True):\n",
    "        super(CostumLoss, self).__init__()\n",
    "\n",
    "    def forward(self, outs, targets, smooth=0.5):\n",
    "        dice_1 = -2* np.log(dice_score(outs, targets, 1))\n",
    "        dice_2 = -2* np.log(dice_score(outs, targets, 2))\n",
    "        dice_3 = -2* np.log(dice_score(outs, targets, 3))\n",
    "\n",
    "#         cross_entropy = F.cross_entropy(outs, targets, reduction='sum')\n",
    "#         print(f\"cross_entropy sum {cross_entropy}\")\n",
    "\n",
    "        cross_entropy = F.cross_entropy(outs, targets, reduction='mean')\n",
    "#         print(f\"cross_entropy mean {cross_entropy}\")\n",
    "\n",
    "        res = cross_entropy + dice_1 + dice_2 + dice_3 \n",
    "        return res "
   ]
  },
  {
   "cell_type": "markdown",
   "metadata": {},
   "source": [
    "# Define Trainer"
   ]
  },
  {
   "cell_type": "code",
   "execution_count": 10,
   "metadata": {},
   "outputs": [],
   "source": [
    "class Trainer:\n",
    "    def __init__(self,\n",
    "                 model: torch.nn.Module,\n",
    "                 device: torch.device,\n",
    "                 criterion: torch.nn.Module,\n",
    "                 optimizer: torch.optim.Optimizer,\n",
    "                 training_DataLoader: torch.utils.data.Dataset,\n",
    "                 validation_DataLoader: torch.utils.data.Dataset = None,\n",
    "                 lr_scheduler: torch.optim.lr_scheduler = None,\n",
    "                 epochs: int = 100,\n",
    "                 epoch: int = 0,\n",
    "                 notebook: bool = False\n",
    "                 ):\n",
    "\n",
    "        self.model = model\n",
    "        self.criterion = criterion\n",
    "        self.optimizer = optimizer\n",
    "        self.lr_scheduler = lr_scheduler\n",
    "        self.training_DataLoader = training_DataLoader\n",
    "        self.validation_DataLoader = validation_DataLoader\n",
    "        self.device = device\n",
    "        self.epochs = epochs\n",
    "        self.epoch = epoch\n",
    "        self.notebook = notebook\n",
    "        \n",
    "\n",
    "        self.training_loss = []\n",
    "        self.validation_loss = []\n",
    "        self.learning_rate = []\n",
    "        \n",
    "        self.validation_dices_c0 = []\n",
    "        self.validation_dices_c1 = []\n",
    "        self.validation_dices_c2 = []\n",
    "        self.validation_dices_c3 = []\n",
    "\n",
    "        self.train_dices_c0 = []\n",
    "        self.train_dices_c1 = []\n",
    "        self.train_dices_c2 = []\n",
    "        self.train_dices_c3 = []\n",
    "\n",
    "        cols = ['epoch', 't_dice_0', 't_dice_1', 't_dice_2', 't_dice_3', 'v_dice_0', 'v_dice_1', 'v_dice_2', 'v_dice_3', 't_loss', 'v_loss']\n",
    "        self.log = pd.DataFrame(columns=cols)\n",
    "\n",
    "        self.dice_0_per_slice_log = pd.DataFrame(columns=[i for i in range(12)])\n",
    "        self.dice_1_per_slice_log = pd.DataFrame(columns=[i for i in range(12)])\n",
    "        self.dice_2_per_slice_log = pd.DataFrame(columns=[i for i in range(12)])\n",
    "        self.dice_3_per_slice_log = pd.DataFrame(columns=[i for i in range(12)])\n",
    "\n",
    "    \n",
    "    def dice_per_slice(self, inputs, targets, class_num):\n",
    "#         print('out shapeee', inputs.shape, 'target shape', targets.shape)\n",
    "        d0, d1, d2, d3 = [], [], [], []\n",
    "        for i in range(12):\n",
    "            inp = inputs[:, :, i, :, :]\n",
    "            gt = targets[:, i, :, :]\n",
    "            d0.append(dice_score(inp, gt, 0, dims=[1,2]))\n",
    "            d1.append(dice_score(inp, gt, 1, dims=[1,2]))\n",
    "            d2.append(dice_score(inp, gt, 2, dims=[1,2]))\n",
    "            d3.append(dice_score(inp, gt, 3, dims=[1,2]))\n",
    "        l = len(self.dice_0_per_slice_log)\n",
    "        self.dice_0_per_slice_log.loc[l] = d0\n",
    "        self.dice_1_per_slice_log.loc[l] = d1\n",
    "        self.dice_2_per_slice_log.loc[l] = d2\n",
    "        self.dice_3_per_slice_log.loc[l] = d3\n",
    "\n",
    "\n",
    "    def run_trainer(self):\n",
    "\n",
    "        if self.notebook:\n",
    "            from tqdm.notebook import tqdm, trange\n",
    "        else:\n",
    "            from tqdm import tqdm, trange\n",
    "\n",
    "        progressbar = trange(self.epochs, desc='Progress')\n",
    "        for i in progressbar:\n",
    "            \"\"\"Epoch counter\"\"\"\n",
    "            self.epoch += 1  # epoch counter\n",
    "\n",
    "            \"\"\"Training block\"\"\"\n",
    "            self._train()\n",
    "\n",
    "            \"\"\"Validation block\"\"\"\n",
    "            if self.validation_DataLoader is not None:\n",
    "                self._validate()\n",
    "\n",
    "            \"\"\"Learning rate scheduler block\"\"\"\n",
    "            if self.lr_scheduler is not None:\n",
    "                if self.validation_DataLoader is not None and self.lr_scheduler.__class__.__name__ == 'ReduceLROnPlateau':\n",
    "                    self.lr_scheduler.batch(self.validation_loss[i])  # learning rate scheduler step with validation loss\n",
    "                else:\n",
    "                    self.lr_scheduler.batch()  # learning rate scheduler step\n",
    "            \n",
    "            print(f\"epoch number {self.epoch} finished with validation dices as follows:\")\n",
    "            print('\\t calss 0:', self.validation_dices_c0[i])\n",
    "            print('\\t calss 1:', self.validation_dices_c1[i])\n",
    "            print('\\t calss 2:', self.validation_dices_c2[i])\n",
    "            print('\\t calss 3:', self.validation_dices_c3[i])\n",
    "\n",
    "            log_dict = {'epoch' : self.epoch,\n",
    "                        't_dice_0': self.train_dices_c0[i], 't_dice_1': self.train_dices_c1[i],\n",
    "                        't_dice_2': self.train_dices_c2[i], 't_dice_3': self.train_dices_c3[i],\n",
    "                        'v_dice_0':self.validation_dices_c0[i], 'v_dice_1':self.validation_dices_c1[i],\n",
    "                        'v_dice_2':self.validation_dices_c2[i], 'v_dice_3':self.validation_dices_c3[i],\n",
    "                        't_loss': self.training_loss[i], 'v_loss':self.validation_loss[i] }\n",
    "#             print(log_dict)\n",
    "            self.log = self.log.append(log_dict, ignore_index=True)\n",
    "#             print(self.log)\n",
    "\n",
    "            if i % 10 == 0:\n",
    "                torch.save(self.model,'unet_3d.pt')\n",
    "                self.log.to_csv('log.csv', index=False)\n",
    "                self.dice_0_per_slice_log.to_csv('dice_0_per_slice_log.csv', index=False)\n",
    "                self.dice_1_per_slice_log.to_csv('dice_1_per_slice_log.csv', index=False)\n",
    "                self.dice_2_per_slice_log.to_csv('dice_2_per_slice_log.csv', index=False)\n",
    "                self.dice_3_per_slice_log.to_csv('dice_3_per_slice_log.csv', index=False)\n",
    "        \n",
    "        self.log.to_csv('log.csv', index=False)\n",
    "        return self.training_loss, self.validation_loss, self.validation_dices_c0, self.validation_dices_c1, self.validation_dices_c2, self.validation_dices_c3\n",
    "\n",
    "    def _train(self):\n",
    "\n",
    "        if self.notebook:\n",
    "            from tqdm.notebook import tqdm, trange\n",
    "        else:\n",
    "            from tqdm import tqdm, trange\n",
    "\n",
    "        self.model.train()  # train mode\n",
    "        train_losses = []  # accumulate the losses here\n",
    "\n",
    "        t_dices_c0 = []\n",
    "        t_dices_c1 = []\n",
    "        t_dices_c2 = []\n",
    "        t_dices_c3 = []\n",
    "        \n",
    "        batch_iter = tqdm(enumerate(self.training_DataLoader), 'Training', total=len(self.training_DataLoader),\n",
    "                          leave=False)\n",
    "\n",
    "        for i, (x, y) in batch_iter:\n",
    "            input, target = x.to(0), y.to(0)  # send to device (GPU or CPU)\n",
    "            self.optimizer.zero_grad()  # zerograd the parameters\n",
    "            out = self.model(input)  # one forward pass\n",
    "#             print('shape of output:', out.shape)\n",
    "#             print('shape of target:', target.shape)\n",
    "            loss = self.criterion(out, target)  # calculate loss\n",
    "            loss_value = loss.item()\n",
    "            train_losses.append(loss_value)\n",
    "            loss.backward()  # one backward pass\n",
    "            self.optimizer.step()  # update the parameters\n",
    "            \n",
    "            t_dices_c0.append(dice_score(out, target, 0))\n",
    "            t_dices_c1.append(dice_score(out, target, 1))\n",
    "            t_dices_c2.append(dice_score(out, target, 2))\n",
    "            t_dices_c3.append(dice_score(out, target, 3))\n",
    "\n",
    "            batch_iter.set_description(f'Training: (loss {loss_value:.4f})')  # update progressbar\n",
    "\n",
    "        self.training_loss.append(np.mean(train_losses))\n",
    "\n",
    "        self.train_dices_c0.append(np.mean(t_dices_c0))\n",
    "        self.train_dices_c1.append(np.mean(t_dices_c1))\n",
    "        self.train_dices_c2.append(np.mean(t_dices_c2))\n",
    "        self.train_dices_c3.append(np.mean(t_dices_c3))\n",
    "\n",
    "        self.learning_rate.append(self.optimizer.param_groups[0]['lr'])\n",
    "\n",
    "        batch_iter.close()\n",
    "\n",
    "    def _validate(self):\n",
    "\n",
    "        if self.notebook:\n",
    "            from tqdm.notebook import tqdm, trange\n",
    "        else:\n",
    "            from tqdm import tqdm, trange\n",
    "\n",
    "        self.model.eval()  # evaluation mode\n",
    "        valid_losses = []  # accumulate the losses here\n",
    "        valid_dices_c0 = []\n",
    "        valid_dices_c1 = []\n",
    "        valid_dices_c2 = []\n",
    "        valid_dices_c3 = []\n",
    "        \n",
    "        batch_iter = tqdm(enumerate(self.validation_DataLoader), 'Validation', total=len(self.validation_DataLoader),\n",
    "                          leave=False)\n",
    "\n",
    "        for i, (x, y) in batch_iter:\n",
    "            input, target = x.to(self.device), y.to(self.device)  # send to device (GPU or CPU)\n",
    "\n",
    "            with torch.no_grad():\n",
    "                out = self.model(input)\n",
    "                loss = self.criterion(out, target)\n",
    "                loss_value = loss.item()\n",
    "                valid_losses.append(loss_value)\n",
    "                \n",
    "    \n",
    "                valid_dices_c0.append(dice_score(out, target, 0))\n",
    "                valid_dices_c1.append(dice_score(out, target, 1))\n",
    "                valid_dices_c2.append(dice_score(out, target, 2))\n",
    "                valid_dices_c3.append(dice_score(out, target, 3))\n",
    "                \n",
    "                self.dice_per_slice(out, target, 0)\n",
    "                self.dice_per_slice(out, target, 1)\n",
    "                self.dice_per_slice(out, target, 2)\n",
    "                self.dice_per_slice(out, target, 3)\n",
    "\n",
    "                batch_iter.set_description(f'Validation: (loss {loss_value:.4f})')\n",
    "\n",
    "        self.validation_loss.append(np.mean(valid_losses))\n",
    "        \n",
    "        self.validation_dices_c0.append(np.mean(valid_dices_c0))\n",
    "        self.validation_dices_c1.append(np.mean(valid_dices_c1))\n",
    "        self.validation_dices_c2.append(np.mean(valid_dices_c2))\n",
    "        self.validation_dices_c3.append(np.mean(valid_dices_c3))\n",
    "        \n",
    "        batch_iter.close()"
   ]
  },
  {
   "cell_type": "markdown",
   "metadata": {},
   "source": [
    "# Train"
   ]
  },
  {
   "cell_type": "code",
   "execution_count": 11,
   "metadata": {},
   "outputs": [],
   "source": [
    "# device\n",
    "if torch.cuda.is_available():\n",
    "    device = torch.device('cuda')\n",
    "else:\n",
    "    device= torch.device('cpu')"
   ]
  },
  {
   "cell_type": "code",
   "execution_count": 12,
   "metadata": {},
   "outputs": [],
   "source": [
    "model = UNet(in_channels=1,\n",
    "             out_channels=4,\n",
    "             n_blocks=3,\n",
    "             start_filters=32,\n",
    "             activation='relu',\n",
    "             normalization='batch',\n",
    "             conv_mode='same',\n",
    "             dim=3).to(device)\n",
    "\n",
    "# model = torch.load(dataDir + 'unet_3d.pt')"
   ]
  },
  {
   "cell_type": "code",
   "execution_count": 13,
   "metadata": {},
   "outputs": [
    {
     "data": {
      "application/vnd.jupyter.widget-view+json": {
       "model_id": "80f9c75a93234206b8f2f0c3773bec40",
       "version_major": 2,
       "version_minor": 0
      },
      "text/plain": [
       "HBox(children=(FloatProgress(value=0.0, description='Progress', max=60.0, style=ProgressStyle(description_widt…"
      ]
     },
     "metadata": {},
     "output_type": "display_data"
    },
    {
     "data": {
      "application/vnd.jupyter.widget-view+json": {
       "model_id": "76cf36cf58874c969f84ecade6bbf084",
       "version_major": 2,
       "version_minor": 0
      },
      "text/plain": [
       "HBox(children=(FloatProgress(value=0.0, description='Training', max=75.0, style=ProgressStyle(description_widt…"
      ]
     },
     "metadata": {},
     "output_type": "display_data"
    },
    {
     "name": "stdout",
     "output_type": "stream",
     "text": [
      "epoch number 1 finished with validation dices as follows:\n",
      "\t calss 0: 0.9870330095291138\n",
      "\t calss 1: 0.01665152493660571\n",
      "\t calss 2: 0.02422551703057252\n",
      "\t calss 3: 0.005807968558656285\n"
     ]
    },
    {
     "data": {
      "application/vnd.jupyter.widget-view+json": {
       "model_id": "",
       "version_major": 2,
       "version_minor": 0
      },
      "text/plain": [
       "HBox(children=(FloatProgress(value=0.0, description='Training', max=75.0, style=ProgressStyle(description_widt…"
      ]
     },
     "metadata": {},
     "output_type": "display_data"
    },
    {
     "data": {
      "application/vnd.jupyter.widget-view+json": {
       "model_id": "",
       "version_major": 2,
       "version_minor": 0
      },
      "text/plain": [
       "HBox(children=(FloatProgress(value=0.0, description='Validation', max=4.0, style=ProgressStyle(description_wid…"
      ]
     },
     "metadata": {},
     "output_type": "display_data"
    },
    {
     "name": "stdout",
     "output_type": "stream",
     "text": [
      "epoch number 2 finished with validation dices as follows:\n",
      "\t calss 0: 0.9910843521356583\n",
      "\t calss 1: 0.011009721358277602\n",
      "\t calss 2: 0.01367137412307784\n",
      "\t calss 3: 0.011739593697711825\n"
     ]
    },
    {
     "data": {
      "application/vnd.jupyter.widget-view+json": {
       "model_id": "",
       "version_major": 2,
       "version_minor": 0
      },
      "text/plain": [
       "HBox(children=(FloatProgress(value=0.0, description='Training', max=75.0, style=ProgressStyle(description_widt…"
      ]
     },
     "metadata": {},
     "output_type": "display_data"
    },
    {
     "data": {
      "application/vnd.jupyter.widget-view+json": {
       "model_id": "",
       "version_major": 2,
       "version_minor": 0
      },
      "text/plain": [
       "HBox(children=(FloatProgress(value=0.0, description='Validation', max=4.0, style=ProgressStyle(description_wid…"
      ]
     },
     "metadata": {},
     "output_type": "display_data"
    },
    {
     "name": "stdout",
     "output_type": "stream",
     "text": [
      "epoch number 3 finished with validation dices as follows:\n",
      "\t calss 0: 0.9922052770853043\n",
      "\t calss 1: 0.00801261010565213\n",
      "\t calss 2: 0.011253106378717348\n",
      "\t calss 3: 0.07438927609473467\n"
     ]
    },
    {
     "data": {
      "application/vnd.jupyter.widget-view+json": {
       "model_id": "",
       "version_major": 2,
       "version_minor": 0
      },
      "text/plain": [
       "HBox(children=(FloatProgress(value=0.0, description='Training', max=75.0, style=ProgressStyle(description_widt…"
      ]
     },
     "metadata": {},
     "output_type": "display_data"
    },
    {
     "data": {
      "application/vnd.jupyter.widget-view+json": {
       "model_id": "",
       "version_major": 2,
       "version_minor": 0
      },
      "text/plain": [
       "HBox(children=(FloatProgress(value=0.0, description='Validation', max=4.0, style=ProgressStyle(description_wid…"
      ]
     },
     "metadata": {},
     "output_type": "display_data"
    },
    {
     "name": "stdout",
     "output_type": "stream",
     "text": [
      "epoch number 4 finished with validation dices as follows:\n",
      "\t calss 0: 0.9923641979694366\n",
      "\t calss 1: 0.009370640473207459\n",
      "\t calss 2: 0.013836204016115516\n",
      "\t calss 3: 0.1651301570236683\n"
     ]
    },
    {
     "data": {
      "application/vnd.jupyter.widget-view+json": {
       "model_id": "",
       "version_major": 2,
       "version_minor": 0
      },
      "text/plain": [
       "HBox(children=(FloatProgress(value=0.0, description='Training', max=75.0, style=ProgressStyle(description_widt…"
      ]
     },
     "metadata": {},
     "output_type": "display_data"
    },
    {
     "data": {
      "application/vnd.jupyter.widget-view+json": {
       "model_id": "",
       "version_major": 2,
       "version_minor": 0
      },
      "text/plain": [
       "HBox(children=(FloatProgress(value=0.0, description='Validation', max=4.0, style=ProgressStyle(description_wid…"
      ]
     },
     "metadata": {},
     "output_type": "display_data"
    },
    {
     "name": "stdout",
     "output_type": "stream",
     "text": [
      "epoch number 5 finished with validation dices as follows:\n",
      "\t calss 0: 0.9924132078886032\n",
      "\t calss 1: 0.010923411857220344\n",
      "\t calss 2: 0.014862211421132088\n",
      "\t calss 3: 0.2784881740808487\n"
     ]
    },
    {
     "data": {
      "application/vnd.jupyter.widget-view+json": {
       "model_id": "",
       "version_major": 2,
       "version_minor": 0
      },
      "text/plain": [
       "HBox(children=(FloatProgress(value=0.0, description='Training', max=75.0, style=ProgressStyle(description_widt…"
      ]
     },
     "metadata": {},
     "output_type": "display_data"
    },
    {
     "data": {
      "application/vnd.jupyter.widget-view+json": {
       "model_id": "",
       "version_major": 2,
       "version_minor": 0
      },
      "text/plain": [
       "HBox(children=(FloatProgress(value=0.0, description='Validation', max=4.0, style=ProgressStyle(description_wid…"
      ]
     },
     "metadata": {},
     "output_type": "display_data"
    },
    {
     "name": "stdout",
     "output_type": "stream",
     "text": [
      "epoch number 6 finished with validation dices as follows:\n",
      "\t calss 0: 0.9924615323543549\n",
      "\t calss 1: 0.006591162309632637\n",
      "\t calss 2: 0.007577173397294246\n",
      "\t calss 3: 0.5579689964652061\n"
     ]
    },
    {
     "data": {
      "application/vnd.jupyter.widget-view+json": {
       "model_id": "",
       "version_major": 2,
       "version_minor": 0
      },
      "text/plain": [
       "HBox(children=(FloatProgress(value=0.0, description='Training', max=75.0, style=ProgressStyle(description_widt…"
      ]
     },
     "metadata": {},
     "output_type": "display_data"
    },
    {
     "data": {
      "application/vnd.jupyter.widget-view+json": {
       "model_id": "",
       "version_major": 2,
       "version_minor": 0
      },
      "text/plain": [
       "HBox(children=(FloatProgress(value=0.0, description='Validation', max=4.0, style=ProgressStyle(description_wid…"
      ]
     },
     "metadata": {},
     "output_type": "display_data"
    },
    {
     "name": "stdout",
     "output_type": "stream",
     "text": [
      "epoch number 7 finished with validation dices as follows:\n",
      "\t calss 0: 0.9924807697534561\n",
      "\t calss 1: 0.006530775222927332\n",
      "\t calss 2: 0.009583755876519717\n",
      "\t calss 3: 0.7138836085796356\n"
     ]
    },
    {
     "data": {
      "application/vnd.jupyter.widget-view+json": {
       "model_id": "",
       "version_major": 2,
       "version_minor": 0
      },
      "text/plain": [
       "HBox(children=(FloatProgress(value=0.0, description='Training', max=75.0, style=ProgressStyle(description_widt…"
      ]
     },
     "metadata": {},
     "output_type": "display_data"
    },
    {
     "data": {
      "application/vnd.jupyter.widget-view+json": {
       "model_id": "",
       "version_major": 2,
       "version_minor": 0
      },
      "text/plain": [
       "HBox(children=(FloatProgress(value=0.0, description='Validation', max=4.0, style=ProgressStyle(description_wid…"
      ]
     },
     "metadata": {},
     "output_type": "display_data"
    },
    {
     "name": "stdout",
     "output_type": "stream",
     "text": [
      "epoch number 8 finished with validation dices as follows:\n",
      "\t calss 0: 0.9924537986516953\n",
      "\t calss 1: 0.011314717354252934\n",
      "\t calss 2: 0.013019969337619841\n",
      "\t calss 3: 0.6198887228965759\n"
     ]
    },
    {
     "data": {
      "application/vnd.jupyter.widget-view+json": {
       "model_id": "",
       "version_major": 2,
       "version_minor": 0
      },
      "text/plain": [
       "HBox(children=(FloatProgress(value=0.0, description='Training', max=75.0, style=ProgressStyle(description_widt…"
      ]
     },
     "metadata": {},
     "output_type": "display_data"
    },
    {
     "data": {
      "application/vnd.jupyter.widget-view+json": {
       "model_id": "",
       "version_major": 2,
       "version_minor": 0
      },
      "text/plain": [
       "HBox(children=(FloatProgress(value=0.0, description='Validation', max=4.0, style=ProgressStyle(description_wid…"
      ]
     },
     "metadata": {},
     "output_type": "display_data"
    },
    {
     "name": "stdout",
     "output_type": "stream",
     "text": [
      "epoch number 9 finished with validation dices as follows:\n",
      "\t calss 0: 0.9923790842294693\n",
      "\t calss 1: 0.016498287208378315\n",
      "\t calss 2: 0.022421657340601087\n",
      "\t calss 3: 0.42826077342033386\n"
     ]
    },
    {
     "data": {
      "application/vnd.jupyter.widget-view+json": {
       "model_id": "",
       "version_major": 2,
       "version_minor": 0
      },
      "text/plain": [
       "HBox(children=(FloatProgress(value=0.0, description='Training', max=75.0, style=ProgressStyle(description_widt…"
      ]
     },
     "metadata": {},
     "output_type": "display_data"
    },
    {
     "data": {
      "application/vnd.jupyter.widget-view+json": {
       "model_id": "",
       "version_major": 2,
       "version_minor": 0
      },
      "text/plain": [
       "HBox(children=(FloatProgress(value=0.0, description='Validation', max=4.0, style=ProgressStyle(description_wid…"
      ]
     },
     "metadata": {},
     "output_type": "display_data"
    },
    {
     "name": "stdout",
     "output_type": "stream",
     "text": [
      "epoch number 10 finished with validation dices as follows:\n",
      "\t calss 0: 0.9923209697008133\n",
      "\t calss 1: 0.024916223948821425\n",
      "\t calss 2: 0.028727588360197842\n",
      "\t calss 3: 0.43401846289634705\n"
     ]
    },
    {
     "data": {
      "application/vnd.jupyter.widget-view+json": {
       "model_id": "",
       "version_major": 2,
       "version_minor": 0
      },
      "text/plain": [
       "HBox(children=(FloatProgress(value=0.0, description='Training', max=75.0, style=ProgressStyle(description_widt…"
      ]
     },
     "metadata": {},
     "output_type": "display_data"
    },
    {
     "data": {
      "application/vnd.jupyter.widget-view+json": {
       "model_id": "",
       "version_major": 2,
       "version_minor": 0
      },
      "text/plain": [
       "HBox(children=(FloatProgress(value=0.0, description='Validation', max=4.0, style=ProgressStyle(description_wid…"
      ]
     },
     "metadata": {},
     "output_type": "display_data"
    },
    {
     "name": "stdout",
     "output_type": "stream",
     "text": [
      "epoch number 11 finished with validation dices as follows:\n",
      "\t calss 0: 0.992417111992836\n",
      "\t calss 1: 0.014383834437467158\n",
      "\t calss 2: 0.014602584298700094\n",
      "\t calss 3: 0.5054741874337196\n"
     ]
    },
    {
     "data": {
      "application/vnd.jupyter.widget-view+json": {
       "model_id": "",
       "version_major": 2,
       "version_minor": 0
      },
      "text/plain": [
       "HBox(children=(FloatProgress(value=0.0, description='Training', max=75.0, style=ProgressStyle(description_widt…"
      ]
     },
     "metadata": {},
     "output_type": "display_data"
    },
    {
     "data": {
      "application/vnd.jupyter.widget-view+json": {
       "model_id": "",
       "version_major": 2,
       "version_minor": 0
      },
      "text/plain": [
       "HBox(children=(FloatProgress(value=0.0, description='Validation', max=4.0, style=ProgressStyle(description_wid…"
      ]
     },
     "metadata": {},
     "output_type": "display_data"
    },
    {
     "name": "stdout",
     "output_type": "stream",
     "text": [
      "epoch number 12 finished with validation dices as follows:\n",
      "\t calss 0: 0.992403656244278\n",
      "\t calss 1: 0.025458185002207756\n",
      "\t calss 2: 0.01935716182924807\n",
      "\t calss 3: 0.560699000954628\n"
     ]
    },
    {
     "data": {
      "application/vnd.jupyter.widget-view+json": {
       "model_id": "",
       "version_major": 2,
       "version_minor": 0
      },
      "text/plain": [
       "HBox(children=(FloatProgress(value=0.0, description='Training', max=75.0, style=ProgressStyle(description_widt…"
      ]
     },
     "metadata": {},
     "output_type": "display_data"
    },
    {
     "data": {
      "application/vnd.jupyter.widget-view+json": {
       "model_id": "",
       "version_major": 2,
       "version_minor": 0
      },
      "text/plain": [
       "HBox(children=(FloatProgress(value=0.0, description='Validation', max=4.0, style=ProgressStyle(description_wid…"
      ]
     },
     "metadata": {},
     "output_type": "display_data"
    },
    {
     "name": "stdout",
     "output_type": "stream",
     "text": [
      "epoch number 13 finished with validation dices as follows:\n",
      "\t calss 0: 0.9919930994510651\n",
      "\t calss 1: 0.09793187701143324\n",
      "\t calss 2: 0.06296964269131422\n",
      "\t calss 3: 0.3089119251817465\n"
     ]
    },
    {
     "data": {
      "application/vnd.jupyter.widget-view+json": {
       "model_id": "",
       "version_major": 2,
       "version_minor": 0
      },
      "text/plain": [
       "HBox(children=(FloatProgress(value=0.0, description='Training', max=75.0, style=ProgressStyle(description_widt…"
      ]
     },
     "metadata": {},
     "output_type": "display_data"
    },
    {
     "data": {
      "application/vnd.jupyter.widget-view+json": {
       "model_id": "",
       "version_major": 2,
       "version_minor": 0
      },
      "text/plain": [
       "HBox(children=(FloatProgress(value=0.0, description='Validation', max=4.0, style=ProgressStyle(description_wid…"
      ]
     },
     "metadata": {},
     "output_type": "display_data"
    },
    {
     "name": "stdout",
     "output_type": "stream",
     "text": [
      "epoch number 14 finished with validation dices as follows:\n",
      "\t calss 0: 0.9924347996711731\n",
      "\t calss 1: 0.05622010212391615\n",
      "\t calss 2: 0.03132289397763088\n",
      "\t calss 3: 0.42744619585573673\n"
     ]
    },
    {
     "data": {
      "application/vnd.jupyter.widget-view+json": {
       "model_id": "",
       "version_major": 2,
       "version_minor": 0
      },
      "text/plain": [
       "HBox(children=(FloatProgress(value=0.0, description='Training', max=75.0, style=ProgressStyle(description_widt…"
      ]
     },
     "metadata": {},
     "output_type": "display_data"
    },
    {
     "data": {
      "application/vnd.jupyter.widget-view+json": {
       "model_id": "",
       "version_major": 2,
       "version_minor": 0
      },
      "text/plain": [
       "HBox(children=(FloatProgress(value=0.0, description='Validation', max=4.0, style=ProgressStyle(description_wid…"
      ]
     },
     "metadata": {},
     "output_type": "display_data"
    },
    {
     "name": "stdout",
     "output_type": "stream",
     "text": [
      "epoch number 15 finished with validation dices as follows:\n",
      "\t calss 0: 0.9924609661102295\n",
      "\t calss 1: 0.06536065170075744\n",
      "\t calss 2: 0.026255410019075498\n",
      "\t calss 3: 0.4750605970621109\n"
     ]
    },
    {
     "data": {
      "application/vnd.jupyter.widget-view+json": {
       "model_id": "",
       "version_major": 2,
       "version_minor": 0
      },
      "text/plain": [
       "HBox(children=(FloatProgress(value=0.0, description='Training', max=75.0, style=ProgressStyle(description_widt…"
      ]
     },
     "metadata": {},
     "output_type": "display_data"
    },
    {
     "data": {
      "application/vnd.jupyter.widget-view+json": {
       "model_id": "",
       "version_major": 2,
       "version_minor": 0
      },
      "text/plain": [
       "HBox(children=(FloatProgress(value=0.0, description='Validation', max=4.0, style=ProgressStyle(description_wid…"
      ]
     },
     "metadata": {},
     "output_type": "display_data"
    },
    {
     "name": "stdout",
     "output_type": "stream",
     "text": [
      "epoch number 16 finished with validation dices as follows:\n",
      "\t calss 0: 0.992703303694725\n",
      "\t calss 1: 0.06799219222739339\n",
      "\t calss 2: 0.031737570170662366\n",
      "\t calss 3: 0.5047625135630369\n"
     ]
    },
    {
     "data": {
      "application/vnd.jupyter.widget-view+json": {
       "model_id": "",
       "version_major": 2,
       "version_minor": 0
      },
      "text/plain": [
       "HBox(children=(FloatProgress(value=0.0, description='Training', max=75.0, style=ProgressStyle(description_widt…"
      ]
     },
     "metadata": {},
     "output_type": "display_data"
    },
    {
     "data": {
      "application/vnd.jupyter.widget-view+json": {
       "model_id": "",
       "version_major": 2,
       "version_minor": 0
      },
      "text/plain": [
       "HBox(children=(FloatProgress(value=0.0, description='Validation', max=4.0, style=ProgressStyle(description_wid…"
      ]
     },
     "metadata": {},
     "output_type": "display_data"
    },
    {
     "name": "stdout",
     "output_type": "stream",
     "text": [
      "epoch number 17 finished with validation dices as follows:\n",
      "\t calss 0: 0.9927186518907547\n",
      "\t calss 1: 0.10547448694705963\n",
      "\t calss 2: 0.03936188970692456\n",
      "\t calss 3: 0.5582332536578178\n"
     ]
    },
    {
     "data": {
      "application/vnd.jupyter.widget-view+json": {
       "model_id": "",
       "version_major": 2,
       "version_minor": 0
      },
      "text/plain": [
       "HBox(children=(FloatProgress(value=0.0, description='Training', max=75.0, style=ProgressStyle(description_widt…"
      ]
     },
     "metadata": {},
     "output_type": "display_data"
    },
    {
     "data": {
      "application/vnd.jupyter.widget-view+json": {
       "model_id": "",
       "version_major": 2,
       "version_minor": 0
      },
      "text/plain": [
       "HBox(children=(FloatProgress(value=0.0, description='Validation', max=4.0, style=ProgressStyle(description_wid…"
      ]
     },
     "metadata": {},
     "output_type": "display_data"
    },
    {
     "name": "stdout",
     "output_type": "stream",
     "text": [
      "epoch number 18 finished with validation dices as follows:\n",
      "\t calss 0: 0.9928237646818161\n",
      "\t calss 1: 0.11742923595011234\n",
      "\t calss 2: 0.03825700329616666\n",
      "\t calss 3: 0.48302291333675385\n"
     ]
    },
    {
     "data": {
      "application/vnd.jupyter.widget-view+json": {
       "model_id": "",
       "version_major": 2,
       "version_minor": 0
      },
      "text/plain": [
       "HBox(children=(FloatProgress(value=0.0, description='Training', max=75.0, style=ProgressStyle(description_widt…"
      ]
     },
     "metadata": {},
     "output_type": "display_data"
    },
    {
     "data": {
      "application/vnd.jupyter.widget-view+json": {
       "model_id": "",
       "version_major": 2,
       "version_minor": 0
      },
      "text/plain": [
       "HBox(children=(FloatProgress(value=0.0, description='Validation', max=4.0, style=ProgressStyle(description_wid…"
      ]
     },
     "metadata": {},
     "output_type": "display_data"
    },
    {
     "name": "stdout",
     "output_type": "stream",
     "text": [
      "epoch number 19 finished with validation dices as follows:\n",
      "\t calss 0: 0.9907685220241547\n",
      "\t calss 1: 0.1804621834307909\n",
      "\t calss 2: 0.07775603048503399\n",
      "\t calss 3: 0.2678267313167453\n"
     ]
    },
    {
     "data": {
      "application/vnd.jupyter.widget-view+json": {
       "model_id": "",
       "version_major": 2,
       "version_minor": 0
      },
      "text/plain": [
       "HBox(children=(FloatProgress(value=0.0, description='Training', max=75.0, style=ProgressStyle(description_widt…"
      ]
     },
     "metadata": {},
     "output_type": "display_data"
    },
    {
     "data": {
      "application/vnd.jupyter.widget-view+json": {
       "model_id": "",
       "version_major": 2,
       "version_minor": 0
      },
      "text/plain": [
       "HBox(children=(FloatProgress(value=0.0, description='Validation', max=4.0, style=ProgressStyle(description_wid…"
      ]
     },
     "metadata": {},
     "output_type": "display_data"
    },
    {
     "name": "stdout",
     "output_type": "stream",
     "text": [
      "epoch number 20 finished with validation dices as follows:\n",
      "\t calss 0: 0.9928646385669708\n",
      "\t calss 1: 0.16827579215168953\n",
      "\t calss 2: 0.06037150043994188\n",
      "\t calss 3: 0.37139035761356354\n"
     ]
    },
    {
     "data": {
      "application/vnd.jupyter.widget-view+json": {
       "model_id": "",
       "version_major": 2,
       "version_minor": 0
      },
      "text/plain": [
       "HBox(children=(FloatProgress(value=0.0, description='Training', max=75.0, style=ProgressStyle(description_widt…"
      ]
     },
     "metadata": {},
     "output_type": "display_data"
    },
    {
     "data": {
      "application/vnd.jupyter.widget-view+json": {
       "model_id": "",
       "version_major": 2,
       "version_minor": 0
      },
      "text/plain": [
       "HBox(children=(FloatProgress(value=0.0, description='Validation', max=4.0, style=ProgressStyle(description_wid…"
      ]
     },
     "metadata": {},
     "output_type": "display_data"
    },
    {
     "name": "stdout",
     "output_type": "stream",
     "text": [
      "epoch number 21 finished with validation dices as follows:\n",
      "\t calss 0: 0.9924395829439163\n",
      "\t calss 1: 0.19591360166668892\n",
      "\t calss 2: 0.06886698957532644\n",
      "\t calss 3: 0.32990623265504837\n"
     ]
    },
    {
     "data": {
      "application/vnd.jupyter.widget-view+json": {
       "model_id": "",
       "version_major": 2,
       "version_minor": 0
      },
      "text/plain": [
       "HBox(children=(FloatProgress(value=0.0, description='Training', max=75.0, style=ProgressStyle(description_widt…"
      ]
     },
     "metadata": {},
     "output_type": "display_data"
    },
    {
     "data": {
      "application/vnd.jupyter.widget-view+json": {
       "model_id": "",
       "version_major": 2,
       "version_minor": 0
      },
      "text/plain": [
       "HBox(children=(FloatProgress(value=0.0, description='Validation', max=4.0, style=ProgressStyle(description_wid…"
      ]
     },
     "metadata": {},
     "output_type": "display_data"
    },
    {
     "name": "stdout",
     "output_type": "stream",
     "text": [
      "epoch number 22 finished with validation dices as follows:\n",
      "\t calss 0: 0.9926642775535583\n",
      "\t calss 1: 0.05664669256657362\n",
      "\t calss 2: 0.013539470382966101\n",
      "\t calss 3: 0.6603237092494965\n"
     ]
    },
    {
     "data": {
      "application/vnd.jupyter.widget-view+json": {
       "model_id": "",
       "version_major": 2,
       "version_minor": 0
      },
      "text/plain": [
       "HBox(children=(FloatProgress(value=0.0, description='Training', max=75.0, style=ProgressStyle(description_widt…"
      ]
     },
     "metadata": {},
     "output_type": "display_data"
    },
    {
     "data": {
      "application/vnd.jupyter.widget-view+json": {
       "model_id": "",
       "version_major": 2,
       "version_minor": 0
      },
      "text/plain": [
       "HBox(children=(FloatProgress(value=0.0, description='Validation', max=4.0, style=ProgressStyle(description_wid…"
      ]
     },
     "metadata": {},
     "output_type": "display_data"
    },
    {
     "name": "stdout",
     "output_type": "stream",
     "text": [
      "epoch number 23 finished with validation dices as follows:\n",
      "\t calss 0: 0.9923149198293686\n",
      "\t calss 1: 0.21381725743412971\n",
      "\t calss 2: 0.07725302269682288\n",
      "\t calss 3: 0.3504878683015704\n"
     ]
    },
    {
     "data": {
      "application/vnd.jupyter.widget-view+json": {
       "model_id": "",
       "version_major": 2,
       "version_minor": 0
      },
      "text/plain": [
       "HBox(children=(FloatProgress(value=0.0, description='Training', max=75.0, style=ProgressStyle(description_widt…"
      ]
     },
     "metadata": {},
     "output_type": "display_data"
    },
    {
     "data": {
      "application/vnd.jupyter.widget-view+json": {
       "model_id": "",
       "version_major": 2,
       "version_minor": 0
      },
      "text/plain": [
       "HBox(children=(FloatProgress(value=0.0, description='Validation', max=4.0, style=ProgressStyle(description_wid…"
      ]
     },
     "metadata": {},
     "output_type": "display_data"
    },
    {
     "name": "stdout",
     "output_type": "stream",
     "text": [
      "epoch number 24 finished with validation dices as follows:\n",
      "\t calss 0: 0.9930760264396667\n",
      "\t calss 1: 0.149276124779135\n",
      "\t calss 2: 0.047832516822381876\n",
      "\t calss 3: 0.5992800816893578\n"
     ]
    },
    {
     "data": {
      "application/vnd.jupyter.widget-view+json": {
       "model_id": "",
       "version_major": 2,
       "version_minor": 0
      },
      "text/plain": [
       "HBox(children=(FloatProgress(value=0.0, description='Training', max=75.0, style=ProgressStyle(description_widt…"
      ]
     },
     "metadata": {},
     "output_type": "display_data"
    },
    {
     "data": {
      "application/vnd.jupyter.widget-view+json": {
       "model_id": "",
       "version_major": 2,
       "version_minor": 0
      },
      "text/plain": [
       "HBox(children=(FloatProgress(value=0.0, description='Validation', max=4.0, style=ProgressStyle(description_wid…"
      ]
     },
     "metadata": {},
     "output_type": "display_data"
    },
    {
     "name": "stdout",
     "output_type": "stream",
     "text": [
      "epoch number 25 finished with validation dices as follows:\n",
      "\t calss 0: 0.992947980761528\n",
      "\t calss 1: 0.2087237350642681\n",
      "\t calss 2: 0.03646281361579895\n",
      "\t calss 3: 0.5416024699807167\n"
     ]
    },
    {
     "data": {
      "application/vnd.jupyter.widget-view+json": {
       "model_id": "",
       "version_major": 2,
       "version_minor": 0
      },
      "text/plain": [
       "HBox(children=(FloatProgress(value=0.0, description='Training', max=75.0, style=ProgressStyle(description_widt…"
      ]
     },
     "metadata": {},
     "output_type": "display_data"
    },
    {
     "data": {
      "application/vnd.jupyter.widget-view+json": {
       "model_id": "",
       "version_major": 2,
       "version_minor": 0
      },
      "text/plain": [
       "HBox(children=(FloatProgress(value=0.0, description='Validation', max=4.0, style=ProgressStyle(description_wid…"
      ]
     },
     "metadata": {},
     "output_type": "display_data"
    },
    {
     "name": "stdout",
     "output_type": "stream",
     "text": [
      "epoch number 26 finished with validation dices as follows:\n",
      "\t calss 0: 0.9914654642343521\n",
      "\t calss 1: 0.21859214827418327\n",
      "\t calss 2: 0.07214511558413506\n",
      "\t calss 3: 0.270835695322603\n"
     ]
    },
    {
     "data": {
      "application/vnd.jupyter.widget-view+json": {
       "model_id": "",
       "version_major": 2,
       "version_minor": 0
      },
      "text/plain": [
       "HBox(children=(FloatProgress(value=0.0, description='Training', max=75.0, style=ProgressStyle(description_widt…"
      ]
     },
     "metadata": {},
     "output_type": "display_data"
    },
    {
     "data": {
      "application/vnd.jupyter.widget-view+json": {
       "model_id": "",
       "version_major": 2,
       "version_minor": 0
      },
      "text/plain": [
       "HBox(children=(FloatProgress(value=0.0, description='Validation', max=4.0, style=ProgressStyle(description_wid…"
      ]
     },
     "metadata": {},
     "output_type": "display_data"
    },
    {
     "name": "stdout",
     "output_type": "stream",
     "text": [
      "epoch number 27 finished with validation dices as follows:\n",
      "\t calss 0: 0.9925173372030258\n",
      "\t calss 1: 0.20309947803616524\n",
      "\t calss 2: 0.06519589573144913\n",
      "\t calss 3: 0.33747091330587864\n"
     ]
    },
    {
     "data": {
      "application/vnd.jupyter.widget-view+json": {
       "model_id": "",
       "version_major": 2,
       "version_minor": 0
      },
      "text/plain": [
       "HBox(children=(FloatProgress(value=0.0, description='Training', max=75.0, style=ProgressStyle(description_widt…"
      ]
     },
     "metadata": {},
     "output_type": "display_data"
    },
    {
     "data": {
      "application/vnd.jupyter.widget-view+json": {
       "model_id": "",
       "version_major": 2,
       "version_minor": 0
      },
      "text/plain": [
       "HBox(children=(FloatProgress(value=0.0, description='Validation', max=4.0, style=ProgressStyle(description_wid…"
      ]
     },
     "metadata": {},
     "output_type": "display_data"
    },
    {
     "name": "stdout",
     "output_type": "stream",
     "text": [
      "epoch number 28 finished with validation dices as follows:\n",
      "\t calss 0: 0.9928165376186371\n",
      "\t calss 1: 0.2143121287226677\n",
      "\t calss 2: 0.06648211367428303\n",
      "\t calss 3: 0.39794686157256365\n"
     ]
    },
    {
     "data": {
      "application/vnd.jupyter.widget-view+json": {
       "model_id": "",
       "version_major": 2,
       "version_minor": 0
      },
      "text/plain": [
       "HBox(children=(FloatProgress(value=0.0, description='Training', max=75.0, style=ProgressStyle(description_widt…"
      ]
     },
     "metadata": {},
     "output_type": "display_data"
    },
    {
     "data": {
      "application/vnd.jupyter.widget-view+json": {
       "model_id": "",
       "version_major": 2,
       "version_minor": 0
      },
      "text/plain": [
       "HBox(children=(FloatProgress(value=0.0, description='Validation', max=4.0, style=ProgressStyle(description_wid…"
      ]
     },
     "metadata": {},
     "output_type": "display_data"
    },
    {
     "name": "stdout",
     "output_type": "stream",
     "text": [
      "epoch number 29 finished with validation dices as follows:\n",
      "\t calss 0: 0.9926452189683914\n",
      "\t calss 1: 0.2167433649301529\n",
      "\t calss 2: 0.057216592598706484\n",
      "\t calss 3: 0.4071091506630182\n"
     ]
    },
    {
     "data": {
      "application/vnd.jupyter.widget-view+json": {
       "model_id": "",
       "version_major": 2,
       "version_minor": 0
      },
      "text/plain": [
       "HBox(children=(FloatProgress(value=0.0, description='Training', max=75.0, style=ProgressStyle(description_widt…"
      ]
     },
     "metadata": {},
     "output_type": "display_data"
    },
    {
     "data": {
      "application/vnd.jupyter.widget-view+json": {
       "model_id": "",
       "version_major": 2,
       "version_minor": 0
      },
      "text/plain": [
       "HBox(children=(FloatProgress(value=0.0, description='Validation', max=4.0, style=ProgressStyle(description_wid…"
      ]
     },
     "metadata": {},
     "output_type": "display_data"
    },
    {
     "name": "stdout",
     "output_type": "stream",
     "text": [
      "epoch number 30 finished with validation dices as follows:\n",
      "\t calss 0: 0.9931771010160446\n",
      "\t calss 1: 0.1636456698179245\n",
      "\t calss 2: 0.04662246908992529\n",
      "\t calss 3: 0.6357247531414032\n"
     ]
    },
    {
     "data": {
      "application/vnd.jupyter.widget-view+json": {
       "model_id": "",
       "version_major": 2,
       "version_minor": 0
      },
      "text/plain": [
       "HBox(children=(FloatProgress(value=0.0, description='Training', max=75.0, style=ProgressStyle(description_widt…"
      ]
     },
     "metadata": {},
     "output_type": "display_data"
    },
    {
     "data": {
      "application/vnd.jupyter.widget-view+json": {
       "model_id": "",
       "version_major": 2,
       "version_minor": 0
      },
      "text/plain": [
       "HBox(children=(FloatProgress(value=0.0, description='Validation', max=4.0, style=ProgressStyle(description_wid…"
      ]
     },
     "metadata": {},
     "output_type": "display_data"
    },
    {
     "name": "stdout",
     "output_type": "stream",
     "text": [
      "epoch number 31 finished with validation dices as follows:\n",
      "\t calss 0: 0.9928531795740128\n",
      "\t calss 1: 0.23994333297014236\n",
      "\t calss 2: 0.030153334606438875\n",
      "\t calss 3: 0.42889687418937683\n"
     ]
    },
    {
     "data": {
      "application/vnd.jupyter.widget-view+json": {
       "model_id": "",
       "version_major": 2,
       "version_minor": 0
      },
      "text/plain": [
       "HBox(children=(FloatProgress(value=0.0, description='Training', max=75.0, style=ProgressStyle(description_widt…"
      ]
     },
     "metadata": {},
     "output_type": "display_data"
    },
    {
     "data": {
      "application/vnd.jupyter.widget-view+json": {
       "model_id": "",
       "version_major": 2,
       "version_minor": 0
      },
      "text/plain": [
       "HBox(children=(FloatProgress(value=0.0, description='Validation', max=4.0, style=ProgressStyle(description_wid…"
      ]
     },
     "metadata": {},
     "output_type": "display_data"
    },
    {
     "name": "stdout",
     "output_type": "stream",
     "text": [
      "epoch number 32 finished with validation dices as follows:\n",
      "\t calss 0: 0.9929640889167786\n",
      "\t calss 1: 0.26211637258529663\n",
      "\t calss 2: 0.04826971422880888\n",
      "\t calss 3: 0.367473803460598\n"
     ]
    },
    {
     "data": {
      "application/vnd.jupyter.widget-view+json": {
       "model_id": "",
       "version_major": 2,
       "version_minor": 0
      },
      "text/plain": [
       "HBox(children=(FloatProgress(value=0.0, description='Training', max=75.0, style=ProgressStyle(description_widt…"
      ]
     },
     "metadata": {},
     "output_type": "display_data"
    },
    {
     "data": {
      "application/vnd.jupyter.widget-view+json": {
       "model_id": "",
       "version_major": 2,
       "version_minor": 0
      },
      "text/plain": [
       "HBox(children=(FloatProgress(value=0.0, description='Validation', max=4.0, style=ProgressStyle(description_wid…"
      ]
     },
     "metadata": {},
     "output_type": "display_data"
    },
    {
     "name": "stdout",
     "output_type": "stream",
     "text": [
      "epoch number 33 finished with validation dices as follows:\n",
      "\t calss 0: 0.991812214255333\n",
      "\t calss 1: 0.26209232211112976\n",
      "\t calss 2: 0.07929265592247248\n",
      "\t calss 3: 0.2595624551177025\n"
     ]
    },
    {
     "data": {
      "application/vnd.jupyter.widget-view+json": {
       "model_id": "",
       "version_major": 2,
       "version_minor": 0
      },
      "text/plain": [
       "HBox(children=(FloatProgress(value=0.0, description='Training', max=75.0, style=ProgressStyle(description_widt…"
      ]
     },
     "metadata": {},
     "output_type": "display_data"
    },
    {
     "data": {
      "application/vnd.jupyter.widget-view+json": {
       "model_id": "",
       "version_major": 2,
       "version_minor": 0
      },
      "text/plain": [
       "HBox(children=(FloatProgress(value=0.0, description='Validation', max=4.0, style=ProgressStyle(description_wid…"
      ]
     },
     "metadata": {},
     "output_type": "display_data"
    },
    {
     "name": "stdout",
     "output_type": "stream",
     "text": [
      "epoch number 34 finished with validation dices as follows:\n",
      "\t calss 0: 0.9932430684566498\n",
      "\t calss 1: 0.17669941182248294\n",
      "\t calss 2: 0.0602864227766986\n",
      "\t calss 3: 0.5740011110901833\n"
     ]
    },
    {
     "data": {
      "application/vnd.jupyter.widget-view+json": {
       "model_id": "",
       "version_major": 2,
       "version_minor": 0
      },
      "text/plain": [
       "HBox(children=(FloatProgress(value=0.0, description='Training', max=75.0, style=ProgressStyle(description_widt…"
      ]
     },
     "metadata": {},
     "output_type": "display_data"
    },
    {
     "data": {
      "application/vnd.jupyter.widget-view+json": {
       "model_id": "",
       "version_major": 2,
       "version_minor": 0
      },
      "text/plain": [
       "HBox(children=(FloatProgress(value=0.0, description='Validation', max=4.0, style=ProgressStyle(description_wid…"
      ]
     },
     "metadata": {},
     "output_type": "display_data"
    },
    {
     "name": "stdout",
     "output_type": "stream",
     "text": [
      "epoch number 35 finished with validation dices as follows:\n",
      "\t calss 0: 0.9927422255277634\n",
      "\t calss 1: 0.26254886016249657\n",
      "\t calss 2: 0.07777738338336349\n",
      "\t calss 3: 0.2698998316191137\n"
     ]
    },
    {
     "data": {
      "application/vnd.jupyter.widget-view+json": {
       "model_id": "",
       "version_major": 2,
       "version_minor": 0
      },
      "text/plain": [
       "HBox(children=(FloatProgress(value=0.0, description='Training', max=75.0, style=ProgressStyle(description_widt…"
      ]
     },
     "metadata": {},
     "output_type": "display_data"
    },
    {
     "data": {
      "application/vnd.jupyter.widget-view+json": {
       "model_id": "",
       "version_major": 2,
       "version_minor": 0
      },
      "text/plain": [
       "HBox(children=(FloatProgress(value=0.0, description='Validation', max=4.0, style=ProgressStyle(description_wid…"
      ]
     },
     "metadata": {},
     "output_type": "display_data"
    },
    {
     "name": "stdout",
     "output_type": "stream",
     "text": [
      "epoch number 36 finished with validation dices as follows:\n",
      "\t calss 0: 0.9931977093219757\n",
      "\t calss 1: 0.2121875211596489\n",
      "\t calss 2: 0.0818468825891614\n",
      "\t calss 3: 0.3097495958209038\n"
     ]
    },
    {
     "data": {
      "application/vnd.jupyter.widget-view+json": {
       "model_id": "",
       "version_major": 2,
       "version_minor": 0
      },
      "text/plain": [
       "HBox(children=(FloatProgress(value=0.0, description='Training', max=75.0, style=ProgressStyle(description_widt…"
      ]
     },
     "metadata": {},
     "output_type": "display_data"
    },
    {
     "data": {
      "application/vnd.jupyter.widget-view+json": {
       "model_id": "",
       "version_major": 2,
       "version_minor": 0
      },
      "text/plain": [
       "HBox(children=(FloatProgress(value=0.0, description='Validation', max=4.0, style=ProgressStyle(description_wid…"
      ]
     },
     "metadata": {},
     "output_type": "display_data"
    },
    {
     "name": "stdout",
     "output_type": "stream",
     "text": [
      "epoch number 37 finished with validation dices as follows:\n",
      "\t calss 0: 0.9930593371391296\n",
      "\t calss 1: 0.2632063403725624\n",
      "\t calss 2: 0.07469777390360832\n",
      "\t calss 3: 0.27739684795960784\n"
     ]
    },
    {
     "data": {
      "application/vnd.jupyter.widget-view+json": {
       "model_id": "",
       "version_major": 2,
       "version_minor": 0
      },
      "text/plain": [
       "HBox(children=(FloatProgress(value=0.0, description='Training', max=75.0, style=ProgressStyle(description_widt…"
      ]
     },
     "metadata": {},
     "output_type": "display_data"
    },
    {
     "data": {
      "application/vnd.jupyter.widget-view+json": {
       "model_id": "",
       "version_major": 2,
       "version_minor": 0
      },
      "text/plain": [
       "HBox(children=(FloatProgress(value=0.0, description='Validation', max=4.0, style=ProgressStyle(description_wid…"
      ]
     },
     "metadata": {},
     "output_type": "display_data"
    },
    {
     "name": "stdout",
     "output_type": "stream",
     "text": [
      "epoch number 38 finished with validation dices as follows:\n",
      "\t calss 0: 0.9931715279817581\n",
      "\t calss 1: 0.24473080039024353\n",
      "\t calss 2: 0.06766823539510369\n",
      "\t calss 3: 0.404101200401783\n"
     ]
    },
    {
     "data": {
      "application/vnd.jupyter.widget-view+json": {
       "model_id": "",
       "version_major": 2,
       "version_minor": 0
      },
      "text/plain": [
       "HBox(children=(FloatProgress(value=0.0, description='Training', max=75.0, style=ProgressStyle(description_widt…"
      ]
     },
     "metadata": {},
     "output_type": "display_data"
    },
    {
     "data": {
      "application/vnd.jupyter.widget-view+json": {
       "model_id": "",
       "version_major": 2,
       "version_minor": 0
      },
      "text/plain": [
       "HBox(children=(FloatProgress(value=0.0, description='Validation', max=4.0, style=ProgressStyle(description_wid…"
      ]
     },
     "metadata": {},
     "output_type": "display_data"
    },
    {
     "name": "stdout",
     "output_type": "stream",
     "text": [
      "epoch number 39 finished with validation dices as follows:\n",
      "\t calss 0: 0.992998942732811\n",
      "\t calss 1: 0.14805850386619568\n",
      "\t calss 2: 0.020264500053599477\n",
      "\t calss 3: 0.5829778611660004\n"
     ]
    },
    {
     "data": {
      "application/vnd.jupyter.widget-view+json": {
       "model_id": "",
       "version_major": 2,
       "version_minor": 0
      },
      "text/plain": [
       "HBox(children=(FloatProgress(value=0.0, description='Training', max=75.0, style=ProgressStyle(description_widt…"
      ]
     },
     "metadata": {},
     "output_type": "display_data"
    },
    {
     "data": {
      "application/vnd.jupyter.widget-view+json": {
       "model_id": "",
       "version_major": 2,
       "version_minor": 0
      },
      "text/plain": [
       "HBox(children=(FloatProgress(value=0.0, description='Validation', max=4.0, style=ProgressStyle(description_wid…"
      ]
     },
     "metadata": {},
     "output_type": "display_data"
    },
    {
     "name": "stdout",
     "output_type": "stream",
     "text": [
      "epoch number 40 finished with validation dices as follows:\n",
      "\t calss 0: 0.9932007640600204\n",
      "\t calss 1: 0.23579450696706772\n",
      "\t calss 2: 0.07009261660277843\n",
      "\t calss 3: 0.2703719390556216\n"
     ]
    },
    {
     "data": {
      "application/vnd.jupyter.widget-view+json": {
       "model_id": "",
       "version_major": 2,
       "version_minor": 0
      },
      "text/plain": [
       "HBox(children=(FloatProgress(value=0.0, description='Training', max=75.0, style=ProgressStyle(description_widt…"
      ]
     },
     "metadata": {},
     "output_type": "display_data"
    },
    {
     "data": {
      "application/vnd.jupyter.widget-view+json": {
       "model_id": "",
       "version_major": 2,
       "version_minor": 0
      },
      "text/plain": [
       "HBox(children=(FloatProgress(value=0.0, description='Validation', max=4.0, style=ProgressStyle(description_wid…"
      ]
     },
     "metadata": {},
     "output_type": "display_data"
    },
    {
     "name": "stdout",
     "output_type": "stream",
     "text": [
      "epoch number 41 finished with validation dices as follows:\n",
      "\t calss 0: 0.993062898516655\n",
      "\t calss 1: 0.29397356510162354\n",
      "\t calss 2: 0.07142013870179653\n",
      "\t calss 3: 0.26724835112690926\n"
     ]
    },
    {
     "data": {
      "application/vnd.jupyter.widget-view+json": {
       "model_id": "",
       "version_major": 2,
       "version_minor": 0
      },
      "text/plain": [
       "HBox(children=(FloatProgress(value=0.0, description='Training', max=75.0, style=ProgressStyle(description_widt…"
      ]
     },
     "metadata": {},
     "output_type": "display_data"
    },
    {
     "data": {
      "application/vnd.jupyter.widget-view+json": {
       "model_id": "",
       "version_major": 2,
       "version_minor": 0
      },
      "text/plain": [
       "HBox(children=(FloatProgress(value=0.0, description='Validation', max=4.0, style=ProgressStyle(description_wid…"
      ]
     },
     "metadata": {},
     "output_type": "display_data"
    },
    {
     "name": "stdout",
     "output_type": "stream",
     "text": [
      "epoch number 42 finished with validation dices as follows:\n",
      "\t calss 0: 0.9930077195167542\n",
      "\t calss 1: 0.2808993458747864\n",
      "\t calss 2: 0.0702034616842866\n",
      "\t calss 3: 0.2599746286869049\n"
     ]
    },
    {
     "data": {
      "application/vnd.jupyter.widget-view+json": {
       "model_id": "",
       "version_major": 2,
       "version_minor": 0
      },
      "text/plain": [
       "HBox(children=(FloatProgress(value=0.0, description='Training', max=75.0, style=ProgressStyle(description_widt…"
      ]
     },
     "metadata": {},
     "output_type": "display_data"
    },
    {
     "data": {
      "application/vnd.jupyter.widget-view+json": {
       "model_id": "",
       "version_major": 2,
       "version_minor": 0
      },
      "text/plain": [
       "HBox(children=(FloatProgress(value=0.0, description='Validation', max=4.0, style=ProgressStyle(description_wid…"
      ]
     },
     "metadata": {},
     "output_type": "display_data"
    },
    {
     "name": "stdout",
     "output_type": "stream",
     "text": [
      "epoch number 43 finished with validation dices as follows:\n",
      "\t calss 0: 0.9929347932338715\n",
      "\t calss 1: 0.2676071375608444\n",
      "\t calss 2: 0.07902095187455416\n",
      "\t calss 3: 0.25857583701144904\n"
     ]
    },
    {
     "data": {
      "application/vnd.jupyter.widget-view+json": {
       "model_id": "",
       "version_major": 2,
       "version_minor": 0
      },
      "text/plain": [
       "HBox(children=(FloatProgress(value=0.0, description='Training', max=75.0, style=ProgressStyle(description_widt…"
      ]
     },
     "metadata": {},
     "output_type": "display_data"
    },
    {
     "data": {
      "application/vnd.jupyter.widget-view+json": {
       "model_id": "",
       "version_major": 2,
       "version_minor": 0
      },
      "text/plain": [
       "HBox(children=(FloatProgress(value=0.0, description='Validation', max=4.0, style=ProgressStyle(description_wid…"
      ]
     },
     "metadata": {},
     "output_type": "display_data"
    },
    {
     "name": "stdout",
     "output_type": "stream",
     "text": [
      "epoch number 44 finished with validation dices as follows:\n",
      "\t calss 0: 0.9932966083288193\n",
      "\t calss 1: 0.24440956115722656\n",
      "\t calss 2: 0.07105436455458403\n",
      "\t calss 3: 0.30581410601735115\n"
     ]
    },
    {
     "data": {
      "application/vnd.jupyter.widget-view+json": {
       "model_id": "",
       "version_major": 2,
       "version_minor": 0
      },
      "text/plain": [
       "HBox(children=(FloatProgress(value=0.0, description='Training', max=75.0, style=ProgressStyle(description_widt…"
      ]
     },
     "metadata": {},
     "output_type": "display_data"
    },
    {
     "data": {
      "application/vnd.jupyter.widget-view+json": {
       "model_id": "",
       "version_major": 2,
       "version_minor": 0
      },
      "text/plain": [
       "HBox(children=(FloatProgress(value=0.0, description='Validation', max=4.0, style=ProgressStyle(description_wid…"
      ]
     },
     "metadata": {},
     "output_type": "display_data"
    },
    {
     "name": "stdout",
     "output_type": "stream",
     "text": [
      "epoch number 45 finished with validation dices as follows:\n",
      "\t calss 0: 0.9931385368108749\n",
      "\t calss 1: 0.22324690036475658\n",
      "\t calss 2: 0.038507047574967146\n",
      "\t calss 3: 0.4067843174561858\n"
     ]
    },
    {
     "data": {
      "application/vnd.jupyter.widget-view+json": {
       "model_id": "",
       "version_major": 2,
       "version_minor": 0
      },
      "text/plain": [
       "HBox(children=(FloatProgress(value=0.0, description='Training', max=75.0, style=ProgressStyle(description_widt…"
      ]
     },
     "metadata": {},
     "output_type": "display_data"
    },
    {
     "data": {
      "application/vnd.jupyter.widget-view+json": {
       "model_id": "",
       "version_major": 2,
       "version_minor": 0
      },
      "text/plain": [
       "HBox(children=(FloatProgress(value=0.0, description='Validation', max=4.0, style=ProgressStyle(description_wid…"
      ]
     },
     "metadata": {},
     "output_type": "display_data"
    },
    {
     "name": "stdout",
     "output_type": "stream",
     "text": [
      "epoch number 46 finished with validation dices as follows:\n",
      "\t calss 0: 0.9932653456926346\n",
      "\t calss 1: 0.23156628385186195\n",
      "\t calss 2: 0.07701826497213915\n",
      "\t calss 3: 0.27785967104136944\n"
     ]
    },
    {
     "data": {
      "application/vnd.jupyter.widget-view+json": {
       "model_id": "",
       "version_major": 2,
       "version_minor": 0
      },
      "text/plain": [
       "HBox(children=(FloatProgress(value=0.0, description='Training', max=75.0, style=ProgressStyle(description_widt…"
      ]
     },
     "metadata": {},
     "output_type": "display_data"
    },
    {
     "data": {
      "application/vnd.jupyter.widget-view+json": {
       "model_id": "",
       "version_major": 2,
       "version_minor": 0
      },
      "text/plain": [
       "HBox(children=(FloatProgress(value=0.0, description='Validation', max=4.0, style=ProgressStyle(description_wid…"
      ]
     },
     "metadata": {},
     "output_type": "display_data"
    },
    {
     "name": "stdout",
     "output_type": "stream",
     "text": [
      "epoch number 47 finished with validation dices as follows:\n",
      "\t calss 0: 0.9930621832609177\n",
      "\t calss 1: 0.24546008184552193\n",
      "\t calss 2: 0.03186167636886239\n",
      "\t calss 3: 0.3349426072090864\n"
     ]
    },
    {
     "data": {
      "application/vnd.jupyter.widget-view+json": {
       "model_id": "",
       "version_major": 2,
       "version_minor": 0
      },
      "text/plain": [
       "HBox(children=(FloatProgress(value=0.0, description='Training', max=75.0, style=ProgressStyle(description_widt…"
      ]
     },
     "metadata": {},
     "output_type": "display_data"
    },
    {
     "data": {
      "application/vnd.jupyter.widget-view+json": {
       "model_id": "",
       "version_major": 2,
       "version_minor": 0
      },
      "text/plain": [
       "HBox(children=(FloatProgress(value=0.0, description='Validation', max=4.0, style=ProgressStyle(description_wid…"
      ]
     },
     "metadata": {},
     "output_type": "display_data"
    },
    {
     "name": "stdout",
     "output_type": "stream",
     "text": [
      "epoch number 48 finished with validation dices as follows:\n",
      "\t calss 0: 0.9932055324316025\n",
      "\t calss 1: 0.2128966525197029\n",
      "\t calss 2: 0.05195336416363716\n",
      "\t calss 3: 0.5034606009721756\n"
     ]
    },
    {
     "data": {
      "application/vnd.jupyter.widget-view+json": {
       "model_id": "",
       "version_major": 2,
       "version_minor": 0
      },
      "text/plain": [
       "HBox(children=(FloatProgress(value=0.0, description='Training', max=75.0, style=ProgressStyle(description_widt…"
      ]
     },
     "metadata": {},
     "output_type": "display_data"
    },
    {
     "data": {
      "application/vnd.jupyter.widget-view+json": {
       "model_id": "",
       "version_major": 2,
       "version_minor": 0
      },
      "text/plain": [
       "HBox(children=(FloatProgress(value=0.0, description='Validation', max=4.0, style=ProgressStyle(description_wid…"
      ]
     },
     "metadata": {},
     "output_type": "display_data"
    },
    {
     "name": "stdout",
     "output_type": "stream",
     "text": [
      "epoch number 49 finished with validation dices as follows:\n",
      "\t calss 0: 0.9926538020372391\n",
      "\t calss 1: 0.30647116899490356\n",
      "\t calss 2: 0.08929443359375\n",
      "\t calss 3: 0.2554234564304352\n"
     ]
    },
    {
     "data": {
      "application/vnd.jupyter.widget-view+json": {
       "model_id": "",
       "version_major": 2,
       "version_minor": 0
      },
      "text/plain": [
       "HBox(children=(FloatProgress(value=0.0, description='Training', max=75.0, style=ProgressStyle(description_widt…"
      ]
     },
     "metadata": {},
     "output_type": "display_data"
    },
    {
     "data": {
      "application/vnd.jupyter.widget-view+json": {
       "model_id": "",
       "version_major": 2,
       "version_minor": 0
      },
      "text/plain": [
       "HBox(children=(FloatProgress(value=0.0, description='Validation', max=4.0, style=ProgressStyle(description_wid…"
      ]
     },
     "metadata": {},
     "output_type": "display_data"
    },
    {
     "name": "stdout",
     "output_type": "stream",
     "text": [
      "epoch number 50 finished with validation dices as follows:\n",
      "\t calss 0: 0.9932493418455124\n",
      "\t calss 1: 0.2810933915898204\n",
      "\t calss 2: 0.07105920171306934\n",
      "\t calss 3: 0.3201713291928172\n"
     ]
    },
    {
     "data": {
      "application/vnd.jupyter.widget-view+json": {
       "model_id": "",
       "version_major": 2,
       "version_minor": 0
      },
      "text/plain": [
       "HBox(children=(FloatProgress(value=0.0, description='Training', max=75.0, style=ProgressStyle(description_widt…"
      ]
     },
     "metadata": {},
     "output_type": "display_data"
    },
    {
     "data": {
      "application/vnd.jupyter.widget-view+json": {
       "model_id": "",
       "version_major": 2,
       "version_minor": 0
      },
      "text/plain": [
       "HBox(children=(FloatProgress(value=0.0, description='Validation', max=4.0, style=ProgressStyle(description_wid…"
      ]
     },
     "metadata": {},
     "output_type": "display_data"
    },
    {
     "name": "stdout",
     "output_type": "stream",
     "text": [
      "epoch number 51 finished with validation dices as follows:\n",
      "\t calss 0: 0.9925063997507095\n",
      "\t calss 1: 0.29219894483685493\n",
      "\t calss 2: 0.09805323649197817\n",
      "\t calss 3: 0.25314374547451735\n"
     ]
    },
    {
     "data": {
      "application/vnd.jupyter.widget-view+json": {
       "model_id": "",
       "version_major": 2,
       "version_minor": 0
      },
      "text/plain": [
       "HBox(children=(FloatProgress(value=0.0, description='Training', max=75.0, style=ProgressStyle(description_widt…"
      ]
     },
     "metadata": {},
     "output_type": "display_data"
    },
    {
     "data": {
      "application/vnd.jupyter.widget-view+json": {
       "model_id": "",
       "version_major": 2,
       "version_minor": 0
      },
      "text/plain": [
       "HBox(children=(FloatProgress(value=0.0, description='Validation', max=4.0, style=ProgressStyle(description_wid…"
      ]
     },
     "metadata": {},
     "output_type": "display_data"
    },
    {
     "name": "stdout",
     "output_type": "stream",
     "text": [
      "epoch number 52 finished with validation dices as follows:\n",
      "\t calss 0: 0.9932704716920853\n",
      "\t calss 1: 0.22961166873574257\n",
      "\t calss 2: 0.0851768534630537\n",
      "\t calss 3: 0.2584177078679204\n"
     ]
    },
    {
     "data": {
      "application/vnd.jupyter.widget-view+json": {
       "model_id": "",
       "version_major": 2,
       "version_minor": 0
      },
      "text/plain": [
       "HBox(children=(FloatProgress(value=0.0, description='Training', max=75.0, style=ProgressStyle(description_widt…"
      ]
     },
     "metadata": {},
     "output_type": "display_data"
    },
    {
     "data": {
      "application/vnd.jupyter.widget-view+json": {
       "model_id": "",
       "version_major": 2,
       "version_minor": 0
      },
      "text/plain": [
       "HBox(children=(FloatProgress(value=0.0, description='Validation', max=4.0, style=ProgressStyle(description_wid…"
      ]
     },
     "metadata": {},
     "output_type": "display_data"
    },
    {
     "name": "stdout",
     "output_type": "stream",
     "text": [
      "epoch number 53 finished with validation dices as follows:\n",
      "\t calss 0: 0.9932460784912109\n",
      "\t calss 1: 0.26002988405525684\n",
      "\t calss 2: 0.07913766568526626\n",
      "\t calss 3: 0.25763660995289683\n"
     ]
    },
    {
     "data": {
      "application/vnd.jupyter.widget-view+json": {
       "model_id": "",
       "version_major": 2,
       "version_minor": 0
      },
      "text/plain": [
       "HBox(children=(FloatProgress(value=0.0, description='Training', max=75.0, style=ProgressStyle(description_widt…"
      ]
     },
     "metadata": {},
     "output_type": "display_data"
    },
    {
     "data": {
      "application/vnd.jupyter.widget-view+json": {
       "model_id": "",
       "version_major": 2,
       "version_minor": 0
      },
      "text/plain": [
       "HBox(children=(FloatProgress(value=0.0, description='Validation', max=4.0, style=ProgressStyle(description_wid…"
      ]
     },
     "metadata": {},
     "output_type": "display_data"
    },
    {
     "name": "stdout",
     "output_type": "stream",
     "text": [
      "epoch number 54 finished with validation dices as follows:\n",
      "\t calss 0: 0.993264690041542\n",
      "\t calss 1: 0.2260077502578497\n",
      "\t calss 2: 0.08765105251222849\n",
      "\t calss 3: 0.33880167454481125\n"
     ]
    },
    {
     "data": {
      "application/vnd.jupyter.widget-view+json": {
       "model_id": "",
       "version_major": 2,
       "version_minor": 0
      },
      "text/plain": [
       "HBox(children=(FloatProgress(value=0.0, description='Training', max=75.0, style=ProgressStyle(description_widt…"
      ]
     },
     "metadata": {},
     "output_type": "display_data"
    },
    {
     "data": {
      "application/vnd.jupyter.widget-view+json": {
       "model_id": "",
       "version_major": 2,
       "version_minor": 0
      },
      "text/plain": [
       "HBox(children=(FloatProgress(value=0.0, description='Validation', max=4.0, style=ProgressStyle(description_wid…"
      ]
     },
     "metadata": {},
     "output_type": "display_data"
    },
    {
     "name": "stdout",
     "output_type": "stream",
     "text": [
      "epoch number 55 finished with validation dices as follows:\n",
      "\t calss 0: 0.9934462755918503\n",
      "\t calss 1: 0.23999621253460646\n",
      "\t calss 2: 0.09943499165819958\n",
      "\t calss 3: 0.2872175658121705\n"
     ]
    },
    {
     "data": {
      "application/vnd.jupyter.widget-view+json": {
       "model_id": "",
       "version_major": 2,
       "version_minor": 0
      },
      "text/plain": [
       "HBox(children=(FloatProgress(value=0.0, description='Training', max=75.0, style=ProgressStyle(description_widt…"
      ]
     },
     "metadata": {},
     "output_type": "display_data"
    },
    {
     "data": {
      "application/vnd.jupyter.widget-view+json": {
       "model_id": "",
       "version_major": 2,
       "version_minor": 0
      },
      "text/plain": [
       "HBox(children=(FloatProgress(value=0.0, description='Validation', max=4.0, style=ProgressStyle(description_wid…"
      ]
     },
     "metadata": {},
     "output_type": "display_data"
    },
    {
     "name": "stdout",
     "output_type": "stream",
     "text": [
      "epoch number 56 finished with validation dices as follows:\n",
      "\t calss 0: 0.9926222860813141\n",
      "\t calss 1: 0.2842995934188366\n",
      "\t calss 2: 0.11254896596074104\n",
      "\t calss 3: 0.2527643942157738\n"
     ]
    },
    {
     "data": {
      "application/vnd.jupyter.widget-view+json": {
       "model_id": "",
       "version_major": 2,
       "version_minor": 0
      },
      "text/plain": [
       "HBox(children=(FloatProgress(value=0.0, description='Training', max=75.0, style=ProgressStyle(description_widt…"
      ]
     },
     "metadata": {},
     "output_type": "display_data"
    },
    {
     "data": {
      "application/vnd.jupyter.widget-view+json": {
       "model_id": "",
       "version_major": 2,
       "version_minor": 0
      },
      "text/plain": [
       "HBox(children=(FloatProgress(value=0.0, description='Validation', max=4.0, style=ProgressStyle(description_wid…"
      ]
     },
     "metadata": {},
     "output_type": "display_data"
    },
    {
     "name": "stdout",
     "output_type": "stream",
     "text": [
      "epoch number 57 finished with validation dices as follows:\n",
      "\t calss 0: 0.9910147488117218\n",
      "\t calss 1: 0.2550305463373661\n",
      "\t calss 2: 0.08597336150705814\n",
      "\t calss 3: 0.25271541625261307\n"
     ]
    },
    {
     "data": {
      "application/vnd.jupyter.widget-view+json": {
       "model_id": "",
       "version_major": 2,
       "version_minor": 0
      },
      "text/plain": [
       "HBox(children=(FloatProgress(value=0.0, description='Training', max=75.0, style=ProgressStyle(description_widt…"
      ]
     },
     "metadata": {},
     "output_type": "display_data"
    },
    {
     "data": {
      "application/vnd.jupyter.widget-view+json": {
       "model_id": "",
       "version_major": 2,
       "version_minor": 0
      },
      "text/plain": [
       "HBox(children=(FloatProgress(value=0.0, description='Validation', max=4.0, style=ProgressStyle(description_wid…"
      ]
     },
     "metadata": {},
     "output_type": "display_data"
    },
    {
     "name": "stdout",
     "output_type": "stream",
     "text": [
      "epoch number 58 finished with validation dices as follows:\n",
      "\t calss 0: 0.9930082708597183\n",
      "\t calss 1: 0.2851644903421402\n",
      "\t calss 2: 0.11842889676336199\n",
      "\t calss 3: 0.2536539686843753\n"
     ]
    },
    {
     "data": {
      "application/vnd.jupyter.widget-view+json": {
       "model_id": "",
       "version_major": 2,
       "version_minor": 0
      },
      "text/plain": [
       "HBox(children=(FloatProgress(value=0.0, description='Training', max=75.0, style=ProgressStyle(description_widt…"
      ]
     },
     "metadata": {},
     "output_type": "display_data"
    },
    {
     "data": {
      "application/vnd.jupyter.widget-view+json": {
       "model_id": "",
       "version_major": 2,
       "version_minor": 0
      },
      "text/plain": [
       "HBox(children=(FloatProgress(value=0.0, description='Validation', max=4.0, style=ProgressStyle(description_wid…"
      ]
     },
     "metadata": {},
     "output_type": "display_data"
    },
    {
     "name": "stdout",
     "output_type": "stream",
     "text": [
      "epoch number 59 finished with validation dices as follows:\n",
      "\t calss 0: 0.9930195808410645\n",
      "\t calss 1: 0.31428222358226776\n",
      "\t calss 2: 0.09760120743885636\n",
      "\t calss 3: 0.25374227232532576\n"
     ]
    },
    {
     "data": {
      "application/vnd.jupyter.widget-view+json": {
       "model_id": "",
       "version_major": 2,
       "version_minor": 0
      },
      "text/plain": [
       "HBox(children=(FloatProgress(value=0.0, description='Training', max=75.0, style=ProgressStyle(description_widt…"
      ]
     },
     "metadata": {},
     "output_type": "display_data"
    },
    {
     "data": {
      "application/vnd.jupyter.widget-view+json": {
       "model_id": "",
       "version_major": 2,
       "version_minor": 0
      },
      "text/plain": [
       "HBox(children=(FloatProgress(value=0.0, description='Validation', max=4.0, style=ProgressStyle(description_wid…"
      ]
     },
     "metadata": {},
     "output_type": "display_data"
    },
    {
     "name": "stdout",
     "output_type": "stream",
     "text": [
      "epoch number 60 finished with validation dices as follows:\n",
      "\t calss 0: 0.9932404607534409\n",
      "\t calss 1: 0.2719101868569851\n",
      "\t calss 2: 0.11104234540835023\n",
      "\t calss 3: 0.2545625335769728\n",
      "\n"
     ]
    }
   ],
   "source": [
    "\n",
    "\n",
    "\n",
    "# criterion\n",
    "# criterion = torch.nn.CrossEntropyLoss()\n",
    "criterion = CostumLoss().to(device)\n",
    "\n",
    "# optimizer\n",
    "optimizer = torch.optim.Adam(model.parameters(), lr=learning_rate)\n",
    "# trainer\n",
    "trainer = Trainer(model=model,\n",
    "                  device=device,\n",
    "                  criterion=criterion,\n",
    "                  optimizer=optimizer,\n",
    "                  training_DataLoader=train_loader,\n",
    "                  validation_DataLoader=val_loader,\n",
    "                  lr_scheduler=None,\n",
    "                  epochs=num_epochs,\n",
    "                  epoch=0,\n",
    "                  notebook=True)\n",
    "# start training\n",
    "training_losses, validation_losses, val_dices_0, val_dices_1, val_dices_2, val_dices_3 = trainer.run_trainer()"
   ]
  },
  {
   "cell_type": "code",
   "execution_count": 14,
   "metadata": {},
   "outputs": [],
   "source": [
    "torch.save(model, 'unet_3d.pt')"
   ]
  },
  {
   "cell_type": "code",
   "execution_count": 15,
   "metadata": {},
   "outputs": [],
   "source": [
    "model = torch.load( 'unet_3d.pt')"
   ]
  },
  {
   "cell_type": "code",
   "execution_count": 16,
   "metadata": {},
   "outputs": [
    {
     "data": {
      "text/plain": [
       "(60, 60, 60)"
      ]
     },
     "execution_count": 16,
     "metadata": {},
     "output_type": "execute_result"
    }
   ],
   "source": [
    "len(training_losses), len(validation_losses), num_epochs"
   ]
  },
  {
   "cell_type": "code",
   "execution_count": 17,
   "metadata": {},
   "outputs": [
    {
     "data": {
      "text/plain": [
       "([0.9870330095291138,\n",
       "  0.9910843521356583,\n",
       "  0.9922052770853043,\n",
       "  0.9923641979694366,\n",
       "  0.9924132078886032,\n",
       "  0.9924615323543549,\n",
       "  0.9924807697534561,\n",
       "  0.9924537986516953,\n",
       "  0.9923790842294693,\n",
       "  0.9923209697008133,\n",
       "  0.992417111992836,\n",
       "  0.992403656244278,\n",
       "  0.9919930994510651,\n",
       "  0.9924347996711731,\n",
       "  0.9924609661102295,\n",
       "  0.992703303694725,\n",
       "  0.9927186518907547,\n",
       "  0.9928237646818161,\n",
       "  0.9907685220241547,\n",
       "  0.9928646385669708,\n",
       "  0.9924395829439163,\n",
       "  0.9926642775535583,\n",
       "  0.9923149198293686,\n",
       "  0.9930760264396667,\n",
       "  0.992947980761528,\n",
       "  0.9914654642343521,\n",
       "  0.9925173372030258,\n",
       "  0.9928165376186371,\n",
       "  0.9926452189683914,\n",
       "  0.9931771010160446,\n",
       "  0.9928531795740128,\n",
       "  0.9929640889167786,\n",
       "  0.991812214255333,\n",
       "  0.9932430684566498,\n",
       "  0.9927422255277634,\n",
       "  0.9931977093219757,\n",
       "  0.9930593371391296,\n",
       "  0.9931715279817581,\n",
       "  0.992998942732811,\n",
       "  0.9932007640600204,\n",
       "  0.993062898516655,\n",
       "  0.9930077195167542,\n",
       "  0.9929347932338715,\n",
       "  0.9932966083288193,\n",
       "  0.9931385368108749,\n",
       "  0.9932653456926346,\n",
       "  0.9930621832609177,\n",
       "  0.9932055324316025,\n",
       "  0.9926538020372391,\n",
       "  0.9932493418455124,\n",
       "  0.9925063997507095,\n",
       "  0.9932704716920853,\n",
       "  0.9932460784912109,\n",
       "  0.993264690041542,\n",
       "  0.9934462755918503,\n",
       "  0.9926222860813141,\n",
       "  0.9910147488117218,\n",
       "  0.9930082708597183,\n",
       "  0.9930195808410645,\n",
       "  0.9932404607534409],\n",
       " [0.01665152493660571,\n",
       "  0.011009721358277602,\n",
       "  0.00801261010565213,\n",
       "  0.009370640473207459,\n",
       "  0.010923411857220344,\n",
       "  0.006591162309632637,\n",
       "  0.006530775222927332,\n",
       "  0.011314717354252934,\n",
       "  0.016498287208378315,\n",
       "  0.024916223948821425,\n",
       "  0.014383834437467158,\n",
       "  0.025458185002207756,\n",
       "  0.09793187701143324,\n",
       "  0.05622010212391615,\n",
       "  0.06536065170075744,\n",
       "  0.06799219222739339,\n",
       "  0.10547448694705963,\n",
       "  0.11742923595011234,\n",
       "  0.1804621834307909,\n",
       "  0.16827579215168953,\n",
       "  0.19591360166668892,\n",
       "  0.05664669256657362,\n",
       "  0.21381725743412971,\n",
       "  0.149276124779135,\n",
       "  0.2087237350642681,\n",
       "  0.21859214827418327,\n",
       "  0.20309947803616524,\n",
       "  0.2143121287226677,\n",
       "  0.2167433649301529,\n",
       "  0.1636456698179245,\n",
       "  0.23994333297014236,\n",
       "  0.26211637258529663,\n",
       "  0.26209232211112976,\n",
       "  0.17669941182248294,\n",
       "  0.26254886016249657,\n",
       "  0.2121875211596489,\n",
       "  0.2632063403725624,\n",
       "  0.24473080039024353,\n",
       "  0.14805850386619568,\n",
       "  0.23579450696706772,\n",
       "  0.29397356510162354,\n",
       "  0.2808993458747864,\n",
       "  0.2676071375608444,\n",
       "  0.24440956115722656,\n",
       "  0.22324690036475658,\n",
       "  0.23156628385186195,\n",
       "  0.24546008184552193,\n",
       "  0.2128966525197029,\n",
       "  0.30647116899490356,\n",
       "  0.2810933915898204,\n",
       "  0.29219894483685493,\n",
       "  0.22961166873574257,\n",
       "  0.26002988405525684,\n",
       "  0.2260077502578497,\n",
       "  0.23999621253460646,\n",
       "  0.2842995934188366,\n",
       "  0.2550305463373661,\n",
       "  0.2851644903421402,\n",
       "  0.31428222358226776,\n",
       "  0.2719101868569851],\n",
       " [0.02422551703057252,\n",
       "  0.01367137412307784,\n",
       "  0.011253106378717348,\n",
       "  0.013836204016115516,\n",
       "  0.014862211421132088,\n",
       "  0.007577173397294246,\n",
       "  0.009583755876519717,\n",
       "  0.013019969337619841,\n",
       "  0.022421657340601087,\n",
       "  0.028727588360197842,\n",
       "  0.014602584298700094,\n",
       "  0.01935716182924807,\n",
       "  0.06296964269131422,\n",
       "  0.03132289397763088,\n",
       "  0.026255410019075498,\n",
       "  0.031737570170662366,\n",
       "  0.03936188970692456,\n",
       "  0.03825700329616666,\n",
       "  0.07775603048503399,\n",
       "  0.06037150043994188,\n",
       "  0.06886698957532644,\n",
       "  0.013539470382966101,\n",
       "  0.07725302269682288,\n",
       "  0.047832516822381876,\n",
       "  0.03646281361579895,\n",
       "  0.07214511558413506,\n",
       "  0.06519589573144913,\n",
       "  0.06648211367428303,\n",
       "  0.057216592598706484,\n",
       "  0.04662246908992529,\n",
       "  0.030153334606438875,\n",
       "  0.04826971422880888,\n",
       "  0.07929265592247248,\n",
       "  0.0602864227766986,\n",
       "  0.07777738338336349,\n",
       "  0.0818468825891614,\n",
       "  0.07469777390360832,\n",
       "  0.06766823539510369,\n",
       "  0.020264500053599477,\n",
       "  0.07009261660277843,\n",
       "  0.07142013870179653,\n",
       "  0.0702034616842866,\n",
       "  0.07902095187455416,\n",
       "  0.07105436455458403,\n",
       "  0.038507047574967146,\n",
       "  0.07701826497213915,\n",
       "  0.03186167636886239,\n",
       "  0.05195336416363716,\n",
       "  0.08929443359375,\n",
       "  0.07105920171306934,\n",
       "  0.09805323649197817,\n",
       "  0.0851768534630537,\n",
       "  0.07913766568526626,\n",
       "  0.08765105251222849,\n",
       "  0.09943499165819958,\n",
       "  0.11254896596074104,\n",
       "  0.08597336150705814,\n",
       "  0.11842889676336199,\n",
       "  0.09760120743885636,\n",
       "  0.11104234540835023],\n",
       " [0.005807968558656285,\n",
       "  0.011739593697711825,\n",
       "  0.07438927609473467,\n",
       "  0.1651301570236683,\n",
       "  0.2784881740808487,\n",
       "  0.5579689964652061,\n",
       "  0.7138836085796356,\n",
       "  0.6198887228965759,\n",
       "  0.42826077342033386,\n",
       "  0.43401846289634705,\n",
       "  0.5054741874337196,\n",
       "  0.560699000954628,\n",
       "  0.3089119251817465,\n",
       "  0.42744619585573673,\n",
       "  0.4750605970621109,\n",
       "  0.5047625135630369,\n",
       "  0.5582332536578178,\n",
       "  0.48302291333675385,\n",
       "  0.2678267313167453,\n",
       "  0.37139035761356354,\n",
       "  0.32990623265504837,\n",
       "  0.6603237092494965,\n",
       "  0.3504878683015704,\n",
       "  0.5992800816893578,\n",
       "  0.5416024699807167,\n",
       "  0.270835695322603,\n",
       "  0.33747091330587864,\n",
       "  0.39794686157256365,\n",
       "  0.4071091506630182,\n",
       "  0.6357247531414032,\n",
       "  0.42889687418937683,\n",
       "  0.367473803460598,\n",
       "  0.2595624551177025,\n",
       "  0.5740011110901833,\n",
       "  0.2698998316191137,\n",
       "  0.3097495958209038,\n",
       "  0.27739684795960784,\n",
       "  0.404101200401783,\n",
       "  0.5829778611660004,\n",
       "  0.2703719390556216,\n",
       "  0.26724835112690926,\n",
       "  0.2599746286869049,\n",
       "  0.25857583701144904,\n",
       "  0.30581410601735115,\n",
       "  0.4067843174561858,\n",
       "  0.27785967104136944,\n",
       "  0.3349426072090864,\n",
       "  0.5034606009721756,\n",
       "  0.2554234564304352,\n",
       "  0.3201713291928172,\n",
       "  0.25314374547451735,\n",
       "  0.2584177078679204,\n",
       "  0.25763660995289683,\n",
       "  0.33880167454481125,\n",
       "  0.2872175658121705,\n",
       "  0.2527643942157738,\n",
       "  0.25271541625261307,\n",
       "  0.2536539686843753,\n",
       "  0.25374227232532576,\n",
       "  0.2545625335769728])"
      ]
     },
     "execution_count": 17,
     "metadata": {},
     "output_type": "execute_result"
    }
   ],
   "source": [
    "val_dices_0, val_dices_1, val_dices_2, val_dices_3"
   ]
  },
  {
   "cell_type": "code",
   "execution_count": 18,
   "metadata": {},
   "outputs": [
    {
     "data": {
      "text/html": [
       "<div>\n",
       "<style scoped>\n",
       "    .dataframe tbody tr th:only-of-type {\n",
       "        vertical-align: middle;\n",
       "    }\n",
       "\n",
       "    .dataframe tbody tr th {\n",
       "        vertical-align: top;\n",
       "    }\n",
       "\n",
       "    .dataframe thead th {\n",
       "        text-align: right;\n",
       "    }\n",
       "</style>\n",
       "<table border=\"1\" class=\"dataframe\">\n",
       "  <thead>\n",
       "    <tr style=\"text-align: right;\">\n",
       "      <th></th>\n",
       "      <th>epoch</th>\n",
       "      <th>t_dice_0</th>\n",
       "      <th>t_dice_1</th>\n",
       "      <th>t_dice_2</th>\n",
       "      <th>t_dice_3</th>\n",
       "      <th>v_dice_0</th>\n",
       "      <th>v_dice_1</th>\n",
       "      <th>v_dice_2</th>\n",
       "      <th>v_dice_3</th>\n",
       "      <th>t_loss</th>\n",
       "      <th>v_loss</th>\n",
       "    </tr>\n",
       "  </thead>\n",
       "  <tbody>\n",
       "    <tr>\n",
       "      <th>0</th>\n",
       "      <td>1.0</td>\n",
       "      <td>0.792137</td>\n",
       "      <td>0.021919</td>\n",
       "      <td>0.025361</td>\n",
       "      <td>0.016451</td>\n",
       "      <td>0.987033</td>\n",
       "      <td>0.016652</td>\n",
       "      <td>0.024226</td>\n",
       "      <td>0.005808</td>\n",
       "      <td>26.369723</td>\n",
       "      <td>31.600731</td>\n",
       "    </tr>\n",
       "    <tr>\n",
       "      <th>1</th>\n",
       "      <td>2.0</td>\n",
       "      <td>0.983546</td>\n",
       "      <td>0.013019</td>\n",
       "      <td>0.019837</td>\n",
       "      <td>0.012524</td>\n",
       "      <td>0.991084</td>\n",
       "      <td>0.011010</td>\n",
       "      <td>0.013671</td>\n",
       "      <td>0.011740</td>\n",
       "      <td>29.641315</td>\n",
       "      <td>32.471601</td>\n",
       "    </tr>\n",
       "    <tr>\n",
       "      <th>2</th>\n",
       "      <td>3.0</td>\n",
       "      <td>0.987195</td>\n",
       "      <td>0.004054</td>\n",
       "      <td>0.008514</td>\n",
       "      <td>0.045676</td>\n",
       "      <td>0.992205</td>\n",
       "      <td>0.008013</td>\n",
       "      <td>0.011253</td>\n",
       "      <td>0.074389</td>\n",
       "      <td>32.709628</td>\n",
       "      <td>28.873277</td>\n",
       "    </tr>\n",
       "    <tr>\n",
       "      <th>3</th>\n",
       "      <td>4.0</td>\n",
       "      <td>0.987513</td>\n",
       "      <td>0.004023</td>\n",
       "      <td>0.008260</td>\n",
       "      <td>0.102300</td>\n",
       "      <td>0.992364</td>\n",
       "      <td>0.009371</td>\n",
       "      <td>0.013836</td>\n",
       "      <td>0.165130</td>\n",
       "      <td>31.409625</td>\n",
       "      <td>24.560036</td>\n",
       "    </tr>\n",
       "    <tr>\n",
       "      <th>4</th>\n",
       "      <td>5.0</td>\n",
       "      <td>0.987587</td>\n",
       "      <td>0.004749</td>\n",
       "      <td>0.008661</td>\n",
       "      <td>0.157714</td>\n",
       "      <td>0.992413</td>\n",
       "      <td>0.010923</td>\n",
       "      <td>0.014862</td>\n",
       "      <td>0.278488</td>\n",
       "      <td>30.608041</td>\n",
       "      <td>23.397844</td>\n",
       "    </tr>\n",
       "    <tr>\n",
       "      <th>5</th>\n",
       "      <td>6.0</td>\n",
       "      <td>0.987607</td>\n",
       "      <td>0.006018</td>\n",
       "      <td>0.009712</td>\n",
       "      <td>0.213400</td>\n",
       "      <td>0.992462</td>\n",
       "      <td>0.006591</td>\n",
       "      <td>0.007577</td>\n",
       "      <td>0.557969</td>\n",
       "      <td>27.813691</td>\n",
       "      <td>23.643611</td>\n",
       "    </tr>\n",
       "    <tr>\n",
       "      <th>6</th>\n",
       "      <td>7.0</td>\n",
       "      <td>0.987646</td>\n",
       "      <td>0.007660</td>\n",
       "      <td>0.007627</td>\n",
       "      <td>0.237099</td>\n",
       "      <td>0.992481</td>\n",
       "      <td>0.006531</td>\n",
       "      <td>0.009584</td>\n",
       "      <td>0.713884</td>\n",
       "      <td>27.122934</td>\n",
       "      <td>23.608912</td>\n",
       "    </tr>\n",
       "    <tr>\n",
       "      <th>7</th>\n",
       "      <td>8.0</td>\n",
       "      <td>0.987659</td>\n",
       "      <td>0.010459</td>\n",
       "      <td>0.008959</td>\n",
       "      <td>0.216680</td>\n",
       "      <td>0.992454</td>\n",
       "      <td>0.011315</td>\n",
       "      <td>0.013020</td>\n",
       "      <td>0.619889</td>\n",
       "      <td>26.709495</td>\n",
       "      <td>19.507080</td>\n",
       "    </tr>\n",
       "    <tr>\n",
       "      <th>8</th>\n",
       "      <td>9.0</td>\n",
       "      <td>0.987683</td>\n",
       "      <td>0.014751</td>\n",
       "      <td>0.010067</td>\n",
       "      <td>0.268759</td>\n",
       "      <td>0.992379</td>\n",
       "      <td>0.016498</td>\n",
       "      <td>0.022422</td>\n",
       "      <td>0.428261</td>\n",
       "      <td>25.390801</td>\n",
       "      <td>18.170332</td>\n",
       "    </tr>\n",
       "    <tr>\n",
       "      <th>9</th>\n",
       "      <td>10.0</td>\n",
       "      <td>0.987738</td>\n",
       "      <td>0.026000</td>\n",
       "      <td>0.011674</td>\n",
       "      <td>0.257302</td>\n",
       "      <td>0.992321</td>\n",
       "      <td>0.024916</td>\n",
       "      <td>0.028728</td>\n",
       "      <td>0.434018</td>\n",
       "      <td>23.098205</td>\n",
       "      <td>17.584844</td>\n",
       "    </tr>\n",
       "    <tr>\n",
       "      <th>10</th>\n",
       "      <td>11.0</td>\n",
       "      <td>0.987809</td>\n",
       "      <td>0.040281</td>\n",
       "      <td>0.017254</td>\n",
       "      <td>0.214892</td>\n",
       "      <td>0.992417</td>\n",
       "      <td>0.014384</td>\n",
       "      <td>0.014603</td>\n",
       "      <td>0.505474</td>\n",
       "      <td>21.575947</td>\n",
       "      <td>19.367322</td>\n",
       "    </tr>\n",
       "    <tr>\n",
       "      <th>11</th>\n",
       "      <td>12.0</td>\n",
       "      <td>0.987888</td>\n",
       "      <td>0.053120</td>\n",
       "      <td>0.014235</td>\n",
       "      <td>0.253630</td>\n",
       "      <td>0.992404</td>\n",
       "      <td>0.025458</td>\n",
       "      <td>0.019357</td>\n",
       "      <td>0.560699</td>\n",
       "      <td>21.455904</td>\n",
       "      <td>17.114895</td>\n",
       "    </tr>\n",
       "    <tr>\n",
       "      <th>12</th>\n",
       "      <td>13.0</td>\n",
       "      <td>0.987988</td>\n",
       "      <td>0.073449</td>\n",
       "      <td>0.017351</td>\n",
       "      <td>0.250888</td>\n",
       "      <td>0.991993</td>\n",
       "      <td>0.097932</td>\n",
       "      <td>0.062970</td>\n",
       "      <td>0.308912</td>\n",
       "      <td>19.404351</td>\n",
       "      <td>14.571386</td>\n",
       "    </tr>\n",
       "    <tr>\n",
       "      <th>13</th>\n",
       "      <td>14.0</td>\n",
       "      <td>0.988147</td>\n",
       "      <td>0.094820</td>\n",
       "      <td>0.026427</td>\n",
       "      <td>0.208693</td>\n",
       "      <td>0.992435</td>\n",
       "      <td>0.056220</td>\n",
       "      <td>0.031323</td>\n",
       "      <td>0.427446</td>\n",
       "      <td>18.735303</td>\n",
       "      <td>15.989828</td>\n",
       "    </tr>\n",
       "    <tr>\n",
       "      <th>14</th>\n",
       "      <td>15.0</td>\n",
       "      <td>0.988261</td>\n",
       "      <td>0.117656</td>\n",
       "      <td>0.020840</td>\n",
       "      <td>0.222860</td>\n",
       "      <td>0.992461</td>\n",
       "      <td>0.065361</td>\n",
       "      <td>0.026255</td>\n",
       "      <td>0.475061</td>\n",
       "      <td>17.978150</td>\n",
       "      <td>18.808574</td>\n",
       "    </tr>\n",
       "    <tr>\n",
       "      <th>15</th>\n",
       "      <td>16.0</td>\n",
       "      <td>0.988463</td>\n",
       "      <td>0.138931</td>\n",
       "      <td>0.029149</td>\n",
       "      <td>0.220152</td>\n",
       "      <td>0.992703</td>\n",
       "      <td>0.067992</td>\n",
       "      <td>0.031738</td>\n",
       "      <td>0.504763</td>\n",
       "      <td>17.200916</td>\n",
       "      <td>16.936398</td>\n",
       "    </tr>\n",
       "    <tr>\n",
       "      <th>16</th>\n",
       "      <td>17.0</td>\n",
       "      <td>0.988537</td>\n",
       "      <td>0.159018</td>\n",
       "      <td>0.028935</td>\n",
       "      <td>0.193539</td>\n",
       "      <td>0.992719</td>\n",
       "      <td>0.105474</td>\n",
       "      <td>0.039362</td>\n",
       "      <td>0.558233</td>\n",
       "      <td>17.782326</td>\n",
       "      <td>13.028256</td>\n",
       "    </tr>\n",
       "    <tr>\n",
       "      <th>17</th>\n",
       "      <td>18.0</td>\n",
       "      <td>0.988810</td>\n",
       "      <td>0.182611</td>\n",
       "      <td>0.034343</td>\n",
       "      <td>0.230538</td>\n",
       "      <td>0.992824</td>\n",
       "      <td>0.117429</td>\n",
       "      <td>0.038257</td>\n",
       "      <td>0.483023</td>\n",
       "      <td>15.713276</td>\n",
       "      <td>12.570326</td>\n",
       "    </tr>\n",
       "    <tr>\n",
       "      <th>18</th>\n",
       "      <td>19.0</td>\n",
       "      <td>0.988972</td>\n",
       "      <td>0.203905</td>\n",
       "      <td>0.039190</td>\n",
       "      <td>0.223053</td>\n",
       "      <td>0.990769</td>\n",
       "      <td>0.180462</td>\n",
       "      <td>0.077756</td>\n",
       "      <td>0.267827</td>\n",
       "      <td>14.825511</td>\n",
       "      <td>13.634137</td>\n",
       "    </tr>\n",
       "    <tr>\n",
       "      <th>19</th>\n",
       "      <td>20.0</td>\n",
       "      <td>0.989260</td>\n",
       "      <td>0.238409</td>\n",
       "      <td>0.038721</td>\n",
       "      <td>0.194430</td>\n",
       "      <td>0.992865</td>\n",
       "      <td>0.168276</td>\n",
       "      <td>0.060372</td>\n",
       "      <td>0.371390</td>\n",
       "      <td>15.029216</td>\n",
       "      <td>11.938878</td>\n",
       "    </tr>\n",
       "    <tr>\n",
       "      <th>20</th>\n",
       "      <td>21.0</td>\n",
       "      <td>0.989500</td>\n",
       "      <td>0.270487</td>\n",
       "      <td>0.045727</td>\n",
       "      <td>0.200275</td>\n",
       "      <td>0.992440</td>\n",
       "      <td>0.195914</td>\n",
       "      <td>0.068867</td>\n",
       "      <td>0.329906</td>\n",
       "      <td>14.145517</td>\n",
       "      <td>11.255873</td>\n",
       "    </tr>\n",
       "    <tr>\n",
       "      <th>21</th>\n",
       "      <td>22.0</td>\n",
       "      <td>0.989478</td>\n",
       "      <td>0.279835</td>\n",
       "      <td>0.044468</td>\n",
       "      <td>0.209399</td>\n",
       "      <td>0.992664</td>\n",
       "      <td>0.056647</td>\n",
       "      <td>0.013539</td>\n",
       "      <td>0.660324</td>\n",
       "      <td>13.881928</td>\n",
       "      <td>16.186535</td>\n",
       "    </tr>\n",
       "    <tr>\n",
       "      <th>22</th>\n",
       "      <td>23.0</td>\n",
       "      <td>0.989931</td>\n",
       "      <td>0.305253</td>\n",
       "      <td>0.048582</td>\n",
       "      <td>0.182751</td>\n",
       "      <td>0.992315</td>\n",
       "      <td>0.213817</td>\n",
       "      <td>0.077253</td>\n",
       "      <td>0.350488</td>\n",
       "      <td>14.180229</td>\n",
       "      <td>13.032765</td>\n",
       "    </tr>\n",
       "    <tr>\n",
       "      <th>23</th>\n",
       "      <td>24.0</td>\n",
       "      <td>0.989999</td>\n",
       "      <td>0.320687</td>\n",
       "      <td>0.051829</td>\n",
       "      <td>0.196073</td>\n",
       "      <td>0.993076</td>\n",
       "      <td>0.149276</td>\n",
       "      <td>0.047833</td>\n",
       "      <td>0.599280</td>\n",
       "      <td>13.734974</td>\n",
       "      <td>13.991571</td>\n",
       "    </tr>\n",
       "    <tr>\n",
       "      <th>24</th>\n",
       "      <td>25.0</td>\n",
       "      <td>0.990056</td>\n",
       "      <td>0.334425</td>\n",
       "      <td>0.052769</td>\n",
       "      <td>0.198270</td>\n",
       "      <td>0.992948</td>\n",
       "      <td>0.208724</td>\n",
       "      <td>0.036463</td>\n",
       "      <td>0.541602</td>\n",
       "      <td>13.315215</td>\n",
       "      <td>11.573875</td>\n",
       "    </tr>\n",
       "    <tr>\n",
       "      <th>25</th>\n",
       "      <td>26.0</td>\n",
       "      <td>0.990366</td>\n",
       "      <td>0.347713</td>\n",
       "      <td>0.054821</td>\n",
       "      <td>0.199063</td>\n",
       "      <td>0.991465</td>\n",
       "      <td>0.218592</td>\n",
       "      <td>0.072145</td>\n",
       "      <td>0.270836</td>\n",
       "      <td>12.790826</td>\n",
       "      <td>12.785542</td>\n",
       "    </tr>\n",
       "    <tr>\n",
       "      <th>26</th>\n",
       "      <td>27.0</td>\n",
       "      <td>0.990346</td>\n",
       "      <td>0.350742</td>\n",
       "      <td>0.055771</td>\n",
       "      <td>0.191909</td>\n",
       "      <td>0.992517</td>\n",
       "      <td>0.203099</td>\n",
       "      <td>0.065196</td>\n",
       "      <td>0.337471</td>\n",
       "      <td>13.322745</td>\n",
       "      <td>11.680893</td>\n",
       "    </tr>\n",
       "    <tr>\n",
       "      <th>27</th>\n",
       "      <td>28.0</td>\n",
       "      <td>0.990522</td>\n",
       "      <td>0.365934</td>\n",
       "      <td>0.051109</td>\n",
       "      <td>0.166256</td>\n",
       "      <td>0.992817</td>\n",
       "      <td>0.214312</td>\n",
       "      <td>0.066482</td>\n",
       "      <td>0.397947</td>\n",
       "      <td>13.684494</td>\n",
       "      <td>11.915104</td>\n",
       "    </tr>\n",
       "    <tr>\n",
       "      <th>28</th>\n",
       "      <td>29.0</td>\n",
       "      <td>0.990693</td>\n",
       "      <td>0.379165</td>\n",
       "      <td>0.052764</td>\n",
       "      <td>0.202420</td>\n",
       "      <td>0.992645</td>\n",
       "      <td>0.216743</td>\n",
       "      <td>0.057217</td>\n",
       "      <td>0.407109</td>\n",
       "      <td>12.997645</td>\n",
       "      <td>11.786541</td>\n",
       "    </tr>\n",
       "    <tr>\n",
       "      <th>29</th>\n",
       "      <td>30.0</td>\n",
       "      <td>0.990877</td>\n",
       "      <td>0.387019</td>\n",
       "      <td>0.050876</td>\n",
       "      <td>0.184945</td>\n",
       "      <td>0.993177</td>\n",
       "      <td>0.163646</td>\n",
       "      <td>0.046622</td>\n",
       "      <td>0.635725</td>\n",
       "      <td>13.147999</td>\n",
       "      <td>10.792188</td>\n",
       "    </tr>\n",
       "    <tr>\n",
       "      <th>30</th>\n",
       "      <td>31.0</td>\n",
       "      <td>0.990892</td>\n",
       "      <td>0.397052</td>\n",
       "      <td>0.058921</td>\n",
       "      <td>0.171978</td>\n",
       "      <td>0.992853</td>\n",
       "      <td>0.239943</td>\n",
       "      <td>0.030153</td>\n",
       "      <td>0.428897</td>\n",
       "      <td>13.164082</td>\n",
       "      <td>11.914675</td>\n",
       "    </tr>\n",
       "    <tr>\n",
       "      <th>31</th>\n",
       "      <td>32.0</td>\n",
       "      <td>0.990921</td>\n",
       "      <td>0.395695</td>\n",
       "      <td>0.074338</td>\n",
       "      <td>0.182738</td>\n",
       "      <td>0.992964</td>\n",
       "      <td>0.262116</td>\n",
       "      <td>0.048270</td>\n",
       "      <td>0.367474</td>\n",
       "      <td>12.729953</td>\n",
       "      <td>10.950735</td>\n",
       "    </tr>\n",
       "    <tr>\n",
       "      <th>32</th>\n",
       "      <td>33.0</td>\n",
       "      <td>0.991137</td>\n",
       "      <td>0.409283</td>\n",
       "      <td>0.065324</td>\n",
       "      <td>0.166691</td>\n",
       "      <td>0.991812</td>\n",
       "      <td>0.262092</td>\n",
       "      <td>0.079293</td>\n",
       "      <td>0.259562</td>\n",
       "      <td>13.338041</td>\n",
       "      <td>10.714575</td>\n",
       "    </tr>\n",
       "    <tr>\n",
       "      <th>33</th>\n",
       "      <td>34.0</td>\n",
       "      <td>0.991305</td>\n",
       "      <td>0.415083</td>\n",
       "      <td>0.072872</td>\n",
       "      <td>0.169055</td>\n",
       "      <td>0.993243</td>\n",
       "      <td>0.176699</td>\n",
       "      <td>0.060286</td>\n",
       "      <td>0.574001</td>\n",
       "      <td>12.800654</td>\n",
       "      <td>13.863164</td>\n",
       "    </tr>\n",
       "    <tr>\n",
       "      <th>34</th>\n",
       "      <td>35.0</td>\n",
       "      <td>0.991291</td>\n",
       "      <td>0.415969</td>\n",
       "      <td>0.064833</td>\n",
       "      <td>0.145937</td>\n",
       "      <td>0.992742</td>\n",
       "      <td>0.262549</td>\n",
       "      <td>0.077777</td>\n",
       "      <td>0.269900</td>\n",
       "      <td>13.214901</td>\n",
       "      <td>12.495388</td>\n",
       "    </tr>\n",
       "    <tr>\n",
       "      <th>35</th>\n",
       "      <td>36.0</td>\n",
       "      <td>0.991477</td>\n",
       "      <td>0.420699</td>\n",
       "      <td>0.078194</td>\n",
       "      <td>0.145091</td>\n",
       "      <td>0.993198</td>\n",
       "      <td>0.212188</td>\n",
       "      <td>0.081847</td>\n",
       "      <td>0.309750</td>\n",
       "      <td>12.770002</td>\n",
       "      <td>10.829559</td>\n",
       "    </tr>\n",
       "    <tr>\n",
       "      <th>36</th>\n",
       "      <td>37.0</td>\n",
       "      <td>0.991534</td>\n",
       "      <td>0.431450</td>\n",
       "      <td>0.073918</td>\n",
       "      <td>0.154687</td>\n",
       "      <td>0.993059</td>\n",
       "      <td>0.263206</td>\n",
       "      <td>0.074698</td>\n",
       "      <td>0.277397</td>\n",
       "      <td>12.660924</td>\n",
       "      <td>12.229151</td>\n",
       "    </tr>\n",
       "    <tr>\n",
       "      <th>37</th>\n",
       "      <td>38.0</td>\n",
       "      <td>0.991630</td>\n",
       "      <td>0.436767</td>\n",
       "      <td>0.082961</td>\n",
       "      <td>0.144198</td>\n",
       "      <td>0.993172</td>\n",
       "      <td>0.244731</td>\n",
       "      <td>0.067668</td>\n",
       "      <td>0.404101</td>\n",
       "      <td>12.496400</td>\n",
       "      <td>10.647245</td>\n",
       "    </tr>\n",
       "    <tr>\n",
       "      <th>38</th>\n",
       "      <td>39.0</td>\n",
       "      <td>0.991694</td>\n",
       "      <td>0.443287</td>\n",
       "      <td>0.080506</td>\n",
       "      <td>0.161091</td>\n",
       "      <td>0.992999</td>\n",
       "      <td>0.148059</td>\n",
       "      <td>0.020265</td>\n",
       "      <td>0.582978</td>\n",
       "      <td>12.605703</td>\n",
       "      <td>14.206854</td>\n",
       "    </tr>\n",
       "    <tr>\n",
       "      <th>39</th>\n",
       "      <td>40.0</td>\n",
       "      <td>0.991643</td>\n",
       "      <td>0.440016</td>\n",
       "      <td>0.073371</td>\n",
       "      <td>0.132305</td>\n",
       "      <td>0.993201</td>\n",
       "      <td>0.235795</td>\n",
       "      <td>0.070093</td>\n",
       "      <td>0.270372</td>\n",
       "      <td>12.966852</td>\n",
       "      <td>11.644185</td>\n",
       "    </tr>\n",
       "    <tr>\n",
       "      <th>40</th>\n",
       "      <td>41.0</td>\n",
       "      <td>0.991726</td>\n",
       "      <td>0.449071</td>\n",
       "      <td>0.083053</td>\n",
       "      <td>0.147793</td>\n",
       "      <td>0.993063</td>\n",
       "      <td>0.293974</td>\n",
       "      <td>0.071420</td>\n",
       "      <td>0.267248</td>\n",
       "      <td>12.444418</td>\n",
       "      <td>11.323466</td>\n",
       "    </tr>\n",
       "    <tr>\n",
       "      <th>41</th>\n",
       "      <td>42.0</td>\n",
       "      <td>0.991763</td>\n",
       "      <td>0.451489</td>\n",
       "      <td>0.084890</td>\n",
       "      <td>0.134448</td>\n",
       "      <td>0.993008</td>\n",
       "      <td>0.280899</td>\n",
       "      <td>0.070203</td>\n",
       "      <td>0.259975</td>\n",
       "      <td>12.532504</td>\n",
       "      <td>10.969559</td>\n",
       "    </tr>\n",
       "    <tr>\n",
       "      <th>42</th>\n",
       "      <td>43.0</td>\n",
       "      <td>0.991901</td>\n",
       "      <td>0.459556</td>\n",
       "      <td>0.081411</td>\n",
       "      <td>0.126900</td>\n",
       "      <td>0.992935</td>\n",
       "      <td>0.267607</td>\n",
       "      <td>0.079021</td>\n",
       "      <td>0.258576</td>\n",
       "      <td>12.939597</td>\n",
       "      <td>12.453117</td>\n",
       "    </tr>\n",
       "    <tr>\n",
       "      <th>43</th>\n",
       "      <td>44.0</td>\n",
       "      <td>0.992066</td>\n",
       "      <td>0.452937</td>\n",
       "      <td>0.091370</td>\n",
       "      <td>0.136124</td>\n",
       "      <td>0.993297</td>\n",
       "      <td>0.244410</td>\n",
       "      <td>0.071054</td>\n",
       "      <td>0.305814</td>\n",
       "      <td>12.385882</td>\n",
       "      <td>10.808338</td>\n",
       "    </tr>\n",
       "    <tr>\n",
       "      <th>44</th>\n",
       "      <td>45.0</td>\n",
       "      <td>0.992185</td>\n",
       "      <td>0.466166</td>\n",
       "      <td>0.092912</td>\n",
       "      <td>0.117735</td>\n",
       "      <td>0.993139</td>\n",
       "      <td>0.223247</td>\n",
       "      <td>0.038507</td>\n",
       "      <td>0.406784</td>\n",
       "      <td>12.744679</td>\n",
       "      <td>13.256744</td>\n",
       "    </tr>\n",
       "    <tr>\n",
       "      <th>45</th>\n",
       "      <td>46.0</td>\n",
       "      <td>0.992222</td>\n",
       "      <td>0.469172</td>\n",
       "      <td>0.101251</td>\n",
       "      <td>0.127899</td>\n",
       "      <td>0.993265</td>\n",
       "      <td>0.231566</td>\n",
       "      <td>0.077018</td>\n",
       "      <td>0.277860</td>\n",
       "      <td>12.453406</td>\n",
       "      <td>13.119926</td>\n",
       "    </tr>\n",
       "    <tr>\n",
       "      <th>46</th>\n",
       "      <td>47.0</td>\n",
       "      <td>0.992413</td>\n",
       "      <td>0.476480</td>\n",
       "      <td>0.103931</td>\n",
       "      <td>0.126868</td>\n",
       "      <td>0.993062</td>\n",
       "      <td>0.245460</td>\n",
       "      <td>0.031862</td>\n",
       "      <td>0.334943</td>\n",
       "      <td>12.087000</td>\n",
       "      <td>13.336054</td>\n",
       "    </tr>\n",
       "    <tr>\n",
       "      <th>47</th>\n",
       "      <td>48.0</td>\n",
       "      <td>0.992132</td>\n",
       "      <td>0.470046</td>\n",
       "      <td>0.097266</td>\n",
       "      <td>0.111093</td>\n",
       "      <td>0.993206</td>\n",
       "      <td>0.212897</td>\n",
       "      <td>0.051953</td>\n",
       "      <td>0.503461</td>\n",
       "      <td>12.482249</td>\n",
       "      <td>11.022717</td>\n",
       "    </tr>\n",
       "    <tr>\n",
       "      <th>48</th>\n",
       "      <td>49.0</td>\n",
       "      <td>0.992330</td>\n",
       "      <td>0.478707</td>\n",
       "      <td>0.101117</td>\n",
       "      <td>0.113448</td>\n",
       "      <td>0.992654</td>\n",
       "      <td>0.306471</td>\n",
       "      <td>0.089294</td>\n",
       "      <td>0.255423</td>\n",
       "      <td>12.479874</td>\n",
       "      <td>10.068304</td>\n",
       "    </tr>\n",
       "    <tr>\n",
       "      <th>49</th>\n",
       "      <td>50.0</td>\n",
       "      <td>0.992389</td>\n",
       "      <td>0.480254</td>\n",
       "      <td>0.108162</td>\n",
       "      <td>0.122235</td>\n",
       "      <td>0.993249</td>\n",
       "      <td>0.281093</td>\n",
       "      <td>0.071059</td>\n",
       "      <td>0.320171</td>\n",
       "      <td>12.169444</td>\n",
       "      <td>16.088801</td>\n",
       "    </tr>\n",
       "    <tr>\n",
       "      <th>50</th>\n",
       "      <td>51.0</td>\n",
       "      <td>0.992434</td>\n",
       "      <td>0.485635</td>\n",
       "      <td>0.113795</td>\n",
       "      <td>0.113127</td>\n",
       "      <td>0.992506</td>\n",
       "      <td>0.292199</td>\n",
       "      <td>0.098053</td>\n",
       "      <td>0.253144</td>\n",
       "      <td>12.010892</td>\n",
       "      <td>11.588685</td>\n",
       "    </tr>\n",
       "    <tr>\n",
       "      <th>51</th>\n",
       "      <td>52.0</td>\n",
       "      <td>0.992565</td>\n",
       "      <td>0.491687</td>\n",
       "      <td>0.123053</td>\n",
       "      <td>0.108242</td>\n",
       "      <td>0.993270</td>\n",
       "      <td>0.229612</td>\n",
       "      <td>0.085177</td>\n",
       "      <td>0.258418</td>\n",
       "      <td>11.820434</td>\n",
       "      <td>13.035115</td>\n",
       "    </tr>\n",
       "    <tr>\n",
       "      <th>52</th>\n",
       "      <td>53.0</td>\n",
       "      <td>0.992513</td>\n",
       "      <td>0.488721</td>\n",
       "      <td>0.120913</td>\n",
       "      <td>0.108431</td>\n",
       "      <td>0.993246</td>\n",
       "      <td>0.260030</td>\n",
       "      <td>0.079138</td>\n",
       "      <td>0.257637</td>\n",
       "      <td>11.800963</td>\n",
       "      <td>12.708709</td>\n",
       "    </tr>\n",
       "    <tr>\n",
       "      <th>53</th>\n",
       "      <td>54.0</td>\n",
       "      <td>0.992496</td>\n",
       "      <td>0.489394</td>\n",
       "      <td>0.133333</td>\n",
       "      <td>0.101310</td>\n",
       "      <td>0.993265</td>\n",
       "      <td>0.226008</td>\n",
       "      <td>0.087651</td>\n",
       "      <td>0.338802</td>\n",
       "      <td>11.851908</td>\n",
       "      <td>10.701807</td>\n",
       "    </tr>\n",
       "    <tr>\n",
       "      <th>54</th>\n",
       "      <td>55.0</td>\n",
       "      <td>0.992697</td>\n",
       "      <td>0.497393</td>\n",
       "      <td>0.136959</td>\n",
       "      <td>0.117106</td>\n",
       "      <td>0.993446</td>\n",
       "      <td>0.239996</td>\n",
       "      <td>0.099435</td>\n",
       "      <td>0.287218</td>\n",
       "      <td>11.189514</td>\n",
       "      <td>13.157355</td>\n",
       "    </tr>\n",
       "    <tr>\n",
       "      <th>55</th>\n",
       "      <td>56.0</td>\n",
       "      <td>0.992667</td>\n",
       "      <td>0.499902</td>\n",
       "      <td>0.141431</td>\n",
       "      <td>0.109334</td>\n",
       "      <td>0.992622</td>\n",
       "      <td>0.284300</td>\n",
       "      <td>0.112549</td>\n",
       "      <td>0.252764</td>\n",
       "      <td>11.572139</td>\n",
       "      <td>12.218292</td>\n",
       "    </tr>\n",
       "    <tr>\n",
       "      <th>56</th>\n",
       "      <td>57.0</td>\n",
       "      <td>0.992828</td>\n",
       "      <td>0.495526</td>\n",
       "      <td>0.150675</td>\n",
       "      <td>0.115278</td>\n",
       "      <td>0.991015</td>\n",
       "      <td>0.255031</td>\n",
       "      <td>0.085973</td>\n",
       "      <td>0.252715</td>\n",
       "      <td>10.985919</td>\n",
       "      <td>10.922395</td>\n",
       "    </tr>\n",
       "    <tr>\n",
       "      <th>57</th>\n",
       "      <td>58.0</td>\n",
       "      <td>0.992629</td>\n",
       "      <td>0.489222</td>\n",
       "      <td>0.147444</td>\n",
       "      <td>0.108673</td>\n",
       "      <td>0.993008</td>\n",
       "      <td>0.285164</td>\n",
       "      <td>0.118429</td>\n",
       "      <td>0.253654</td>\n",
       "      <td>11.390329</td>\n",
       "      <td>15.586900</td>\n",
       "    </tr>\n",
       "    <tr>\n",
       "      <th>58</th>\n",
       "      <td>59.0</td>\n",
       "      <td>0.992924</td>\n",
       "      <td>0.507389</td>\n",
       "      <td>0.158931</td>\n",
       "      <td>0.107995</td>\n",
       "      <td>0.993020</td>\n",
       "      <td>0.314282</td>\n",
       "      <td>0.097601</td>\n",
       "      <td>0.253742</td>\n",
       "      <td>11.188075</td>\n",
       "      <td>15.320987</td>\n",
       "    </tr>\n",
       "    <tr>\n",
       "      <th>59</th>\n",
       "      <td>60.0</td>\n",
       "      <td>0.992923</td>\n",
       "      <td>0.512121</td>\n",
       "      <td>0.168570</td>\n",
       "      <td>0.122601</td>\n",
       "      <td>0.993240</td>\n",
       "      <td>0.271910</td>\n",
       "      <td>0.111042</td>\n",
       "      <td>0.254563</td>\n",
       "      <td>11.002666</td>\n",
       "      <td>13.871776</td>\n",
       "    </tr>\n",
       "  </tbody>\n",
       "</table>\n",
       "</div>"
      ],
      "text/plain": [
       "    epoch  t_dice_0  t_dice_1  t_dice_2  t_dice_3  v_dice_0  v_dice_1  \\\n",
       "0     1.0  0.792137  0.021919  0.025361  0.016451  0.987033  0.016652   \n",
       "1     2.0  0.983546  0.013019  0.019837  0.012524  0.991084  0.011010   \n",
       "2     3.0  0.987195  0.004054  0.008514  0.045676  0.992205  0.008013   \n",
       "3     4.0  0.987513  0.004023  0.008260  0.102300  0.992364  0.009371   \n",
       "4     5.0  0.987587  0.004749  0.008661  0.157714  0.992413  0.010923   \n",
       "5     6.0  0.987607  0.006018  0.009712  0.213400  0.992462  0.006591   \n",
       "6     7.0  0.987646  0.007660  0.007627  0.237099  0.992481  0.006531   \n",
       "7     8.0  0.987659  0.010459  0.008959  0.216680  0.992454  0.011315   \n",
       "8     9.0  0.987683  0.014751  0.010067  0.268759  0.992379  0.016498   \n",
       "9    10.0  0.987738  0.026000  0.011674  0.257302  0.992321  0.024916   \n",
       "10   11.0  0.987809  0.040281  0.017254  0.214892  0.992417  0.014384   \n",
       "11   12.0  0.987888  0.053120  0.014235  0.253630  0.992404  0.025458   \n",
       "12   13.0  0.987988  0.073449  0.017351  0.250888  0.991993  0.097932   \n",
       "13   14.0  0.988147  0.094820  0.026427  0.208693  0.992435  0.056220   \n",
       "14   15.0  0.988261  0.117656  0.020840  0.222860  0.992461  0.065361   \n",
       "15   16.0  0.988463  0.138931  0.029149  0.220152  0.992703  0.067992   \n",
       "16   17.0  0.988537  0.159018  0.028935  0.193539  0.992719  0.105474   \n",
       "17   18.0  0.988810  0.182611  0.034343  0.230538  0.992824  0.117429   \n",
       "18   19.0  0.988972  0.203905  0.039190  0.223053  0.990769  0.180462   \n",
       "19   20.0  0.989260  0.238409  0.038721  0.194430  0.992865  0.168276   \n",
       "20   21.0  0.989500  0.270487  0.045727  0.200275  0.992440  0.195914   \n",
       "21   22.0  0.989478  0.279835  0.044468  0.209399  0.992664  0.056647   \n",
       "22   23.0  0.989931  0.305253  0.048582  0.182751  0.992315  0.213817   \n",
       "23   24.0  0.989999  0.320687  0.051829  0.196073  0.993076  0.149276   \n",
       "24   25.0  0.990056  0.334425  0.052769  0.198270  0.992948  0.208724   \n",
       "25   26.0  0.990366  0.347713  0.054821  0.199063  0.991465  0.218592   \n",
       "26   27.0  0.990346  0.350742  0.055771  0.191909  0.992517  0.203099   \n",
       "27   28.0  0.990522  0.365934  0.051109  0.166256  0.992817  0.214312   \n",
       "28   29.0  0.990693  0.379165  0.052764  0.202420  0.992645  0.216743   \n",
       "29   30.0  0.990877  0.387019  0.050876  0.184945  0.993177  0.163646   \n",
       "30   31.0  0.990892  0.397052  0.058921  0.171978  0.992853  0.239943   \n",
       "31   32.0  0.990921  0.395695  0.074338  0.182738  0.992964  0.262116   \n",
       "32   33.0  0.991137  0.409283  0.065324  0.166691  0.991812  0.262092   \n",
       "33   34.0  0.991305  0.415083  0.072872  0.169055  0.993243  0.176699   \n",
       "34   35.0  0.991291  0.415969  0.064833  0.145937  0.992742  0.262549   \n",
       "35   36.0  0.991477  0.420699  0.078194  0.145091  0.993198  0.212188   \n",
       "36   37.0  0.991534  0.431450  0.073918  0.154687  0.993059  0.263206   \n",
       "37   38.0  0.991630  0.436767  0.082961  0.144198  0.993172  0.244731   \n",
       "38   39.0  0.991694  0.443287  0.080506  0.161091  0.992999  0.148059   \n",
       "39   40.0  0.991643  0.440016  0.073371  0.132305  0.993201  0.235795   \n",
       "40   41.0  0.991726  0.449071  0.083053  0.147793  0.993063  0.293974   \n",
       "41   42.0  0.991763  0.451489  0.084890  0.134448  0.993008  0.280899   \n",
       "42   43.0  0.991901  0.459556  0.081411  0.126900  0.992935  0.267607   \n",
       "43   44.0  0.992066  0.452937  0.091370  0.136124  0.993297  0.244410   \n",
       "44   45.0  0.992185  0.466166  0.092912  0.117735  0.993139  0.223247   \n",
       "45   46.0  0.992222  0.469172  0.101251  0.127899  0.993265  0.231566   \n",
       "46   47.0  0.992413  0.476480  0.103931  0.126868  0.993062  0.245460   \n",
       "47   48.0  0.992132  0.470046  0.097266  0.111093  0.993206  0.212897   \n",
       "48   49.0  0.992330  0.478707  0.101117  0.113448  0.992654  0.306471   \n",
       "49   50.0  0.992389  0.480254  0.108162  0.122235  0.993249  0.281093   \n",
       "50   51.0  0.992434  0.485635  0.113795  0.113127  0.992506  0.292199   \n",
       "51   52.0  0.992565  0.491687  0.123053  0.108242  0.993270  0.229612   \n",
       "52   53.0  0.992513  0.488721  0.120913  0.108431  0.993246  0.260030   \n",
       "53   54.0  0.992496  0.489394  0.133333  0.101310  0.993265  0.226008   \n",
       "54   55.0  0.992697  0.497393  0.136959  0.117106  0.993446  0.239996   \n",
       "55   56.0  0.992667  0.499902  0.141431  0.109334  0.992622  0.284300   \n",
       "56   57.0  0.992828  0.495526  0.150675  0.115278  0.991015  0.255031   \n",
       "57   58.0  0.992629  0.489222  0.147444  0.108673  0.993008  0.285164   \n",
       "58   59.0  0.992924  0.507389  0.158931  0.107995  0.993020  0.314282   \n",
       "59   60.0  0.992923  0.512121  0.168570  0.122601  0.993240  0.271910   \n",
       "\n",
       "    v_dice_2  v_dice_3     t_loss     v_loss  \n",
       "0   0.024226  0.005808  26.369723  31.600731  \n",
       "1   0.013671  0.011740  29.641315  32.471601  \n",
       "2   0.011253  0.074389  32.709628  28.873277  \n",
       "3   0.013836  0.165130  31.409625  24.560036  \n",
       "4   0.014862  0.278488  30.608041  23.397844  \n",
       "5   0.007577  0.557969  27.813691  23.643611  \n",
       "6   0.009584  0.713884  27.122934  23.608912  \n",
       "7   0.013020  0.619889  26.709495  19.507080  \n",
       "8   0.022422  0.428261  25.390801  18.170332  \n",
       "9   0.028728  0.434018  23.098205  17.584844  \n",
       "10  0.014603  0.505474  21.575947  19.367322  \n",
       "11  0.019357  0.560699  21.455904  17.114895  \n",
       "12  0.062970  0.308912  19.404351  14.571386  \n",
       "13  0.031323  0.427446  18.735303  15.989828  \n",
       "14  0.026255  0.475061  17.978150  18.808574  \n",
       "15  0.031738  0.504763  17.200916  16.936398  \n",
       "16  0.039362  0.558233  17.782326  13.028256  \n",
       "17  0.038257  0.483023  15.713276  12.570326  \n",
       "18  0.077756  0.267827  14.825511  13.634137  \n",
       "19  0.060372  0.371390  15.029216  11.938878  \n",
       "20  0.068867  0.329906  14.145517  11.255873  \n",
       "21  0.013539  0.660324  13.881928  16.186535  \n",
       "22  0.077253  0.350488  14.180229  13.032765  \n",
       "23  0.047833  0.599280  13.734974  13.991571  \n",
       "24  0.036463  0.541602  13.315215  11.573875  \n",
       "25  0.072145  0.270836  12.790826  12.785542  \n",
       "26  0.065196  0.337471  13.322745  11.680893  \n",
       "27  0.066482  0.397947  13.684494  11.915104  \n",
       "28  0.057217  0.407109  12.997645  11.786541  \n",
       "29  0.046622  0.635725  13.147999  10.792188  \n",
       "30  0.030153  0.428897  13.164082  11.914675  \n",
       "31  0.048270  0.367474  12.729953  10.950735  \n",
       "32  0.079293  0.259562  13.338041  10.714575  \n",
       "33  0.060286  0.574001  12.800654  13.863164  \n",
       "34  0.077777  0.269900  13.214901  12.495388  \n",
       "35  0.081847  0.309750  12.770002  10.829559  \n",
       "36  0.074698  0.277397  12.660924  12.229151  \n",
       "37  0.067668  0.404101  12.496400  10.647245  \n",
       "38  0.020265  0.582978  12.605703  14.206854  \n",
       "39  0.070093  0.270372  12.966852  11.644185  \n",
       "40  0.071420  0.267248  12.444418  11.323466  \n",
       "41  0.070203  0.259975  12.532504  10.969559  \n",
       "42  0.079021  0.258576  12.939597  12.453117  \n",
       "43  0.071054  0.305814  12.385882  10.808338  \n",
       "44  0.038507  0.406784  12.744679  13.256744  \n",
       "45  0.077018  0.277860  12.453406  13.119926  \n",
       "46  0.031862  0.334943  12.087000  13.336054  \n",
       "47  0.051953  0.503461  12.482249  11.022717  \n",
       "48  0.089294  0.255423  12.479874  10.068304  \n",
       "49  0.071059  0.320171  12.169444  16.088801  \n",
       "50  0.098053  0.253144  12.010892  11.588685  \n",
       "51  0.085177  0.258418  11.820434  13.035115  \n",
       "52  0.079138  0.257637  11.800963  12.708709  \n",
       "53  0.087651  0.338802  11.851908  10.701807  \n",
       "54  0.099435  0.287218  11.189514  13.157355  \n",
       "55  0.112549  0.252764  11.572139  12.218292  \n",
       "56  0.085973  0.252715  10.985919  10.922395  \n",
       "57  0.118429  0.253654  11.390329  15.586900  \n",
       "58  0.097601  0.253742  11.188075  15.320987  \n",
       "59  0.111042  0.254563  11.002666  13.871776  "
      ]
     },
     "execution_count": 18,
     "metadata": {},
     "output_type": "execute_result"
    }
   ],
   "source": [
    "pd.read_csv('log.csv')"
   ]
  },
  {
   "cell_type": "markdown",
   "metadata": {},
   "source": [
    "# Loss Plots"
   ]
  },
  {
   "cell_type": "code",
   "execution_count": 19,
   "metadata": {},
   "outputs": [
    {
     "data": {
      "image/png": "[encoded data removed]",
      "text/plain": [
       "<Figure size 432x288 with 1 Axes>"
      ]
     },
     "metadata": {
      "needs_background": "light"
     },
     "output_type": "display_data"
    }
   ],
   "source": [
    "x_axis = range(0, num_epochs)\n",
    "fig, ax = plt.subplots()\n",
    "ax.plot(x_axis, training_losses, label='Train')\n",
    "ax.plot(x_axis, validation_losses, label='Validation')\n",
    "ax.legend()\n",
    "plt.ylabel('Loss')\n",
    "plt.show()"
   ]
  },
  {
   "cell_type": "markdown",
   "metadata": {},
   "source": [
    "# Show Results"
   ]
  },
  {
   "cell_type": "code",
   "execution_count": 20,
   "metadata": {},
   "outputs": [
    {
     "data": {
      "application/vnd.jupyter.widget-view+json": {
       "model_id": "",
       "version_major": 2,
       "version_minor": 0
      },
      "text/plain": [
       "HBox(children=(FloatProgress(value=0.0, description='Validation', max=4.0, style=ProgressStyle(description_wid…"
      ]
     },
     "metadata": {},
     "output_type": "display_data"
    },
    {
     "name": "stdout",
     "output_type": "stream",
     "text": [
      "torch.Size([4, 4, 12, 200, 200])\n",
      "torch.Size([4, 4, 12, 200, 200])\n",
      "torch.Size([4, 4, 12, 200, 200])\n",
      "torch.Size([4, 4, 12, 200, 200])\n",
      "\r"
     ]
    }
   ],
   "source": [
    "from tqdm.notebook import tqdm, trange\n",
    "\n",
    "model.eval()  # evaluation mode\n",
    "batch_iter = tqdm(enumerate(val_loader), 'Validation', total=len(val_loader),\n",
    "                    leave=False)\n",
    "\n",
    "model_outputs = []\n",
    "original_images = []\n",
    "gts = []\n",
    "dice_c0 = []\n",
    "dice_c1 = []\n",
    "dice_c2 = []\n",
    "dice_c3 = []\n",
    "\n",
    "for i, (x, y) in batch_iter:\n",
    "    input, target = x.to(device), y.to(device)  # send to device (GPU or CPU)\n",
    "    \n",
    "    original_images.append(input.detach().clone())\n",
    "    gts.append(target.detach().clone())\n",
    "    \n",
    "    with torch.no_grad():\n",
    "        out = model(input)\n",
    "        print(out.shape)\n",
    "    \n",
    "    out_soft = torch.argmax(out, dim=1) \n",
    "    model_outputs.append(out_soft)\n",
    "\n",
    "    \n",
    "    dice_c0.append(dice_score(out.detach().clone(), target, 0))\n",
    "    dice_c1.append(dice_score(out.detach().clone(), target, 1))\n",
    "    dice_c2.append(dice_score(out.detach().clone(), target, 2))\n",
    "    dice_c3.append(dice_score(out.detach().clone(), target, 3))\n",
    "\n",
    "\n",
    "batch_iter.close()"
   ]
  },
  {
   "cell_type": "code",
   "execution_count": 21,
   "metadata": {},
   "outputs": [],
   "source": [
    "model_outputs = np.asarray(model_outputs)\n",
    "original_images = np.asarray(original_images)\n",
    "gts = np.asarray(gts)"
   ]
  },
  {
   "cell_type": "code",
   "execution_count": 22,
   "metadata": {},
   "outputs": [
    {
     "data": {
      "text/plain": [
       "(torch.Size([4, 12, 200, 200]),\n",
       " torch.Size([4, 1, 12, 200, 200]),\n",
       " torch.Size([4, 12, 200, 200]))"
      ]
     },
     "execution_count": 22,
     "metadata": {},
     "output_type": "execute_result"
    }
   ],
   "source": [
    "model_outputs[0].shape, original_images[0].shape, gts[0].shape"
   ]
  },
  {
   "cell_type": "code",
   "execution_count": 23,
   "metadata": {},
   "outputs": [
    {
     "data": {
      "text/plain": [
       "<matplotlib.image.AxesImage at 0x7fc128f60f90>"
      ]
     },
     "execution_count": 23,
     "metadata": {},
     "output_type": "execute_result"
    },
    {
     "data": {
      "image/png": "[encoded data removed]",
      "text/plain": [
       "<Figure size 432x288 with 1 Axes>"
      ]
     },
     "metadata": {
      "needs_background": "light"
     },
     "output_type": "display_data"
    }
   ],
   "source": [
    "plt.imshow(original_images[0][2][0][6].cpu(), cmap='gray')"
   ]
  },
  {
   "cell_type": "code",
   "execution_count": 24,
   "metadata": {},
   "outputs": [
    {
     "data": {
      "text/plain": [
       "<matplotlib.image.AxesImage at 0x7fc128f3d7d0>"
      ]
     },
     "execution_count": 24,
     "metadata": {},
     "output_type": "execute_result"
    },
    {
     "data": {
      "image/png": "[encoded data removed]",
      "text/plain": [
       "<Figure size 432x288 with 1 Axes>"
      ]
     },
     "metadata": {
      "needs_background": "light"
     },
     "output_type": "display_data"
    }
   ],
   "source": [
    "plt.imshow(gts[0][2][6].cpu(), cmap='gray')"
   ]
  },
  {
   "cell_type": "code",
   "execution_count": 25,
   "metadata": {},
   "outputs": [
    {
     "data": {
      "text/plain": [
       "<matplotlib.image.AxesImage at 0x7fc128ea2b90>"
      ]
     },
     "execution_count": 25,
     "metadata": {},
     "output_type": "execute_result"
    },
    {
     "data": {
      "image/png": "[encoded data removed]",
      "text/plain": [
       "<Figure size 432x288 with 1 Axes>"
      ]
     },
     "metadata": {
      "needs_background": "light"
     },
     "output_type": "display_data"
    }
   ],
   "source": [
    "plt.imshow(model_outputs[0][2][6].cpu(), cmap='gray')"
   ]
  },
  {
   "cell_type": "code",
   "execution_count": null,
   "metadata": {},
   "outputs": [],
   "source": []
  },
  {
   "cell_type": "markdown",
   "metadata": {},
   "source": [
    "# Check"
   ]
  },
  {
   "cell_type": "code",
   "execution_count": 26,
   "metadata": {},
   "outputs": [
    {
     "data": {
      "text/html": [
       "<div>\n",
       "<style scoped>\n",
       "    .dataframe tbody tr th:only-of-type {\n",
       "        vertical-align: middle;\n",
       "    }\n",
       "\n",
       "    .dataframe tbody tr th {\n",
       "        vertical-align: top;\n",
       "    }\n",
       "\n",
       "    .dataframe thead th {\n",
       "        text-align: right;\n",
       "    }\n",
       "</style>\n",
       "<table border=\"1\" class=\"dataframe\">\n",
       "  <thead>\n",
       "    <tr style=\"text-align: right;\">\n",
       "      <th></th>\n",
       "      <th>External code</th>\n",
       "      <th>VendorName</th>\n",
       "      <th>Vendor</th>\n",
       "      <th>Centre</th>\n",
       "      <th>ED</th>\n",
       "      <th>ES</th>\n",
       "    </tr>\n",
       "  </thead>\n",
       "  <tbody>\n",
       "    <tr>\n",
       "      <th>22</th>\n",
       "      <td>A5C2D2</td>\n",
       "      <td>Philips</td>\n",
       "      <td>B</td>\n",
       "      <td>3</td>\n",
       "      <td>24</td>\n",
       "      <td>9</td>\n",
       "    </tr>\n",
       "  </tbody>\n",
       "</table>\n",
       "</div>"
      ],
      "text/plain": [
       "   External code VendorName Vendor  Centre  ED  ES\n",
       "22        A5C2D2    Philips      B       3  24   9"
      ]
     },
     "execution_count": 26,
     "metadata": {},
     "output_type": "execute_result"
    }
   ],
   "source": [
    "metadata[metadata['External code'] == 'A5C2D2']"
   ]
  },
  {
   "cell_type": "code",
   "execution_count": 27,
   "metadata": {},
   "outputs": [],
   "source": [
    "p = dataDir + 'Validation/A5C2D2/A5C2D2_sa_gt.nii.gz'\n",
    "a = nib.load(p).get_fdata()"
   ]
  },
  {
   "cell_type": "code",
   "execution_count": 28,
   "metadata": {},
   "outputs": [
    {
     "data": {
      "text/plain": [
       "(288, 288, 10, 25)"
      ]
     },
     "execution_count": 28,
     "metadata": {},
     "output_type": "execute_result"
    }
   ],
   "source": [
    "a.shape"
   ]
  },
  {
   "cell_type": "code",
   "execution_count": 29,
   "metadata": {},
   "outputs": [],
   "source": [
    "a = a[:,:,:, 24]"
   ]
  },
  {
   "cell_type": "code",
   "execution_count": 30,
   "metadata": {},
   "outputs": [
    {
     "data": {
      "text/plain": [
       "(12, 200, 200)"
      ]
     },
     "execution_count": 30,
     "metadata": {},
     "output_type": "execute_result"
    }
   ],
   "source": [
    "a = change_sizes(a, 0, True)\n",
    "a = normalize_01(a)\n",
    "a.shape"
   ]
  },
  {
   "cell_type": "code",
   "execution_count": 31,
   "metadata": {},
   "outputs": [
    {
     "data": {
      "text/plain": [
       "<matplotlib.image.AxesImage at 0x7fc128e9c650>"
      ]
     },
     "execution_count": 31,
     "metadata": {},
     "output_type": "execute_result"
    },
    {
     "data": {
      "image/png": "[encoded data removed]",
      "text/plain": [
       "<Figure size 432x288 with 1 Axes>"
      ]
     },
     "metadata": {
      "needs_background": "light"
     },
     "output_type": "display_data"
    }
   ],
   "source": [
    "plt.imshow(a[2], cmap='gray')"
   ]
  },
  {
   "cell_type": "code",
   "execution_count": null,
   "metadata": {},
   "outputs": [],
   "source": []
  }
 ],
 "metadata": {
  "kernelspec": {
   "display_name": "Python 3",
   "language": "python",
   "name": "python3"
  },
  "language_info": {
   "codemirror_mode": {
    "name": "ipython",
    "version": 3
   },
   "file_extension": ".py",
   "mimetype": "text/x-python",
   "name": "python",
   "nbconvert_exporter": "python",
   "pygments_lexer": "ipython3",
   "version": "3.7.6"
  }
 },
 "nbformat": 4,
 "nbformat_minor": 4
}
