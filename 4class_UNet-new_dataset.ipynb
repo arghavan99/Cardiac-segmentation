{
 "cells": [
  {
   "cell_type": "code",
   "execution_count": 1,
   "metadata": {
    "id": "bz89XPKPbKOo"
   },
   "outputs": [],
   "source": [
    "import torch\n",
    "import torch.nn as nn\n",
    "# from apex import amp\n",
    "from torch.cuda import amp\n",
    "import numpy as np\n",
    "from tqdm import tqdm\n",
    "import torch\n",
    "from torch.nn import functional as F\n",
    "\n",
    "from torch.utils.data import Dataset, DataLoader\n",
    "from torchvision import transforms as transforms\n",
    "from torch.autograd import Variable\n",
    "from PIL import Image\n",
    "from matplotlib.pyplot import imshow\n",
    "from scipy import ndimage as ndi\n",
    "from skimage.transform import resize\n",
    "import pandas as pd\n",
    "import os\n",
    "import nibabel as nib\n",
    "\n",
    "\n",
    "import matplotlib.pyplot as plt\n",
    "%matplotlib inline\n",
    "\n",
    "%gui qt"
   ]
  },
  {
   "cell_type": "code",
   "execution_count": 2,
   "metadata": {
    "colab": {
     "base_uri": "https://localhost:8080/"
    },
    "id": "WGtOKcj5iIbu",
    "outputId": "b9ca2e76-f2f7-4b2d-8528-ec550d0be121"
   },
   "outputs": [],
   "source": [
    "# from google.colab import drive\n",
    "# drive.mount('/content/drive', force_remount=True)"
   ]
  },
  {
   "cell_type": "code",
   "execution_count": 3,
   "metadata": {
    "colab": {
     "base_uri": "https://localhost:8080/"
    },
    "id": "goEKPgCWQTE8",
    "outputId": "79e04f6a-4e6e-483e-c227-f2dffd05c6f1"
   },
   "outputs": [
    {
     "name": "stdout",
     "output_type": "stream",
     "text": [
      "Fri May 28 05:45:42 2021       \r\n",
      "+-----------------------------------------------------------------------------+\r\n",
      "| NVIDIA-SMI 430.50       Driver Version: 430.50       CUDA Version: 10.1     |\r\n",
      "|-------------------------------+----------------------+----------------------+\r\n",
      "| GPU  Name        Persistence-M| Bus-Id        Disp.A | Volatile Uncorr. ECC |\r\n",
      "| Fan  Temp  Perf  Pwr:Usage/Cap|         Memory-Usage | GPU-Util  Compute M. |\r\n",
      "|===============================+======================+======================|\r\n",
      "|   0  GeForce GTX 108...  Off  | 00000000:00:05.0 Off |                  N/A |\r\n",
      "|  0%   19C    P0    53W / 250W |      0MiB / 11178MiB |      0%      Default |\r\n",
      "+-------------------------------+----------------------+----------------------+\r\n",
      "                                                                               \r\n",
      "+-----------------------------------------------------------------------------+\r\n",
      "| Processes:                                                       GPU Memory |\r\n",
      "|  GPU       PID   Type   Process name                             Usage      |\r\n",
      "|=============================================================================|\r\n",
      "|  No running processes found                                                 |\r\n",
      "+-----------------------------------------------------------------------------+\r\n"
     ]
    }
   ],
   "source": [
    "# device = torch.device(\"cuda\" if torch.cuda.is_available() else \"cpu\")\n",
    "!nvidia-smi"
   ]
  },
  {
   "cell_type": "code",
   "execution_count": 4,
   "metadata": {
    "colab": {
     "base_uri": "https://localhost:8080/"
    },
    "id": "oOGw8jIrkJgu",
    "outputId": "93809009-52f7-4ab7-a5c1-0df1143993ce"
   },
   "outputs": [
    {
     "data": {
      "text/plain": [
       "device(type='cuda')"
      ]
     },
     "execution_count": 4,
     "metadata": {},
     "output_type": "execute_result"
    }
   ],
   "source": [
    "# device\n",
    "if torch.cuda.is_available():\n",
    "    device = torch.device('cuda')\n",
    "else:\n",
    "    device= torch.device('cpu')\n",
    "device"
   ]
  },
  {
   "cell_type": "markdown",
   "metadata": {
    "id": "TVaLjksjQTE_"
   },
   "source": [
    "# Import Data"
   ]
  },
  {
   "cell_type": "code",
   "execution_count": 5,
   "metadata": {
    "colab": {
     "base_uri": "https://localhost:8080/",
     "height": 424
    },
    "id": "5dP4ft_BQTE_",
    "outputId": "769baea1-dc49-4f4f-f1c2-eff690964b29"
   },
   "outputs": [
    {
     "data": {
      "text/html": [
       "<div>\n",
       "<style scoped>\n",
       "    .dataframe tbody tr th:only-of-type {\n",
       "        vertical-align: middle;\n",
       "    }\n",
       "\n",
       "    .dataframe tbody tr th {\n",
       "        vertical-align: top;\n",
       "    }\n",
       "\n",
       "    .dataframe thead th {\n",
       "        text-align: right;\n",
       "    }\n",
       "</style>\n",
       "<table border=\"1\" class=\"dataframe\">\n",
       "  <thead>\n",
       "    <tr style=\"text-align: right;\">\n",
       "      <th></th>\n",
       "      <th>External code</th>\n",
       "      <th>VendorName</th>\n",
       "      <th>Vendor</th>\n",
       "      <th>Centre</th>\n",
       "      <th>ED</th>\n",
       "      <th>ES</th>\n",
       "    </tr>\n",
       "  </thead>\n",
       "  <tbody>\n",
       "    <tr>\n",
       "      <th>0</th>\n",
       "      <td>A0S9V9</td>\n",
       "      <td>Siemens</td>\n",
       "      <td>A</td>\n",
       "      <td>1</td>\n",
       "      <td>0</td>\n",
       "      <td>9</td>\n",
       "    </tr>\n",
       "    <tr>\n",
       "      <th>1</th>\n",
       "      <td>A1D0Q7</td>\n",
       "      <td>Philips</td>\n",
       "      <td>B</td>\n",
       "      <td>2</td>\n",
       "      <td>0</td>\n",
       "      <td>9</td>\n",
       "    </tr>\n",
       "    <tr>\n",
       "      <th>2</th>\n",
       "      <td>A1D9Z7</td>\n",
       "      <td>Siemens</td>\n",
       "      <td>A</td>\n",
       "      <td>1</td>\n",
       "      <td>22</td>\n",
       "      <td>11</td>\n",
       "    </tr>\n",
       "    <tr>\n",
       "      <th>3</th>\n",
       "      <td>A1E9Q1</td>\n",
       "      <td>Siemens</td>\n",
       "      <td>A</td>\n",
       "      <td>1</td>\n",
       "      <td>0</td>\n",
       "      <td>9</td>\n",
       "    </tr>\n",
       "    <tr>\n",
       "      <th>4</th>\n",
       "      <td>A1K2P5</td>\n",
       "      <td>Canon</td>\n",
       "      <td>D</td>\n",
       "      <td>5</td>\n",
       "      <td>33</td>\n",
       "      <td>11</td>\n",
       "    </tr>\n",
       "    <tr>\n",
       "      <th>...</th>\n",
       "      <td>...</td>\n",
       "      <td>...</td>\n",
       "      <td>...</td>\n",
       "      <td>...</td>\n",
       "      <td>...</td>\n",
       "      <td>...</td>\n",
       "    </tr>\n",
       "    <tr>\n",
       "      <th>340</th>\n",
       "      <td>T2Z1Z9</td>\n",
       "      <td>Canon</td>\n",
       "      <td>D</td>\n",
       "      <td>5</td>\n",
       "      <td>29</td>\n",
       "      <td>9</td>\n",
       "    </tr>\n",
       "    <tr>\n",
       "      <th>341</th>\n",
       "      <td>T9U9W2</td>\n",
       "      <td>Siemens</td>\n",
       "      <td>A</td>\n",
       "      <td>1</td>\n",
       "      <td>0</td>\n",
       "      <td>10</td>\n",
       "    </tr>\n",
       "    <tr>\n",
       "      <th>342</th>\n",
       "      <td>V4W8Z5</td>\n",
       "      <td>GE</td>\n",
       "      <td>C</td>\n",
       "      <td>4</td>\n",
       "      <td>19</td>\n",
       "      <td>9</td>\n",
       "    </tr>\n",
       "    <tr>\n",
       "      <th>343</th>\n",
       "      <td>W5Z4Z8</td>\n",
       "      <td>Philips</td>\n",
       "      <td>B</td>\n",
       "      <td>2</td>\n",
       "      <td>29</td>\n",
       "      <td>11</td>\n",
       "    </tr>\n",
       "    <tr>\n",
       "      <th>344</th>\n",
       "      <td>Y6Y9Z2</td>\n",
       "      <td>Philips</td>\n",
       "      <td>B</td>\n",
       "      <td>3</td>\n",
       "      <td>29</td>\n",
       "      <td>9</td>\n",
       "    </tr>\n",
       "  </tbody>\n",
       "</table>\n",
       "<p>345 rows × 6 columns</p>\n",
       "</div>"
      ],
      "text/plain": [
       "    External code VendorName Vendor  Centre  ED  ES\n",
       "0          A0S9V9    Siemens      A       1   0   9\n",
       "1          A1D0Q7    Philips      B       2   0   9\n",
       "2          A1D9Z7    Siemens      A       1  22  11\n",
       "3          A1E9Q1    Siemens      A       1   0   9\n",
       "4          A1K2P5      Canon      D       5  33  11\n",
       "..            ...        ...    ...     ...  ..  ..\n",
       "340        T2Z1Z9      Canon      D       5  29   9\n",
       "341        T9U9W2    Siemens      A       1   0  10\n",
       "342        V4W8Z5         GE      C       4  19   9\n",
       "343        W5Z4Z8    Philips      B       2  29  11\n",
       "344        Y6Y9Z2    Philips      B       3  29   9\n",
       "\n",
       "[345 rows x 6 columns]"
      ]
     },
     "execution_count": 5,
     "metadata": {},
     "output_type": "execute_result"
    }
   ],
   "source": [
    "dataDir = 'downloads/OpenDataset/'\n",
    "# dataDir = 'drive/My Drive/B.Sc proj/OpenDataset/'\n",
    "metadata = pd.read_csv(dataDir + '201014_M&Ms_Dataset_Information_-_opendataset.csv')\n",
    "metadata"
   ]
  },
  {
   "cell_type": "code",
   "execution_count": 6,
   "metadata": {},
   "outputs": [],
   "source": [
    "# train_folder = 'train/train'\n",
    "\n",
    "# for root, dir, files in os.walk(train_folder):\n",
    "#             for f in files:\n",
    "#                 a = pd.read_csv(train_folder)\n",
    "# #                 "
   ]
  },
  {
   "cell_type": "markdown",
   "metadata": {
    "id": "8J2XMRxdQTFA"
   },
   "source": [
    "# Define Dataset"
   ]
  },
  {
   "cell_type": "code",
   "execution_count": 7,
   "metadata": {
    "id": "c8K2WqfXQTFB"
   },
   "outputs": [],
   "source": [
    "def normalize_01(inp: np.ndarray):\n",
    "    inp_out = (inp - np.min(inp)) / np.ptp(inp)\n",
    "    return inp_out\n",
    "\n",
    "def change_sizes(img, diff_seq, is_mask):\n",
    "    img = img[:,:, diff_seq//2:img.shape[2]-(diff_seq-diff_seq//2)]\n",
    "    res = []\n",
    "    for i in range(img.shape[2]):\n",
    "        x = resize(img[:,:, i], (224,224))\n",
    "        res.append(x)\n",
    "    return np.asarray(res)\n",
    "    \n",
    "def change_size_and_pad(img, diff_seq):\n",
    "    res = []\n",
    "    temp = np.zeros((224, 224))\n",
    "    for i in range(diff_seq//2):\n",
    "        res.append(temp)\n",
    "    for i in range(img.shape[2]):\n",
    "        x = resize(img[:,:, i], (224,224))\n",
    "        res.append(x)\n",
    "    for i in range(diff_seq - diff_seq//2):\n",
    "        res.append(temp)\n",
    "    return np.asarray(res)\n",
    "\n",
    "\n",
    "def convert_two_class(x, inp_classes, target_class):\n",
    "    for c in inp_classes:\n",
    "        x[x == c] = target_class\n",
    "    return x\n",
    "\n",
    "\n",
    "p = dataDir + 'Validation/A5C2D2/A5C2D2_sa_gt.nii.gz'\n",
    "a = nib.load(p).get_fdata()\n",
    "\n",
    "\n",
    "class SegDataset(Dataset):\n",
    "    def __init__(self, all_dirs, metadata, addr):\n",
    "        self.all_dirs = all_dirs \n",
    "        self.metadata = metadata\n",
    "        self.addr = addr\n",
    "        self.num_seq = 16\n",
    "\n",
    "\n",
    "    def __len__(self):\n",
    "        return 2*len(self.all_dirs)\n",
    "    \n",
    "    def __getitem__(self, idx):\n",
    "        item = self.all_dirs[idx//2]\n",
    "        path = self.addr + item\n",
    "\n",
    "        mask, img, id = None, None, None\n",
    "\n",
    "        ### lazy load data\n",
    "        for root, dir, files in os.walk(path):\n",
    "            for f in files:\n",
    "                img_arr = nib.load(path + '/' + f).get_fdata()\n",
    "#                 print(f\"file name is {f}\")\n",
    "                if f[-8] == 't':\n",
    "                    id = f.split('_')[0]\n",
    "                    mask = img_arr\n",
    "                else:\n",
    "                    img = img_arr\n",
    "        \n",
    "        # preparing data \n",
    "#         print(f\"df: {metadata[metadata['External code'] == id]['ES']}\")\n",
    "        if idx %2 == 0:\n",
    "            t = metadata[metadata['External code'] == id]['ES'].iloc[0]\n",
    "        else:\n",
    "            t = metadata[metadata['External code'] == id]['ED'].iloc[0]\n",
    "        \n",
    "        img = img[:, :, :, t]\n",
    "        gt = mask[:, :, :, t]\n",
    "\n",
    "\n",
    "#         print('maximum number of mask', np.max(gt) , '\\tmax of img', np.max(img))\n",
    "\n",
    "        diff_seq = img.shape[2] - self.num_seq\n",
    "        if diff_seq > 0: \n",
    "            img = change_sizes(img, diff_seq, False)\n",
    "            gt = change_sizes(gt, diff_seq, True)\n",
    "        else:\n",
    "#             print(f'BEFORE shape of img is {img.shape} and shape of mask is {gt.shape}')\n",
    "            img = change_size_and_pad(img, self.num_seq-img.shape[2])\n",
    "            gt = change_size_and_pad(gt, self.num_seq-gt.shape[2])\n",
    "        \n",
    "        # print(f'AFTER shape of img is {img.shape} and shape of mask is {gt.shape}')\n",
    "\n",
    "        img = normalize_01(img)\n",
    "                \n",
    "\n",
    "        # convert to tensors\n",
    "        img = torch.FloatTensor([img])\n",
    "#         mask = torch.LongTensor([gt])\n",
    "        mask = torch.LongTensor(gt)\n",
    "\n",
    "        # convert to 2 class format\n",
    "#         mask = convert_two_class(mask, [1,3], 0)\n",
    "#         mask[mask == 2] = 1\n",
    "#         mask = mask.float()# we only focus on class 1 \n",
    "        # print('maxxxx minnnnn', torch.max(mask), torch.min(mask))\n",
    "\n",
    "        return img, mask"
   ]
  },
  {
   "cell_type": "markdown",
   "metadata": {
    "id": "M4XrAWQkQTFC"
   },
   "source": [
    "# Load Dataset, DataLoader"
   ]
  },
  {
   "cell_type": "code",
   "execution_count": 8,
   "metadata": {
    "id": "myATXhNOQTFC"
   },
   "outputs": [],
   "source": [
    "batch_size = 4\n",
    "num_epochs = 80\n",
    "learning_rate = 0.0001\n",
    "\n",
    "UNLABELED = 4 "
   ]
  },
  {
   "cell_type": "code",
   "execution_count": 9,
   "metadata": {
    "id": "2j6ZQuQYQTFE"
   },
   "outputs": [],
   "source": [
    "train_dir = dataDir + '/Training/Labeled/'\n",
    "train_all = os.listdir(train_dir)\n",
    "train_dataset = SegDataset(train_all, metadata, train_dir)\n",
    "\n",
    "\n",
    "val_dir = dataDir + '/Validation/'\n",
    "val_all = os.listdir(val_dir)[:8]\n",
    "val_dataset = SegDataset(val_all, metadata, val_dir)\n",
    "\n",
    "train_loader = torch.utils.data.DataLoader(dataset=train_dataset,\n",
    "                                           batch_size=batch_size,\n",
    "                                           shuffle=True)\n",
    "val_loader = torch.utils.data.DataLoader(dataset=val_dataset,\n",
    "                                           batch_size=batch_size,\n",
    "                                           shuffle=True)"
   ]
  },
  {
   "cell_type": "markdown",
   "metadata": {
    "id": "FnIZ66voqiJp"
   },
   "source": [
    "# Define Loss\n"
   ]
  },
  {
   "cell_type": "code",
   "execution_count": 10,
   "metadata": {},
   "outputs": [],
   "source": [
    "def dice_score(inputs, targets, class_num, dims=[1,2,3], smooth=0.5):\n",
    "    inputs = inputs.detach().clone()\n",
    "    targets = targets.detach().clone()    \n",
    "    \n",
    "    inputs = torch.argmax(inputs, dim=1)\n",
    "#     print(f\"check dimensions {inputs.shape}, {targets.shape}\")\n",
    "\n",
    "\n",
    "\n",
    "#     inputs = torch.sigmoid(inputs)\n",
    "    \n",
    "    # round the probabilities to the closest integer\n",
    "    # target = torch.round(target)\n",
    "#     inputs = torch.round(inputs)\n",
    "    \n",
    "#     print('min and max', torch.min(inputs), torch.max(inputs))\n",
    "    \n",
    "    inputs[inputs == class_num] = -1\n",
    "    inputs[inputs != -1] = 0\n",
    "    inputs[inputs != 0] = 1\n",
    "\n",
    "    targets[targets == class_num] = -1\n",
    "    targets[targets != -1] = 0\n",
    "    targets[targets != 0] = 1   \n",
    "\n",
    "#     print(f\"inputs:{inputs}\\ntargets:{targets}\")\n",
    "\n",
    "    intersection = 2 * (inputs * targets)\n",
    "    total = (inputs + targets)\n",
    "#     print(f\"intersection: {intersection}\\ntotal: {total}\")\n",
    "    \n",
    "    intersection = intersection.sum(dim=dims)\n",
    "    total = total.sum(dim=dims)\n",
    "#     print(f\"intersection: {intersection}\\ntotal: {total}\")\n",
    "\n",
    "    dice = torch.add(intersection, smooth)/torch.add(total, smooth)\n",
    "    \n",
    "#     print('shape of dice', dice.shape)\n",
    "    dice = torch.mean(dice).item()\n",
    "#     print(dice)\n",
    "    return dice  "
   ]
  },
  {
   "cell_type": "code",
   "execution_count": 11,
   "metadata": {
    "id": "P4-xt0iBqoo2"
   },
   "outputs": [],
   "source": [
    "import torch\n",
    "from torch.nn import functional as F\n",
    "\n",
    "smooth = 1e-2 # smooth value for dice_coef calculation\n",
    "\n",
    "def dice_coef(outputs, target):\n",
    "\n",
    "    # target: labels of current batch. can contain UNLABELED or probabilities.\n",
    "    #     shape: (batch_size, 1, image_slices, width, height)\n",
    "    \n",
    "    # outputs: outputs of the model for current batch, without any activations.\n",
    "    #     shape: (batch_size, 1, image_slices, width, height)\n",
    "    \n",
    "    # get the batch size\n",
    "    batch_size = target.shape[0]\n",
    "    \n",
    "    # we calcaulate dice for each sample separately and return their sum.\n",
    "    if batch_size > 1:\n",
    "        result = dice_coef(outputs[0:1], target[0:1]) # dice of the first sample in batch\n",
    "        for i in range(1, len(target)): # add dice of the other samples\n",
    "            result = result + dice_coef(outputs[i:i+1], target[i:i+1])\n",
    "        return result\n",
    "    \n",
    "    # convert `outputs` to probability\n",
    "    outputs = torch.sigmoid(outputs)\n",
    "    \n",
    "    # round the probabilities to the closest integer\n",
    "    # target = torch.round(target)\n",
    "    outputs = torch.round(outputs)\n",
    "    \n",
    "    # shape of target and outputs will be (batch_size, 1, image_slices, width, height) here.\n",
    "    #     containing the class of each voxel.\n",
    "    \n",
    "    # find the actual labeled voxels. \n",
    "    # labeled_voxels = target != UNLABELED\n",
    "    # target = target[labeled_voxels]\n",
    "    # outputs = outputs[labeled_voxels]\n",
    "    \n",
    "    # so now both target and outputs have only values 0 and 1 for background and liver respectively.\n",
    "\n",
    "    \n",
    "    # calculate intersection of target and outputs for each sample in batch\n",
    "    intersection = (target * outputs).view(batch_size, -1).sum(-1).float()\n",
    "    \n",
    "    # calculate sum of target and outputs for each sample in batch\n",
    "    union = (target + outputs).view(batch_size, -1).sum(-1).float()\n",
    "\n",
    "    # numerator of dice_coef\n",
    "    numerator = 2. * intersection + smooth\n",
    "\n",
    "    # denominator of dice_coef\n",
    "    denominator = union + smooth\n",
    "\n",
    "    # calculate dice for each sample in batch\n",
    "    coef = numerator / denominator\n",
    "    \n",
    "    # sum over samples in batch\n",
    "    return coef.sum(0)\n",
    "\n",
    "\n",
    "def soft_binray_cross_entropy(outputs, target, class_weights, voxel_weights=None):\n",
    "    # target: labels of current batch. can contain UNLABELED or probabilities.\n",
    "    #     shape: (batch_size, 1, image_slices, width, height)\n",
    "    \n",
    "    # outputs: outputs of the model for current batch, without any activations.\n",
    "    #     shape: (batch_size, 1, image_slices, width, height)\n",
    "    \n",
    "    # class_weights: weights of classes. a tensor with shape (2, ). can't be None.\n",
    "    \n",
    "    # voxel_weights: a tensor with the exact shape of target's, containing a weight for each voxel. can be set to None.\n",
    "    #     shape: (batch_size, 1, image_slices, width, height)\n",
    "    \n",
    "    # get the batch size\n",
    "    batch_size = target.shape[0]\n",
    "    \n",
    "    # we calcaulate loss for each sample separately and return their sum.\n",
    "    if batch_size > 1:\n",
    "        # loss of the first sample in batch\n",
    "        result = soft_binray_cross_entropy(\n",
    "            outputs[0:1], \n",
    "            target[0:1], \n",
    "            class_weights, \n",
    "            None if voxel_weights is None else voxel_weights[0:1]\n",
    "        )\n",
    "        \n",
    "        for i in range(1, len(target)): # add loss of the other samples\n",
    "            result = result + soft_binray_cross_entropy(\n",
    "                outputs[i:i+1], \n",
    "                target[i:i+1], \n",
    "                class_weights, \n",
    "                None if voxel_weights is None else voxel_weights[i:i+1]\n",
    "            )\n",
    "        return result\n",
    "    \n",
    "    # max(x, 0) - x * z + log(1 + exp(-abs(x)))\n",
    "    outputs_positives = outputs.clone()\n",
    "    outputs_positives[outputs_positives < 0] = 0.\n",
    "    losses = outputs_positives - outputs * target + torch.log(1 + torch.exp(-torch.abs(outputs)))\n",
    "    # print('shape of loss', loss.shape)\n",
    "    \n",
    "    # calculate strict target (round the probabilities to closest integers)\n",
    "    # strict_target = torch.round(target)\n",
    "    strict_target = target\n",
    "    \n",
    "    # initialize weights with zeros\n",
    "    weights = torch.zeros_like(losses).to(target.device).float()\n",
    "    \n",
    "    # we set the weights of voxels according to their class\n",
    "    # the weight of voxels with class `UNLABELED` will remain zero\n",
    "    weights[strict_target == 0] = class_weights[0]\n",
    "    weights[strict_target == 1] = class_weights[1]\n",
    "    \n",
    "    # apply voxel_weights if not None\n",
    "    if voxel_weights is not None:\n",
    "        weights = weights * voxel_weights\n",
    "    \n",
    "    # weighted mean\n",
    "    return (losses * weights).sum() / weights.sum()"
   ]
  },
  {
   "cell_type": "markdown",
   "metadata": {
    "id": "GFl0pWDKoQP8"
   },
   "source": [
    "# Define UNet\n"
   ]
  },
  {
   "cell_type": "code",
   "execution_count": 12,
   "metadata": {
    "id": "HcoWSJquoTgX"
   },
   "outputs": [],
   "source": [
    "import torch\n",
    "import torch.nn as nn\n",
    "# from apex import amp\n",
    "from torch.cuda import amp\n",
    "import numpy as np\n",
    "from tqdm import tqdm\n",
    "\n",
    "class UNet3D(nn.Module):\n",
    "    def __init__(self, input_dim, output_dim, initial_filters=16, depth=4, dropout=0):\n",
    "        # input_dim: number of input channles. 1 in our case.\n",
    "        # output dim: number of output channels. 3 in our case. (since we have 3 labels)\n",
    "        # initial_filter: kernel_size of the first conv. usually 16 or 32.\n",
    "        # depth: depth of the U in unet. `image_slices` should be divisible by (2 ** depth)\n",
    "        # dropout: the possibility of zeroing a node out.\n",
    "        \n",
    "        super(UNet3D, self).__init__()\n",
    "        \n",
    "        self.input_dim = input_dim\n",
    "        self.output_dim = output_dim\n",
    "        self.initial_filters = initial_filters\n",
    "        self.depth = depth\n",
    "        self.dropout = dropout\n",
    "        activation = nn.ReLU(inplace=True)\n",
    "        \n",
    "        self.downs = nn.ModuleList()\n",
    "        self.ups = nn.ModuleList()\n",
    "        self.pools = nn.ModuleList()\n",
    "        self.trans = nn.ModuleList()\n",
    "        self.dropouts = nn.ModuleList()\n",
    "        \n",
    "        # Down\n",
    "        for i in range(depth):\n",
    "            in_dim = self.input_dim\n",
    "            if i > 0:\n",
    "                in_dim = self.initial_filters * 2 ** (i - 1)\n",
    "            out_dim = self.initial_filters * 2 ** i\n",
    "            self.downs.append(self.double_conv_block(in_dim, out_dim, activation))\n",
    "            self.pools.append(self.max_pool())\n",
    "            \n",
    "        \n",
    "        # Bridge\n",
    "        self.bridge = self.double_conv_block(\n",
    "            self.initial_filters * 2 ** (depth - 1),\n",
    "            self.initial_filters * 2 ** depth,\n",
    "            activation\n",
    "        )\n",
    "        \n",
    "        # Dropout\n",
    "        self.dropouts.append(self.dropout_layer())\n",
    "        \n",
    "        # Up\n",
    "        for i in range(depth):\n",
    "            trans_in_out_dim = self.initial_filters * 2 ** (depth - i)\n",
    "            self.trans.append(self.conv_transpose_block(trans_in_out_dim, trans_in_out_dim, activation))\n",
    "            \n",
    "            up_in_dim = self.initial_filters * (2 ** (depth - i) + 2 ** (depth - i - 1))\n",
    "            up_out_dim = self.initial_filters * 2 ** (depth - i - 1)\n",
    "            self.ups.append(self.double_conv_block(up_in_dim, up_out_dim, activation))\n",
    "            \n",
    "        # Dropout\n",
    "        self.dropouts.append(self.dropout_layer())\n",
    "        \n",
    "        # Output\n",
    "        self.out = self.prediction_mask(initial_filters, self.output_dim)\n",
    "        \n",
    "        self.initialize_parameters()\n",
    "        \n",
    "        \n",
    "    @staticmethod\n",
    "    def weight_init(module, method, **kwargs):\n",
    "        if isinstance(module, (nn.Conv3d, nn.Conv2d, nn.ConvTranspose3d, nn.ConvTranspose2d)):\n",
    "            method(module.weight, **kwargs)  # weights\n",
    "\n",
    "    @staticmethod\n",
    "    def bias_init(module, method, **kwargs):\n",
    "        if isinstance(module, (nn.Conv3d, nn.Conv2d, nn.ConvTranspose3d, nn.ConvTranspose2d)):\n",
    "            method(module.bias, **kwargs)  # bias\n",
    "\n",
    "    def initialize_parameters(self,\n",
    "                              method_weights=nn.init.xavier_uniform_,\n",
    "                              method_bias=nn.init.zeros_,\n",
    "                              kwargs_weights={},\n",
    "                              kwargs_bias={}\n",
    "                              ):\n",
    "        for module in self.modules():\n",
    "            self.weight_init(module, method_weights, **kwargs_weights)  # initialize weights\n",
    "            self.bias_init(module, method_bias, **kwargs_bias)  # initialize bias\n",
    "        \n",
    "    def single_conv_block(self, input_dim, output_dim, activation):\n",
    "        return nn.Sequential(\n",
    "            nn.Conv3d(input_dim, output_dim, kernel_size=3, stride=1, padding=1),\n",
    "            nn.BatchNorm3d(output_dim),\n",
    "            activation\n",
    "        )\n",
    "\n",
    "    def double_conv_block(self, input_dim, output_dim, activation):\n",
    "        return nn.Sequential(\n",
    "            self.single_conv_block(input_dim, output_dim, activation),\n",
    "            #nn.Dropout(p=self.dropout),\n",
    "            self.single_conv_block(output_dim, output_dim, activation)\n",
    "        )\n",
    "\n",
    "    def conv_transpose_block(self, input_dim, output_dim, activation):\n",
    "        return nn.Sequential(\n",
    "            nn.ConvTranspose3d(input_dim, output_dim, kernel_size=3, stride=2, padding=1, output_padding=1),\n",
    "            nn.BatchNorm3d(output_dim),\n",
    "            activation,\n",
    "            #nn.Dropout(p=self.dropout)\n",
    "        )\n",
    "\n",
    "    def prediction_mask(self, input_dim, output_dim):\n",
    "        # the activation is considered to in the loss.\n",
    "        return nn.Conv3d(input_dim, output_dim, kernel_size=1, stride=1, padding=0) \n",
    "\n",
    "    def max_pool(self):\n",
    "        return nn.MaxPool3d(kernel_size=2, stride=2, padding=0) \n",
    "    \n",
    "    def dropout_layer(self):\n",
    "        return nn.Dropout(p=self.dropout)\n",
    "        \n",
    "    def forward(self, x):\n",
    "        downs = []\n",
    "        ups = []\n",
    "        pools = []\n",
    "        trans = []\n",
    "        concats = []\n",
    "        dropouts = []\n",
    "        \n",
    "        # Down\n",
    "        for i in range(self.depth):\n",
    "            inp = x\n",
    "            if i > 0:\n",
    "                inp = pools[-1]\n",
    "            downs.append(self.downs[i](inp))\n",
    "            pools.append(self.pools[i](downs[-1]))\n",
    "        \n",
    "        # Bridge\n",
    "        bridge = self.bridge(pools[-1])\n",
    "        \n",
    "        # Dropout\n",
    "        dropouts.append(self.dropouts[0](bridge))\n",
    "        \n",
    "        # Up\n",
    "        for i in range(self.depth):\n",
    "            inp = dropouts[-1]\n",
    "            if i > 0:\n",
    "                inp = ups[-1]\n",
    "            trans.append(self.trans[i](inp))\n",
    "            concats.append(torch.cat([trans[-1], downs[self.depth - i - 1]], dim=1))\n",
    "            ups.append(self.ups[i](concats[-1]))\n",
    "        \n",
    "        # Dropout\n",
    "        dropouts.append(self.dropouts[1](ups[-1]))\n",
    "        \n",
    "        # Output\n",
    "        out = self.out(dropouts[-1])\n",
    "        return out\n"
   ]
  },
  {
   "cell_type": "markdown",
   "metadata": {
    "id": "tArCnyOMQTFI"
   },
   "source": [
    "# Define Trainer"
   ]
  },
  {
   "cell_type": "code",
   "execution_count": 13,
   "metadata": {
    "id": "ZBhGaFC-QTFJ"
   },
   "outputs": [],
   "source": [
    "class Trainer:\n",
    "    def __init__(self,\n",
    "                 model: torch.nn.Module,\n",
    "                 device: torch.device,\n",
    "                 criterion: torch.nn.Module,\n",
    "                 optimizer: torch.optim.Optimizer,\n",
    "                 training_DataLoader: torch.utils.data.Dataset,\n",
    "                 validation_DataLoader: torch.utils.data.Dataset = None,\n",
    "                 lr_scheduler: torch.optim.lr_scheduler = None,\n",
    "                 epochs: int = 100,\n",
    "                 epoch: int = 0,\n",
    "                 notebook: bool = False\n",
    "                 ):\n",
    "\n",
    "        self.model = model\n",
    "        self.criterion = criterion\n",
    "        self.optimizer = optimizer\n",
    "        self.lr_scheduler = lr_scheduler\n",
    "        self.training_DataLoader = training_DataLoader\n",
    "        self.validation_DataLoader = validation_DataLoader\n",
    "        self.device = device\n",
    "        self.epochs = epochs\n",
    "        self.epoch = epoch\n",
    "        self.notebook = notebook\n",
    "        \n",
    "\n",
    "        self.training_loss = []\n",
    "        self.validation_loss = []\n",
    "        self.learning_rate = []\n",
    "        \n",
    "        self.validation_dices_c0 = []\n",
    "        self.validation_dices_c1 = []\n",
    "        self.validation_dices_c2 = []\n",
    "        self.validation_dices_c3 = []\n",
    "\n",
    "\n",
    "        self.train_dices_c0 = []\n",
    "        self.train_dices_c1 = []\n",
    "        self.train_dices_c2 = []\n",
    "        self.train_dices_c3 = []\n",
    "        \n",
    "        cols = ['epoch', 't_dice_0', 't_dice_1', 't_dice_2', 't_dice_3', 'v_dice_0', 'v_dice_1', 'v_dice_2', 'v_dice_3', 't_loss', 'v_loss']\n",
    "        self.log = pd.DataFrame(columns=cols)\n",
    "        \n",
    "        self.log_file_name = 'log_initial_filter_8.csv'\n",
    "        self.model_name = 'unet_3d_initial_filter_8.pt'\n",
    "\n",
    "#         self.class_weights = torch.Tensor(training_DataLoader.dataset.get_class_weights()).cuda(0)\n",
    "    \n",
    "\n",
    "\n",
    "    def run_trainer(self):\n",
    "\n",
    "        if self.notebook:\n",
    "            from tqdm.notebook import tqdm, trange\n",
    "        else:\n",
    "            from tqdm import tqdm, trange\n",
    "\n",
    "        progressbar = trange(self.epochs, desc='Progress')\n",
    "        for i in progressbar:\n",
    "            \"\"\"Epoch counter\"\"\"\n",
    "            self.epoch += 1  # epoch counter\n",
    "\n",
    "            \"\"\"Training block\"\"\"\n",
    "            self._train()\n",
    "\n",
    "            \"\"\"Validation block\"\"\"\n",
    "            if self.validation_DataLoader is not None:\n",
    "                self._validate()\n",
    "\n",
    "            \"\"\"Learning rate scheduler block\"\"\"\n",
    "            if self.lr_scheduler is not None:\n",
    "                if self.validation_DataLoader is not None and self.lr_scheduler.__class__.__name__ == 'ReduceLROnPlateau':\n",
    "                    self.lr_scheduler.batch(self.validation_loss[i])  # learning rate scheduler step with validation loss\n",
    "                else:\n",
    "                    self.lr_scheduler.batch()  # learning rate scheduler step\n",
    "            \n",
    "            print(f\"epoch number {self.epoch} finished with following results:\")\n",
    "            print('\\ttrain dice c0', self.train_dices_c0[i], '\\ttrain dice c1', self.train_dices_c1[i])\n",
    "            print('\\ttrain dice c2', self.train_dices_c2[i], '\\ttrain dice c3', self.train_dices_c3[i])\n",
    "            print('\\tvalidation dice c0', self.validation_dices_c0[i], '\\tvalidation dice c1', self.validation_dices_c1[i])\n",
    "            print('\\tvalidation dice c2', self.validation_dices_c2[i], '\\tvalidation dice c4', self.validation_dices_c3[i])\n",
    "            print('\\ttrain loss ', self.training_loss[i], '\\tvalidation loss ', self.validation_loss[i])\n",
    "            \n",
    "\n",
    "            log_dict = {'epoch' : self.epoch,\n",
    "                        't_dice_0': self.train_dices_c0[i], 't_dice_1': self.train_dices_c1[i],\n",
    "                        't_dice_2': self.train_dices_c2[i], 't_dice_3': self.train_dices_c3[i],\n",
    "                        'v_dice_0':self.validation_dices_c0[i], 'v_dice_1':self.validation_dices_c1[i], \n",
    "                        'v_dice_2':self.validation_dices_c2[i], 'v_dice_3':self.validation_dices_c3[i], \n",
    "                        't_loss': self.training_loss[i], 'v_loss':self.validation_loss[i] }\n",
    "            \n",
    "            self.log = self.log.append(log_dict, ignore_index=True)\n",
    "\n",
    "            if i % 10 == 0 and i > 0:\n",
    "                torch.save(self.model, dataDir + self.model_name)\n",
    "                self.log.to_csv(self.log_file_name)\n",
    "                # self.dice_0_per_slice_log.to_csv('dice_0_per_slice_log.csv')\n",
    "        \n",
    "        \n",
    "        self.log.to_csv(self.log_file_name)\n",
    "        return self.training_loss, self.validation_loss, self.validation_dices_c0\n",
    "\n",
    "    def _train(self):\n",
    "\n",
    "        if self.notebook:\n",
    "            from tqdm.notebook import tqdm, trange\n",
    "        else:\n",
    "            from tqdm import tqdm, trange\n",
    "\n",
    "        self.model.train()  # train mode\n",
    "        train_losses = []  # accumulate the losses here\n",
    "\n",
    "        t_dices_c0 = []\n",
    "        t_dices_c1 = []\n",
    "        t_dices_c2 = []\n",
    "        t_dices_c3 = []\n",
    "        \n",
    "        batch_iter = tqdm(enumerate(self.training_DataLoader), 'Training', total=len(self.training_DataLoader),\n",
    "                          leave=False)\n",
    "\n",
    "        for i, (x, y) in batch_iter:\n",
    "#             print('shape of input:', x.shape)\n",
    "#             print('shape of output:', y.shape)\n",
    "            input, target = x.to(0), y.to(0)  # send to device (GPU or CPU)\n",
    "            self.optimizer.zero_grad()  # zerograd the parameters\n",
    "            out = self.model(input)  # one forward pass\n",
    "            # out = torch.argmax(out, dim=1)\n",
    "            # out = torch.unsqueeze(out, 1)\n",
    "            # print('**** shape of output:', out.shape)\n",
    "            # print('**** shape of target:', target.shape)\n",
    "#             loss = soft_binray_cross_entropy( \n",
    "#                     out,\n",
    "#                     target, # target\n",
    "#                     class_weights=self.class_weights,\n",
    "#                     # voxel_weights=VW.cuda(self.gpu)\n",
    "#                 )  # calculate loss\n",
    "#             loss = Variable(loss.data, requires_grad=True)\n",
    "            loss = criterion(out, target)\n",
    "            loss_value = loss.item()\n",
    "            train_losses.append(loss_value)\n",
    "            loss.backward()  # one backward pass\n",
    "            self.optimizer.step()  # update the parameters\n",
    "            \n",
    "#             t_dices_c0.append(dice_coef(out, target).item())\n",
    "            t_dices_c0.append(dice_score(out, target,0))\n",
    "            t_dices_c1.append(dice_score(out, target,1))\n",
    "            t_dices_c2.append(dice_score(out, target,2))\n",
    "            t_dices_c3.append(dice_score(out, target,3))\n",
    "                              \n",
    "            batch_iter.set_description(f'Training: (loss {loss_value:.4f})')  # update progressbar\n",
    "\n",
    "        self.training_loss.append(np.mean(train_losses))\n",
    "\n",
    "        self.train_dices_c0.append(np.mean(t_dices_c0))\n",
    "        self.train_dices_c1.append(np.mean(t_dices_c1))\n",
    "        self.train_dices_c2.append(np.mean(t_dices_c2))\n",
    "        self.train_dices_c3.append(np.mean(t_dices_c3))\n",
    "\n",
    "        self.learning_rate.append(self.optimizer.param_groups[0]['lr'])\n",
    "\n",
    "        batch_iter.close()\n",
    "\n",
    "    def _validate(self):\n",
    "\n",
    "        if self.notebook:\n",
    "            from tqdm.notebook import tqdm, trange\n",
    "        else:\n",
    "            from tqdm import tqdm, trange\n",
    "\n",
    "        self.model.eval()  # evaluation mode\n",
    "        valid_losses = []  # accumulate the losses here\n",
    "        valid_dices_c0 = []\n",
    "        valid_dices_c1 = []\n",
    "        valid_dices_c2 = []\n",
    "        valid_dices_c3 = []\n",
    "        \n",
    "        batch_iter = tqdm(enumerate(self.validation_DataLoader), 'Validation', total=len(self.validation_DataLoader),\n",
    "                          leave=False)\n",
    "\n",
    "        for i, (x, y) in batch_iter:\n",
    "            input, target = x.to(self.device), y.to(self.device)  # send to device (GPU or CPU)\n",
    "\n",
    "            with torch.no_grad():\n",
    "                out = self.model(input)\n",
    "                # out = torch.argmax(out, dim=1)\n",
    "                # out = torch.unsqueeze(out, 1)\n",
    "#                 loss = soft_binray_cross_entropy( \n",
    "#                     out,\n",
    "#                     target, # target\n",
    "#                     class_weights=self.class_weights,\n",
    "#                     # voxel_weights=VW.cuda(self.gpu)\n",
    "#                 )  # calculate loss\n",
    "                loss = criterion(out, target)\n",
    "                loss_value = loss.item()\n",
    "                valid_losses.append(loss_value)\n",
    "                \n",
    "    \n",
    "#                 valid_dices_c0.append(dice_coef(out, target).item())\n",
    "                valid_dices_c0.append(dice_score(out, target,0))\n",
    "                valid_dices_c1.append(dice_score(out, target,1))\n",
    "                valid_dices_c2.append(dice_score(out, target,2))\n",
    "                valid_dices_c3.append(dice_score(out, target,3))\n",
    "\n",
    "\n",
    "                batch_iter.set_description(f'Validation: (loss {loss_value:.4f})')\n",
    "\n",
    "        self.validation_loss.append(np.mean(valid_losses))\n",
    "        \n",
    "        self.validation_dices_c0.append(np.mean(valid_dices_c0))\n",
    "        self.validation_dices_c1.append(np.mean(valid_dices_c1))\n",
    "        self.validation_dices_c2.append(np.mean(valid_dices_c2))\n",
    "        self.validation_dices_c3.append(np.mean(valid_dices_c3))\n",
    "        \n",
    "        batch_iter.close()"
   ]
  },
  {
   "cell_type": "markdown",
   "metadata": {
    "id": "POP1WvhnkYhE"
   },
   "source": [
    "# Train"
   ]
  },
  {
   "cell_type": "code",
   "execution_count": 14,
   "metadata": {
    "id": "djeUVD70QTFL"
   },
   "outputs": [],
   "source": [
    "model = UNet3D(input_dim=1,\n",
    "             output_dim=4,\n",
    "             depth=4, dropout=0, initial_filters=8).to(device)\n",
    "\n",
    "# model = torch.load(dataDir + 'unet_3d_4class_dropout.pt')"
   ]
  },
  {
   "cell_type": "code",
   "execution_count": 15,
   "metadata": {},
   "outputs": [
    {
     "name": "stdout",
     "output_type": "stream",
     "text": [
      "[20711519, 8830, 6467, 9184] [0. 1. 2. 3.]\n"
     ]
    },
    {
     "data": {
      "text/plain": [
       "tensor([0.1000, 0.3000, 0.3000, 0.3000], device='cuda:0')"
      ]
     },
     "execution_count": 15,
     "metadata": {},
     "output_type": "execute_result"
    }
   ],
   "source": [
    "p = dataDir + 'Validation/A5C2D2/A5C2D2_sa_gt.nii.gz'\n",
    "a = nib.load(p).get_fdata()\n",
    "nSamples = [np.sum(a == 0), np.sum(a == 1), np.sum(a == 2), np.sum(a == 3)]\n",
    "print(nSamples, np.unique(a))\n",
    "weights = [1 - (x / sum(nSamples)) for x in nSamples]\n",
    "\n",
    "#############\n",
    "weights = [0.1, 0.3, 0.3 , 0.3]\n",
    "#############\n",
    "\n",
    "weights = torch.FloatTensor(weights).to(device)\n",
    "weights"
   ]
  },
  {
   "cell_type": "code",
   "execution_count": null,
   "metadata": {
    "colab": {
     "base_uri": "https://localhost:8080/",
     "height": 1000,
     "referenced_widgets": [
      "8f16864a24ff45a28c46c66eb63307f6",
      "909951502a5a4228b17c6ebd6c61ecee",
      "fed348fa26eb4c5b843b56a0140d227a",
      "6280af3dfcec465b953069d494170042",
      "36068bfd63104b20846d3112d718419f",
      "c264f4e1314249cf8e44f45c747d95a7",
      "179eb25754064ba59d88f5100bc7e50d",
      "9842c383e8214d11b7d75c11c8982d36",
      "18688386ec6041c5ae0f7e3aa1a1e617",
      "560a277859f84d7b9abddb59d4c117eb",
      "a5dfa4c0bff64611b6cdb8d26175ec11",
      "e1cde7b5bc6f49eaa772571ba719fff6",
      "74987e610294425f8476d85e9fcdccc2",
      "17cb2ac42e4a4fe0b6151bb0f4e08cb3",
      "f0d75016f36d400989786ac20d743fe1",
      "c78445f144f1437cbf7953ef6cfec6b7",
      "a238d8ca89b643b38a40a0e07f48c0c5",
      "3fae501eb7bb42bdbac96783894c74ac",
      "82c6ca325fb84c799b0fd53ce5060107",
      "3bf69561dfd24f5383894746634cfeab",
      "c626ad6cf40a4eaeb8c34c5ed2602090",
      "57fbb7b77b6e4746a339a5641430b3c8",
      "0f71e188335c42f69ed1308d89a1a4f2",
      "aaeed5a3f2024926b78f3cba4064e95d",
      "54b9c0dd2be1456d893d581a26629a3e",
      "cbcb9c51416d4274916f06fabae964ab",
      "d92cd9d4b1be4fe7a4a780e41f77648e",
      "26e8e9c604a24435b2c057f22a09fde5",
      "671bc4d3b15e4f329e18bc297924a9bf",
      "a92f9371fdd94dd1aee124a672152020",
      "87d22379e9f04fb9bbea3532432cd031",
      "400b19aed0b0407295b956eb8d403711",
      "090608609e2a43d0bdc7e75b054ca8f3",
      "60206f2796254cc1be974582ded2fe74",
      "f33eca4ad6ef4dc78d8e030e11546ceb",
      "d198706a06844919811a8265ad23d5cd",
      "52a31f8c369a46babdb62a9efba5fd61",
      "80a4bba215eb4c0bad1542fde9c932ee",
      "8f0b7396e5f8482290b41b1d29221863",
      "03d8f7bc04fa4727984cddfd25c2d719",
      "ba1d62459da7464892278507cef8eaa2",
      "7eb6827d6dd14acb8d53aee45e6f8c4f",
      "ecd73851b27146baa2b2b3473a5a722f",
      "1545d3f54a124713810e4c6e6432f27e",
      "4ebc43dc8b22482181b6301a3f06b1ce",
      "f004868b03594532a58d85288acdcd9c",
      "fb1c8deaaa284a8da3c8d7251a30db05",
      "c825cbc692f549b3bdc14b42c281858c",
      "d749e088319e4bb49100c2bae0d4d0f9",
      "7cf9d22161f145bd8857ed9e00880a78",
      "6a653f6336a34dc98e505bb4b032e613",
      "cbbcb3ff42f34c3bbf437bd731abb7c0",
      "abd9bdf7c93e4f4da3aada9aebb68626",
      "659e4eb65e57429f8374069415727515",
      "bd665aaaf9914e48ae65c1d154f81a96",
      "e29273de54464daca309ff5ef906b8f0",
      "858f67d60db34d1a8fa0fe34f967c9db",
      "da0304c38eb64e11a0faf082ea5ee7ba",
      "64aa4882ff8043488719ec4419260f7d",
      "c9214ab964b345c19b4a2f0feb6ba5a7",
      "14c76f93117743bfa723a54dd6031261",
      "d4712083203a47eebba6339adf8aef50",
      "4d283afb6a844d0dad7459e0b23f1e2a",
      "897a5569392341eca53c92ac71a3fdc4",
      "79192f0f2c964a1da5a106733674fc2a",
      "5260d456806c48eabc77efce8b21014b",
      "3a1209cd398f49e6ab7144747e7de91d",
      "4e7e5b9d46054ec1a77587bd11074255",
      "2943a6a9e48a4baaa56e31d61e3c4db7",
      "902a72a3a5bd4d208ed742c7eb9fd239",
      "3a99e7ad259b46cc9ca71edd2e35bf63",
      "9673d012c9964d74945b615cc45574e9",
      "b6c8468a0b17407ba1a20581754646e9",
      "333eeaf262924287a50e8797efafc7ae",
      "0f3a32405239463ea6a13cda77d545df",
      "a4018df35d5449c3879e1d20e93adcb7",
      "bf4c0a0487de42b29c72134cc015d0f4",
      "48a698d98fdb4df8a0c07a331afb01ed",
      "79d4d6d34b114cd5900e116b698cfcbb",
      "82bea9953ba34981b25c72b618b4cef6",
      "2991961302f9471b9a9e512b7c9d6e0c",
      "640f50fba7694ff99ba7696833fefe4e",
      "7c516d6a215644d682653798124a74d0",
      "8ce5494e6be84efb89a05d4377ec3b9d",
      "3f47fff5055a43b79e1246acd7ff664d",
      "1d92ddd27e94444498de2924adc169ef",
      "854e3c29df094172bdf5337ba621d3d4",
      "4101803ed3a34b128ec0d1c4ddb1ff7f",
      "a7eb3daabf59444db317921ef86cdb28",
      "124d0a6bed1f475eb91f946f93123afc",
      "cbf9e6f71f3a4f4c87ee68f9e241db99",
      "1f235aa1c1914619955c62e01cdc1fd1",
      "889b3d1cfcc846fda780984aba343727",
      "ad2fb50f62eb41ac9fe392172b8d8e4a",
      "a6325d8b655c40f6a466588e184a0bca",
      "cd15b387cf7b4455b3fb72e510afc4f1",
      "060df99725bc41ba870c931b696c4554",
      "2db6b845800d47589263e19046af14ff",
      "677dfee1ee794d0e8e393537f5e2c6ba",
      "292d1b8aca89402d8916e649f1ddbdc4",
      "3ca309c0ac36447ab35e3e3396f61615",
      "93bcda1ffc2848c6aa9aa31b28e01af3",
      "fd8e8874ceb64f3dba2b7421ad41ecba",
      "e3137035730d45f993bcb8b76ec18af5",
      "05e68b1545874511b76e765e92ba2f10",
      "2115505b751248b1955b7e68cba6b2c0",
      "981129eb1f7d488cbdcf42f0751da7a4",
      "2e3947b44fbe4b4a8e19a6f64a9fc15d",
      "67c49689bb32467990ade94c2ef3654b",
      "3a39e907ca274af481e9a9a676a34d15",
      "4ad3ebc8960f488494677ce98aae05a3",
      "96320a457751475d81b3ac9701ddb2f0"
     ]
    },
    "id": "DilUeQVeQTFL",
    "outputId": "7cd7d93f-d4d4-4480-d2bb-5e3a884a6e63"
   },
   "outputs": [
    {
     "data": {
      "application/vnd.jupyter.widget-view+json": {
       "model_id": "f5448550bf004e3bb0a150568b638f6e",
       "version_major": 2,
       "version_minor": 0
      },
      "text/plain": [
       "HBox(children=(FloatProgress(value=0.0, description='Progress', max=80.0, style=ProgressStyle(description_widt…"
      ]
     },
     "metadata": {},
     "output_type": "display_data"
    },
    {
     "data": {
      "application/vnd.jupyter.widget-view+json": {
       "model_id": "",
       "version_major": 2,
       "version_minor": 0
      },
      "text/plain": [
       "HBox(children=(FloatProgress(value=0.0, description='Training', max=75.0, style=ProgressStyle(description_widt…"
      ]
     },
     "metadata": {},
     "output_type": "display_data"
    },
    {
     "data": {
      "application/vnd.jupyter.widget-view+json": {
       "model_id": "",
       "version_major": 2,
       "version_minor": 0
      },
      "text/plain": [
       "HBox(children=(FloatProgress(value=0.0, description='Validation', max=4.0, style=ProgressStyle(description_wid…"
      ]
     },
     "metadata": {},
     "output_type": "display_data"
    },
    {
     "name": "stdout",
     "output_type": "stream",
     "text": [
      "epoch number 1 finished with following results:\n",
      "\ttrain dice c0 0.7870184675852457 \ttrain dice c1 0.04027067912121614\n",
      "\ttrain dice c2 0.016635506693273783 \ttrain dice c3 0.018812849985394373\n",
      "\tvalidation dice c0 0.8797599226236343 \tvalidation dice c1 0.029332368168979883\n",
      "\tvalidation dice c2 0.014486528700217605 \tvalidation dice c4 0.01737809064798057\n",
      "\ttrain loss  1.109695833524068 \tvalidation loss  0.9909138083457947\n"
     ]
    },
    {
     "data": {
      "application/vnd.jupyter.widget-view+json": {
       "model_id": "",
       "version_major": 2,
       "version_minor": 0
      },
      "text/plain": [
       "HBox(children=(FloatProgress(value=0.0, description='Training', max=75.0, style=ProgressStyle(description_widt…"
      ]
     },
     "metadata": {},
     "output_type": "display_data"
    },
    {
     "data": {
      "application/vnd.jupyter.widget-view+json": {
       "model_id": "",
       "version_major": 2,
       "version_minor": 0
      },
      "text/plain": [
       "HBox(children=(FloatProgress(value=0.0, description='Validation', max=4.0, style=ProgressStyle(description_wid…"
      ]
     },
     "metadata": {},
     "output_type": "display_data"
    },
    {
     "name": "stdout",
     "output_type": "stream",
     "text": [
      "epoch number 2 finished with following results:\n",
      "\ttrain dice c0 0.9255771104494731 \ttrain dice c1 0.09157377464075883\n",
      "\ttrain dice c2 0.019935716409236193 \ttrain dice c3 0.0227933563098001\n",
      "\tvalidation dice c0 0.9439001977443695 \tvalidation dice c1 0.04463878087699413\n",
      "\tvalidation dice c2 0.011079032206907868 \tvalidation dice c4 0.0255808113142848\n",
      "\ttrain loss  0.9460289080937704 \tvalidation loss  0.901009812951088\n"
     ]
    },
    {
     "data": {
      "application/vnd.jupyter.widget-view+json": {
       "model_id": "",
       "version_major": 2,
       "version_minor": 0
      },
      "text/plain": [
       "HBox(children=(FloatProgress(value=0.0, description='Training', max=75.0, style=ProgressStyle(description_widt…"
      ]
     },
     "metadata": {},
     "output_type": "display_data"
    },
    {
     "data": {
      "application/vnd.jupyter.widget-view+json": {
       "model_id": "",
       "version_major": 2,
       "version_minor": 0
      },
      "text/plain": [
       "HBox(children=(FloatProgress(value=0.0, description='Validation', max=4.0, style=ProgressStyle(description_wid…"
      ]
     },
     "metadata": {},
     "output_type": "display_data"
    },
    {
     "name": "stdout",
     "output_type": "stream",
     "text": [
      "epoch number 3 finished with following results:\n",
      "\ttrain dice c0 0.9611104130744934 \ttrain dice c1 0.1687760828435421\n",
      "\ttrain dice c2 0.025585389366994303 \ttrain dice c3 0.04741551437046534\n",
      "\tvalidation dice c0 0.964658334851265 \tvalidation dice c1 0.08569386787712574\n",
      "\tvalidation dice c2 0.010496286675333977 \tvalidation dice c4 0.006034955644281581\n",
      "\ttrain loss  0.8573711363474528 \tvalidation loss  0.8226979821920395\n"
     ]
    },
    {
     "data": {
      "application/vnd.jupyter.widget-view+json": {
       "model_id": "",
       "version_major": 2,
       "version_minor": 0
      },
      "text/plain": [
       "HBox(children=(FloatProgress(value=0.0, description='Training', max=75.0, style=ProgressStyle(description_widt…"
      ]
     },
     "metadata": {},
     "output_type": "display_data"
    },
    {
     "data": {
      "application/vnd.jupyter.widget-view+json": {
       "model_id": "",
       "version_major": 2,
       "version_minor": 0
      },
      "text/plain": [
       "HBox(children=(FloatProgress(value=0.0, description='Validation', max=4.0, style=ProgressStyle(description_wid…"
      ]
     },
     "metadata": {},
     "output_type": "display_data"
    },
    {
     "name": "stdout",
     "output_type": "stream",
     "text": [
      "epoch number 4 finished with following results:\n",
      "\ttrain dice c0 0.9762494587898254 \ttrain dice c1 0.25094528347253797\n",
      "\ttrain dice c2 0.02937782025585572 \ttrain dice c3 0.06060693428541223\n",
      "\tvalidation dice c0 0.9807600677013397 \tvalidation dice c1 0.13674421794712543\n",
      "\tvalidation dice c2 0.018351634964346886 \tvalidation dice c4 0.0281780909281224\n",
      "\ttrain loss  0.7909470637639363 \tvalidation loss  0.7469772547483444\n"
     ]
    },
    {
     "data": {
      "application/vnd.jupyter.widget-view+json": {
       "model_id": "",
       "version_major": 2,
       "version_minor": 0
      },
      "text/plain": [
       "HBox(children=(FloatProgress(value=0.0, description='Training', max=75.0, style=ProgressStyle(description_widt…"
      ]
     },
     "metadata": {},
     "output_type": "display_data"
    },
    {
     "data": {
      "application/vnd.jupyter.widget-view+json": {
       "model_id": "",
       "version_major": 2,
       "version_minor": 0
      },
      "text/plain": [
       "HBox(children=(FloatProgress(value=0.0, description='Validation', max=4.0, style=ProgressStyle(description_wid…"
      ]
     },
     "metadata": {},
     "output_type": "display_data"
    },
    {
     "name": "stdout",
     "output_type": "stream",
     "text": [
      "epoch number 5 finished with following results:\n",
      "\ttrain dice c0 0.98638436794281 \ttrain dice c1 0.3543785709142685\n",
      "\ttrain dice c2 0.07309235220154127 \ttrain dice c3 0.048255409048482155\n",
      "\tvalidation dice c0 0.9892620742321014 \tvalidation dice c1 0.24159176275134087\n",
      "\tvalidation dice c2 0.052206539548933506 \tvalidation dice c4 0.02870829962193966\n",
      "\ttrain loss  0.7243493970235189 \tvalidation loss  0.6949487328529358\n"
     ]
    },
    {
     "data": {
      "application/vnd.jupyter.widget-view+json": {
       "model_id": "79f4b0e84e78401b87f476fb9be2cee9",
       "version_major": 2,
       "version_minor": 0
      },
      "text/plain": [
       "HBox(children=(FloatProgress(value=0.0, description='Training', max=75.0, style=ProgressStyle(description_widt…"
      ]
     },
     "metadata": {},
     "output_type": "display_data"
    },
    {
     "data": {
      "application/vnd.jupyter.widget-view+json": {
       "model_id": "",
       "version_major": 2,
       "version_minor": 0
      },
      "text/plain": [
       "HBox(children=(FloatProgress(value=0.0, description='Validation', max=4.0, style=ProgressStyle(description_wid…"
      ]
     },
     "metadata": {},
     "output_type": "display_data"
    },
    {
     "name": "stdout",
     "output_type": "stream",
     "text": [
      "epoch number 7 finished with following results:\n",
      "\ttrain dice c0 0.9926735870043437 \ttrain dice c1 0.5103318870067597\n",
      "\ttrain dice c2 0.128379336198171 \ttrain dice c3 0.05881605253865321\n",
      "\tvalidation dice c0 0.9918368607759476 \tvalidation dice c1 0.3393283262848854\n",
      "\tvalidation dice c2 0.09426957927644253 \tvalidation dice c4 0.055736192502081394\n",
      "\ttrain loss  0.6192969783147176 \tvalidation loss  0.6197923868894577\n"
     ]
    },
    {
     "data": {
      "application/vnd.jupyter.widget-view+json": {
       "model_id": "",
       "version_major": 2,
       "version_minor": 0
      },
      "text/plain": [
       "HBox(children=(FloatProgress(value=0.0, description='Training', max=75.0, style=ProgressStyle(description_widt…"
      ]
     },
     "metadata": {},
     "output_type": "display_data"
    },
    {
     "data": {
      "application/vnd.jupyter.widget-view+json": {
       "model_id": "",
       "version_major": 2,
       "version_minor": 0
      },
      "text/plain": [
       "HBox(children=(FloatProgress(value=0.0, description='Validation', max=4.0, style=ProgressStyle(description_wid…"
      ]
     },
     "metadata": {},
     "output_type": "display_data"
    },
    {
     "name": "stdout",
     "output_type": "stream",
     "text": [
      "epoch number 8 finished with following results:\n",
      "\ttrain dice c0 0.9933757535616556 \ttrain dice c1 0.5258812077840169\n",
      "\ttrain dice c2 0.14720539182424544 \ttrain dice c3 0.06682904841999213\n",
      "\tvalidation dice c0 0.9941049367189407 \tvalidation dice c1 0.3503505662083626\n",
      "\tvalidation dice c2 0.07664915733039379 \tvalidation dice c4 0.045902212616056204\n",
      "\ttrain loss  0.5823039388656617 \tvalidation loss  0.5603630244731903\n"
     ]
    },
    {
     "data": {
      "application/vnd.jupyter.widget-view+json": {
       "model_id": "",
       "version_major": 2,
       "version_minor": 0
      },
      "text/plain": [
       "HBox(children=(FloatProgress(value=0.0, description='Training', max=75.0, style=ProgressStyle(description_widt…"
      ]
     },
     "metadata": {},
     "output_type": "display_data"
    },
    {
     "data": {
      "application/vnd.jupyter.widget-view+json": {
       "model_id": "",
       "version_major": 2,
       "version_minor": 0
      },
      "text/plain": [
       "HBox(children=(FloatProgress(value=0.0, description='Validation', max=4.0, style=ProgressStyle(description_wid…"
      ]
     },
     "metadata": {},
     "output_type": "display_data"
    },
    {
     "name": "stdout",
     "output_type": "stream",
     "text": [
      "epoch number 9 finished with following results:\n",
      "\ttrain dice c0 0.9938343079884847 \ttrain dice c1 0.5424126489957174\n",
      "\ttrain dice c2 0.1736303237080574 \ttrain dice c3 0.0720168050006032\n",
      "\tvalidation dice c0 0.9929644614458084 \tvalidation dice c1 0.37653395533561707\n",
      "\tvalidation dice c2 0.0788955525495112 \tvalidation dice c4 0.045093526132404804\n",
      "\ttrain loss  0.548238860766093 \tvalidation loss  0.5356578677892685\n"
     ]
    },
    {
     "data": {
      "application/vnd.jupyter.widget-view+json": {
       "model_id": "",
       "version_major": 2,
       "version_minor": 0
      },
      "text/plain": [
       "HBox(children=(FloatProgress(value=0.0, description='Training', max=75.0, style=ProgressStyle(description_widt…"
      ]
     },
     "metadata": {},
     "output_type": "display_data"
    },
    {
     "data": {
      "application/vnd.jupyter.widget-view+json": {
       "model_id": "",
       "version_major": 2,
       "version_minor": 0
      },
      "text/plain": [
       "HBox(children=(FloatProgress(value=0.0, description='Validation', max=4.0, style=ProgressStyle(description_wid…"
      ]
     },
     "metadata": {},
     "output_type": "display_data"
    },
    {
     "name": "stdout",
     "output_type": "stream",
     "text": [
      "epoch number 10 finished with following results:\n",
      "\ttrain dice c0 0.9939759047826131 \ttrain dice c1 0.5579040531317393\n",
      "\ttrain dice c2 0.2029946442445119 \ttrain dice c3 0.07686553651622186\n",
      "\tvalidation dice c0 0.994631826877594 \tvalidation dice c1 0.36610667407512665\n",
      "\tvalidation dice c2 0.13875185698270798 \tvalidation dice c4 0.050282849464565516\n",
      "\ttrain loss  0.5177715849876404 \tvalidation loss  0.5087489560246468\n"
     ]
    },
    {
     "data": {
      "application/vnd.jupyter.widget-view+json": {
       "model_id": "",
       "version_major": 2,
       "version_minor": 0
      },
      "text/plain": [
       "HBox(children=(FloatProgress(value=0.0, description='Training', max=75.0, style=ProgressStyle(description_widt…"
      ]
     },
     "metadata": {},
     "output_type": "display_data"
    },
    {
     "data": {
      "application/vnd.jupyter.widget-view+json": {
       "model_id": "",
       "version_major": 2,
       "version_minor": 0
      },
      "text/plain": [
       "HBox(children=(FloatProgress(value=0.0, description='Validation', max=4.0, style=ProgressStyle(description_wid…"
      ]
     },
     "metadata": {},
     "output_type": "display_data"
    },
    {
     "name": "stdout",
     "output_type": "stream",
     "text": [
      "epoch number 11 finished with following results:\n",
      "\ttrain dice c0 0.9940216628710429 \ttrain dice c1 0.5730298062165579\n",
      "\ttrain dice c2 0.2676149464646975 \ttrain dice c3 0.07492679469908277\n",
      "\tvalidation dice c0 0.9944742769002914 \tvalidation dice c1 0.39408012852072716\n",
      "\tvalidation dice c2 0.2373376041650772 \tvalidation dice c4 0.03820742230163887\n",
      "\ttrain loss  0.489989842971166 \tvalidation loss  0.48205312341451645\n"
     ]
    },
    {
     "data": {
      "application/vnd.jupyter.widget-view+json": {
       "model_id": "",
       "version_major": 2,
       "version_minor": 0
      },
      "text/plain": [
       "HBox(children=(FloatProgress(value=0.0, description='Training', max=75.0, style=ProgressStyle(description_widt…"
      ]
     },
     "metadata": {},
     "output_type": "display_data"
    },
    {
     "data": {
      "application/vnd.jupyter.widget-view+json": {
       "model_id": "",
       "version_major": 2,
       "version_minor": 0
      },
      "text/plain": [
       "HBox(children=(FloatProgress(value=0.0, description='Validation', max=4.0, style=ProgressStyle(description_wid…"
      ]
     },
     "metadata": {},
     "output_type": "display_data"
    },
    {
     "name": "stdout",
     "output_type": "stream",
     "text": [
      "epoch number 12 finished with following results:\n",
      "\ttrain dice c0 0.9941290807723999 \ttrain dice c1 0.5895186698436737\n",
      "\ttrain dice c2 0.3617490797241529 \ttrain dice c3 0.11244191761439046\n",
      "\tvalidation dice c0 0.9941563755273819 \tvalidation dice c1 0.3745235688984394\n",
      "\tvalidation dice c2 0.19251557812094688 \tvalidation dice c4 0.08953182946424931\n",
      "\ttrain loss  0.4613295110066732 \tvalidation loss  0.4573062136769295\n"
     ]
    },
    {
     "data": {
      "application/vnd.jupyter.widget-view+json": {
       "model_id": "",
       "version_major": 2,
       "version_minor": 0
      },
      "text/plain": [
       "HBox(children=(FloatProgress(value=0.0, description='Training', max=75.0, style=ProgressStyle(description_widt…"
      ]
     },
     "metadata": {},
     "output_type": "display_data"
    },
    {
     "data": {
      "application/vnd.jupyter.widget-view+json": {
       "model_id": "",
       "version_major": 2,
       "version_minor": 0
      },
      "text/plain": [
       "HBox(children=(FloatProgress(value=0.0, description='Validation', max=4.0, style=ProgressStyle(description_wid…"
      ]
     },
     "metadata": {},
     "output_type": "display_data"
    },
    {
     "name": "stdout",
     "output_type": "stream",
     "text": [
      "epoch number 13 finished with following results:\n",
      "\ttrain dice c0 0.9943488256136577 \ttrain dice c1 0.6202277545134226\n",
      "\ttrain dice c2 0.4388219992319743 \ttrain dice c3 0.2940850932523608\n",
      "\tvalidation dice c0 0.9944931119680405 \tvalidation dice c1 0.4278876893222332\n",
      "\tvalidation dice c2 0.21912332996726036 \tvalidation dice c4 0.2963857725262642\n",
      "\ttrain loss  0.434276917775472 \tvalidation loss  0.4276108220219612\n"
     ]
    },
    {
     "data": {
      "application/vnd.jupyter.widget-view+json": {
       "model_id": "",
       "version_major": 2,
       "version_minor": 0
      },
      "text/plain": [
       "HBox(children=(FloatProgress(value=0.0, description='Training', max=75.0, style=ProgressStyle(description_widt…"
      ]
     },
     "metadata": {},
     "output_type": "display_data"
    },
    {
     "data": {
      "application/vnd.jupyter.widget-view+json": {
       "model_id": "",
       "version_major": 2,
       "version_minor": 0
      },
      "text/plain": [
       "HBox(children=(FloatProgress(value=0.0, description='Validation', max=4.0, style=ProgressStyle(description_wid…"
      ]
     },
     "metadata": {},
     "output_type": "display_data"
    },
    {
     "name": "stdout",
     "output_type": "stream",
     "text": [
      "epoch number 14 finished with following results:\n",
      "\ttrain dice c0 0.9945560765266418 \ttrain dice c1 0.6353644625345866\n",
      "\ttrain dice c2 0.46168199261029563 \ttrain dice c3 0.4259170127908389\n",
      "\tvalidation dice c0 0.9945053905248642 \tvalidation dice c1 0.4178594499826431\n",
      "\tvalidation dice c2 0.26196854189038277 \tvalidation dice c4 0.16575562980142422\n",
      "\ttrain loss  0.41019771416982015 \tvalidation loss  0.4110295996069908\n"
     ]
    },
    {
     "data": {
      "application/vnd.jupyter.widget-view+json": {
       "model_id": "",
       "version_major": 2,
       "version_minor": 0
      },
      "text/plain": [
       "HBox(children=(FloatProgress(value=0.0, description='Training', max=75.0, style=ProgressStyle(description_widt…"
      ]
     },
     "metadata": {},
     "output_type": "display_data"
    },
    {
     "data": {
      "application/vnd.jupyter.widget-view+json": {
       "model_id": "",
       "version_major": 2,
       "version_minor": 0
      },
      "text/plain": [
       "HBox(children=(FloatProgress(value=0.0, description='Validation', max=4.0, style=ProgressStyle(description_wid…"
      ]
     },
     "metadata": {},
     "output_type": "display_data"
    },
    {
     "name": "stdout",
     "output_type": "stream",
     "text": [
      "epoch number 15 finished with following results:\n",
      "\ttrain dice c0 0.9947814361254375 \ttrain dice c1 0.6566304429372152\n",
      "\ttrain dice c2 0.49608655969301857 \ttrain dice c3 0.5082036489248276\n",
      "\tvalidation dice c0 0.9946064352989197 \tvalidation dice c1 0.39137761294841766\n",
      "\tvalidation dice c2 0.2644750662147999 \tvalidation dice c4 0.24767822213470936\n",
      "\ttrain loss  0.3866536871592204 \tvalidation loss  0.3841656967997551\n"
     ]
    },
    {
     "data": {
      "application/vnd.jupyter.widget-view+json": {
       "model_id": "",
       "version_major": 2,
       "version_minor": 0
      },
      "text/plain": [
       "HBox(children=(FloatProgress(value=0.0, description='Training', max=75.0, style=ProgressStyle(description_widt…"
      ]
     },
     "metadata": {},
     "output_type": "display_data"
    },
    {
     "data": {
      "application/vnd.jupyter.widget-view+json": {
       "model_id": "",
       "version_major": 2,
       "version_minor": 0
      },
      "text/plain": [
       "HBox(children=(FloatProgress(value=0.0, description='Validation', max=4.0, style=ProgressStyle(description_wid…"
      ]
     },
     "metadata": {},
     "output_type": "display_data"
    },
    {
     "name": "stdout",
     "output_type": "stream",
     "text": [
      "epoch number 16 finished with following results:\n",
      "\ttrain dice c0 0.9949384641647339 \ttrain dice c1 0.6708981823921204\n",
      "\ttrain dice c2 0.5119982413450876 \ttrain dice c3 0.5365508975585301\n",
      "\tvalidation dice c0 0.9931674599647522 \tvalidation dice c1 0.382291242480278\n",
      "\tvalidation dice c2 0.21660156548023224 \tvalidation dice c4 0.2542428640444996\n",
      "\ttrain loss  0.36452065348625184 \tvalidation loss  0.38412580639123917\n"
     ]
    },
    {
     "data": {
      "application/vnd.jupyter.widget-view+json": {
       "model_id": "",
       "version_major": 2,
       "version_minor": 0
      },
      "text/plain": [
       "HBox(children=(FloatProgress(value=0.0, description='Training', max=75.0, style=ProgressStyle(description_widt…"
      ]
     },
     "metadata": {},
     "output_type": "display_data"
    },
    {
     "data": {
      "application/vnd.jupyter.widget-view+json": {
       "model_id": "",
       "version_major": 2,
       "version_minor": 0
      },
      "text/plain": [
       "HBox(children=(FloatProgress(value=0.0, description='Validation', max=4.0, style=ProgressStyle(description_wid…"
      ]
     },
     "metadata": {},
     "output_type": "display_data"
    },
    {
     "name": "stdout",
     "output_type": "stream",
     "text": [
      "epoch number 17 finished with following results:\n",
      "\ttrain dice c0 0.9951773365338643 \ttrain dice c1 0.6783260186513265\n",
      "\ttrain dice c2 0.5356305360794067 \ttrain dice c3 0.6079465083281199\n",
      "\tvalidation dice c0 0.993145763874054 \tvalidation dice c1 0.34863342344760895\n",
      "\tvalidation dice c2 0.26636506989598274 \tvalidation dice c4 0.3518775701522827\n",
      "\ttrain loss  0.3440809881687164 \tvalidation loss  0.3657902926206589\n"
     ]
    },
    {
     "data": {
      "application/vnd.jupyter.widget-view+json": {
       "model_id": "",
       "version_major": 2,
       "version_minor": 0
      },
      "text/plain": [
       "HBox(children=(FloatProgress(value=0.0, description='Training', max=75.0, style=ProgressStyle(description_widt…"
      ]
     },
     "metadata": {},
     "output_type": "display_data"
    },
    {
     "data": {
      "application/vnd.jupyter.widget-view+json": {
       "model_id": "",
       "version_major": 2,
       "version_minor": 0
      },
      "text/plain": [
       "HBox(children=(FloatProgress(value=0.0, description='Validation', max=4.0, style=ProgressStyle(description_wid…"
      ]
     },
     "metadata": {},
     "output_type": "display_data"
    },
    {
     "name": "stdout",
     "output_type": "stream",
     "text": [
      "epoch number 18 finished with following results:\n",
      "\ttrain dice c0 0.995262439250946 \ttrain dice c1 0.6899120807647705\n",
      "\ttrain dice c2 0.5459750807285308 \ttrain dice c3 0.6420532651742299\n",
      "\tvalidation dice c0 0.9940585941076279 \tvalidation dice c1 0.3854065537452698\n",
      "\tvalidation dice c2 0.2947377786040306 \tvalidation dice c4 0.2695274204015732\n",
      "\ttrain loss  0.32528167406717934 \tvalidation loss  0.3407963141798973\n"
     ]
    },
    {
     "data": {
      "application/vnd.jupyter.widget-view+json": {
       "model_id": "",
       "version_major": 2,
       "version_minor": 0
      },
      "text/plain": [
       "HBox(children=(FloatProgress(value=0.0, description='Training', max=75.0, style=ProgressStyle(description_widt…"
      ]
     },
     "metadata": {},
     "output_type": "display_data"
    },
    {
     "data": {
      "application/vnd.jupyter.widget-view+json": {
       "model_id": "",
       "version_major": 2,
       "version_minor": 0
      },
      "text/plain": [
       "HBox(children=(FloatProgress(value=0.0, description='Validation', max=4.0, style=ProgressStyle(description_wid…"
      ]
     },
     "metadata": {},
     "output_type": "display_data"
    },
    {
     "name": "stdout",
     "output_type": "stream",
     "text": [
      "epoch number 19 finished with following results:\n",
      "\ttrain dice c0 0.9953812185923259 \ttrain dice c1 0.6963885219891867\n",
      "\ttrain dice c2 0.5485183628400166 \ttrain dice c3 0.6456981120506923\n",
      "\tvalidation dice c0 0.9942955076694489 \tvalidation dice c1 0.3816524110734463\n",
      "\tvalidation dice c2 0.29008013382554054 \tvalidation dice c4 0.2846896652918076\n",
      "\ttrain loss  0.30829193512598674 \tvalidation loss  0.32255133241415024\n"
     ]
    },
    {
     "data": {
      "application/vnd.jupyter.widget-view+json": {
       "model_id": "",
       "version_major": 2,
       "version_minor": 0
      },
      "text/plain": [
       "HBox(children=(FloatProgress(value=0.0, description='Training', max=75.0, style=ProgressStyle(description_widt…"
      ]
     },
     "metadata": {},
     "output_type": "display_data"
    },
    {
     "data": {
      "application/vnd.jupyter.widget-view+json": {
       "model_id": "",
       "version_major": 2,
       "version_minor": 0
      },
      "text/plain": [
       "HBox(children=(FloatProgress(value=0.0, description='Validation', max=4.0, style=ProgressStyle(description_wid…"
      ]
     },
     "metadata": {},
     "output_type": "display_data"
    },
    {
     "name": "stdout",
     "output_type": "stream",
     "text": [
      "epoch number 20 finished with following results:\n",
      "\ttrain dice c0 0.9955662147204081 \ttrain dice c1 0.7025220553080241\n",
      "\ttrain dice c2 0.5548663751284282 \ttrain dice c3 0.6482149012883505\n",
      "\tvalidation dice c0 0.9936392158269882 \tvalidation dice c1 0.39990154653787613\n",
      "\tvalidation dice c2 0.255139771848917 \tvalidation dice c4 0.3214284721761942\n",
      "\ttrain loss  0.2916911244392395 \tvalidation loss  0.31672707945108414\n"
     ]
    },
    {
     "data": {
      "application/vnd.jupyter.widget-view+json": {
       "model_id": "",
       "version_major": 2,
       "version_minor": 0
      },
      "text/plain": [
       "HBox(children=(FloatProgress(value=0.0, description='Training', max=75.0, style=ProgressStyle(description_widt…"
      ]
     },
     "metadata": {},
     "output_type": "display_data"
    },
    {
     "data": {
      "application/vnd.jupyter.widget-view+json": {
       "model_id": "",
       "version_major": 2,
       "version_minor": 0
      },
      "text/plain": [
       "HBox(children=(FloatProgress(value=0.0, description='Validation', max=4.0, style=ProgressStyle(description_wid…"
      ]
     },
     "metadata": {},
     "output_type": "display_data"
    },
    {
     "name": "stdout",
     "output_type": "stream",
     "text": [
      "epoch number 21 finished with following results:\n",
      "\ttrain dice c0 0.9957323789596557 \ttrain dice c1 0.7138168557484945\n",
      "\ttrain dice c2 0.5758918730417887 \ttrain dice c3 0.6781519385178884\n",
      "\tvalidation dice c0 0.9943694621324539 \tvalidation dice c1 0.4060436710715294\n",
      "\tvalidation dice c2 0.3038521409034729 \tvalidation dice c4 0.32397129700984806\n",
      "\ttrain loss  0.2752937177817027 \tvalidation loss  0.29555704444646835\n"
     ]
    },
    {
     "data": {
      "application/vnd.jupyter.widget-view+json": {
       "model_id": "",
       "version_major": 2,
       "version_minor": 0
      },
      "text/plain": [
       "HBox(children=(FloatProgress(value=0.0, description='Training', max=75.0, style=ProgressStyle(description_widt…"
      ]
     },
     "metadata": {},
     "output_type": "display_data"
    },
    {
     "data": {
      "application/vnd.jupyter.widget-view+json": {
       "model_id": "",
       "version_major": 2,
       "version_minor": 0
      },
      "text/plain": [
       "HBox(children=(FloatProgress(value=0.0, description='Validation', max=4.0, style=ProgressStyle(description_wid…"
      ]
     },
     "metadata": {},
     "output_type": "display_data"
    },
    {
     "name": "stdout",
     "output_type": "stream",
     "text": [
      "epoch number 22 finished with following results:\n",
      "\ttrain dice c0 0.9957806658744812 \ttrain dice c1 0.7219712654749553\n",
      "\ttrain dice c2 0.5882141558329265 \ttrain dice c3 0.70160497824351\n",
      "\tvalidation dice c0 0.9949767142534256 \tvalidation dice c1 0.4455854222178459\n",
      "\tvalidation dice c2 0.31743136048316956 \tvalidation dice c4 0.2683595269918442\n",
      "\ttrain loss  0.26059388935565947 \tvalidation loss  0.2769482880830765\n"
     ]
    },
    {
     "data": {
      "application/vnd.jupyter.widget-view+json": {
       "model_id": "",
       "version_major": 2,
       "version_minor": 0
      },
      "text/plain": [
       "HBox(children=(FloatProgress(value=0.0, description='Training', max=75.0, style=ProgressStyle(description_widt…"
      ]
     },
     "metadata": {},
     "output_type": "display_data"
    },
    {
     "data": {
      "application/vnd.jupyter.widget-view+json": {
       "model_id": "",
       "version_major": 2,
       "version_minor": 0
      },
      "text/plain": [
       "HBox(children=(FloatProgress(value=0.0, description='Validation', max=4.0, style=ProgressStyle(description_wid…"
      ]
     },
     "metadata": {},
     "output_type": "display_data"
    },
    {
     "name": "stdout",
     "output_type": "stream",
     "text": [
      "epoch number 23 finished with following results:\n",
      "\ttrain dice c0 0.9958822464942932 \ttrain dice c1 0.7207971453666687\n",
      "\ttrain dice c2 0.5818714606761932 \ttrain dice c3 0.6884509364763896\n",
      "\tvalidation dice c0 0.9949154853820801 \tvalidation dice c1 0.4332287386059761\n",
      "\tvalidation dice c2 0.3008887991309166 \tvalidation dice c4 0.2957347743213177\n",
      "\ttrain loss  0.24855977257092793 \tvalidation loss  0.26304956153035164\n"
     ]
    },
    {
     "data": {
      "application/vnd.jupyter.widget-view+json": {
       "model_id": "",
       "version_major": 2,
       "version_minor": 0
      },
      "text/plain": [
       "HBox(children=(FloatProgress(value=0.0, description='Training', max=75.0, style=ProgressStyle(description_widt…"
      ]
     },
     "metadata": {},
     "output_type": "display_data"
    },
    {
     "data": {
      "application/vnd.jupyter.widget-view+json": {
       "model_id": "",
       "version_major": 2,
       "version_minor": 0
      },
      "text/plain": [
       "HBox(children=(FloatProgress(value=0.0, description='Validation', max=4.0, style=ProgressStyle(description_wid…"
      ]
     },
     "metadata": {},
     "output_type": "display_data"
    },
    {
     "name": "stdout",
     "output_type": "stream",
     "text": [
      "epoch number 24 finished with following results:\n",
      "\ttrain dice c0 0.9960452651977539 \ttrain dice c1 0.7312789209683737\n",
      "\ttrain dice c2 0.5962648479143778 \ttrain dice c3 0.7263921479384104\n",
      "\tvalidation dice c0 0.9951745718717575 \tvalidation dice c1 0.4340420179069042\n",
      "\tvalidation dice c2 0.3099249079823494 \tvalidation dice c4 0.3361584199592471\n",
      "\ttrain loss  0.23442568798859914 \tvalidation loss  0.25176000967621803\n"
     ]
    },
    {
     "data": {
      "application/vnd.jupyter.widget-view+json": {
       "model_id": "",
       "version_major": 2,
       "version_minor": 0
      },
      "text/plain": [
       "HBox(children=(FloatProgress(value=0.0, description='Training', max=75.0, style=ProgressStyle(description_widt…"
      ]
     },
     "metadata": {},
     "output_type": "display_data"
    },
    {
     "data": {
      "application/vnd.jupyter.widget-view+json": {
       "model_id": "",
       "version_major": 2,
       "version_minor": 0
      },
      "text/plain": [
       "HBox(children=(FloatProgress(value=0.0, description='Validation', max=4.0, style=ProgressStyle(description_wid…"
      ]
     },
     "metadata": {},
     "output_type": "display_data"
    },
    {
     "name": "stdout",
     "output_type": "stream",
     "text": [
      "epoch number 25 finished with following results:\n",
      "\ttrain dice c0 0.9962505308787027 \ttrain dice c1 0.7393546326955159\n",
      "\ttrain dice c2 0.6153311562538147 \ttrain dice c3 0.7405756576855977\n",
      "\tvalidation dice c0 0.9949050545692444 \tvalidation dice c1 0.4042827934026718\n",
      "\tvalidation dice c2 0.3212167099118233 \tvalidation dice c4 0.3534872345626354\n",
      "\ttrain loss  0.22142780860265096 \tvalidation loss  0.2444426566362381\n"
     ]
    },
    {
     "data": {
      "application/vnd.jupyter.widget-view+json": {
       "model_id": "",
       "version_major": 2,
       "version_minor": 0
      },
      "text/plain": [
       "HBox(children=(FloatProgress(value=0.0, description='Training', max=75.0, style=ProgressStyle(description_widt…"
      ]
     },
     "metadata": {},
     "output_type": "display_data"
    },
    {
     "data": {
      "application/vnd.jupyter.widget-view+json": {
       "model_id": "",
       "version_major": 2,
       "version_minor": 0
      },
      "text/plain": [
       "HBox(children=(FloatProgress(value=0.0, description='Validation', max=4.0, style=ProgressStyle(description_wid…"
      ]
     },
     "metadata": {},
     "output_type": "display_data"
    },
    {
     "name": "stdout",
     "output_type": "stream",
     "text": [
      "epoch number 26 finished with following results:\n",
      "\ttrain dice c0 0.9964599792162577 \ttrain dice c1 0.7486987177530925\n",
      "\ttrain dice c2 0.626291795571645 \ttrain dice c3 0.7497127803166708\n",
      "\tvalidation dice c0 0.9952020347118378 \tvalidation dice c1 0.4262388199567795\n",
      "\tvalidation dice c2 0.3461432009935379 \tvalidation dice c4 0.35531216114759445\n",
      "\ttrain loss  0.20960562348365783 \tvalidation loss  0.23102326691150665\n"
     ]
    },
    {
     "data": {
      "application/vnd.jupyter.widget-view+json": {
       "model_id": "",
       "version_major": 2,
       "version_minor": 0
      },
      "text/plain": [
       "HBox(children=(FloatProgress(value=0.0, description='Training', max=75.0, style=ProgressStyle(description_widt…"
      ]
     },
     "metadata": {},
     "output_type": "display_data"
    },
    {
     "data": {
      "application/vnd.jupyter.widget-view+json": {
       "model_id": "",
       "version_major": 2,
       "version_minor": 0
      },
      "text/plain": [
       "HBox(children=(FloatProgress(value=0.0, description='Validation', max=4.0, style=ProgressStyle(description_wid…"
      ]
     },
     "metadata": {},
     "output_type": "display_data"
    },
    {
     "name": "stdout",
     "output_type": "stream",
     "text": [
      "epoch number 27 finished with following results:\n",
      "\ttrain dice c0 0.9965140509605408 \ttrain dice c1 0.75052814245224\n",
      "\ttrain dice c2 0.6264972400665283 \ttrain dice c3 0.7566410350799561\n",
      "\tvalidation dice c0 0.9954268336296082 \tvalidation dice c1 0.4297341853380203\n",
      "\tvalidation dice c2 0.326394222676754 \tvalidation dice c4 0.364594042301178\n",
      "\ttrain loss  0.19962095896402995 \tvalidation loss  0.22353874146938324\n"
     ]
    },
    {
     "data": {
      "application/vnd.jupyter.widget-view+json": {
       "model_id": "",
       "version_major": 2,
       "version_minor": 0
      },
      "text/plain": [
       "HBox(children=(FloatProgress(value=0.0, description='Training', max=75.0, style=ProgressStyle(description_widt…"
      ]
     },
     "metadata": {},
     "output_type": "display_data"
    },
    {
     "data": {
      "application/vnd.jupyter.widget-view+json": {
       "model_id": "",
       "version_major": 2,
       "version_minor": 0
      },
      "text/plain": [
       "HBox(children=(FloatProgress(value=0.0, description='Validation', max=4.0, style=ProgressStyle(description_wid…"
      ]
     },
     "metadata": {},
     "output_type": "display_data"
    },
    {
     "name": "stdout",
     "output_type": "stream",
     "text": [
      "epoch number 28 finished with following results:\n",
      "\ttrain dice c0 0.9966486461957296 \ttrain dice c1 0.7521719837188721\n",
      "\ttrain dice c2 0.6350902438163757 \ttrain dice c3 0.7658266631762186\n",
      "\tvalidation dice c0 0.9951543807983398 \tvalidation dice c1 0.43420542776584625\n",
      "\tvalidation dice c2 0.3334128186106682 \tvalidation dice c4 0.33719434986414853\n",
      "\ttrain loss  0.18961629370848337 \tvalidation loss  0.21819305047392845\n"
     ]
    },
    {
     "data": {
      "application/vnd.jupyter.widget-view+json": {
       "model_id": "",
       "version_major": 2,
       "version_minor": 0
      },
      "text/plain": [
       "HBox(children=(FloatProgress(value=0.0, description='Training', max=75.0, style=ProgressStyle(description_widt…"
      ]
     },
     "metadata": {},
     "output_type": "display_data"
    },
    {
     "data": {
      "application/vnd.jupyter.widget-view+json": {
       "model_id": "",
       "version_major": 2,
       "version_minor": 0
      },
      "text/plain": [
       "HBox(children=(FloatProgress(value=0.0, description='Validation', max=4.0, style=ProgressStyle(description_wid…"
      ]
     },
     "metadata": {},
     "output_type": "display_data"
    },
    {
     "name": "stdout",
     "output_type": "stream",
     "text": [
      "epoch number 29 finished with following results:\n",
      "\ttrain dice c0 0.9966757782300313 \ttrain dice c1 0.7557528003056844\n",
      "\ttrain dice c2 0.6358238991101582 \ttrain dice c3 0.7620629811286926\n",
      "\tvalidation dice c0 0.994935154914856 \tvalidation dice c1 0.3907152786850929\n",
      "\tvalidation dice c2 0.2979198358952999 \tvalidation dice c4 0.351827759295702\n",
      "\ttrain loss  0.18091748813788097 \tvalidation loss  0.21622388437390327\n"
     ]
    },
    {
     "data": {
      "application/vnd.jupyter.widget-view+json": {
       "model_id": "",
       "version_major": 2,
       "version_minor": 0
      },
      "text/plain": [
       "HBox(children=(FloatProgress(value=0.0, description='Training', max=75.0, style=ProgressStyle(description_widt…"
      ]
     },
     "metadata": {},
     "output_type": "display_data"
    },
    {
     "data": {
      "application/vnd.jupyter.widget-view+json": {
       "model_id": "",
       "version_major": 2,
       "version_minor": 0
      },
      "text/plain": [
       "HBox(children=(FloatProgress(value=0.0, description='Validation', max=4.0, style=ProgressStyle(description_wid…"
      ]
     },
     "metadata": {},
     "output_type": "display_data"
    },
    {
     "name": "stdout",
     "output_type": "stream",
     "text": [
      "epoch number 30 finished with following results:\n",
      "\ttrain dice c0 0.9967383193969727 \ttrain dice c1 0.7578481086095175\n",
      "\ttrain dice c2 0.6458534487088521 \ttrain dice c3 0.7663489945729574\n",
      "\tvalidation dice c0 0.9953247457742691 \tvalidation dice c1 0.4519655406475067\n",
      "\tvalidation dice c2 0.3206322081387043 \tvalidation dice c4 0.3296353258192539\n",
      "\ttrain loss  0.1725973435242971 \tvalidation loss  0.2036532275378704\n"
     ]
    },
    {
     "data": {
      "application/vnd.jupyter.widget-view+json": {
       "model_id": "",
       "version_major": 2,
       "version_minor": 0
      },
      "text/plain": [
       "HBox(children=(FloatProgress(value=0.0, description='Training', max=75.0, style=ProgressStyle(description_widt…"
      ]
     },
     "metadata": {},
     "output_type": "display_data"
    },
    {
     "data": {
      "application/vnd.jupyter.widget-view+json": {
       "model_id": "",
       "version_major": 2,
       "version_minor": 0
      },
      "text/plain": [
       "HBox(children=(FloatProgress(value=0.0, description='Validation', max=4.0, style=ProgressStyle(description_wid…"
      ]
     },
     "metadata": {},
     "output_type": "display_data"
    },
    {
     "name": "stdout",
     "output_type": "stream",
     "text": [
      "epoch number 31 finished with following results:\n",
      "\ttrain dice c0 0.996857176621755 \ttrain dice c1 0.7586306039492289\n",
      "\ttrain dice c2 0.6445671188831329 \ttrain dice c3 0.7700876303513845\n",
      "\tvalidation dice c0 0.9950649589300156 \tvalidation dice c1 0.45009778439998627\n",
      "\tvalidation dice c2 0.3154607079923153 \tvalidation dice c4 0.3383576311171055\n",
      "\ttrain loss  0.16458440641562144 \tvalidation loss  0.1988922879099846\n"
     ]
    },
    {
     "data": {
      "application/vnd.jupyter.widget-view+json": {
       "model_id": "",
       "version_major": 2,
       "version_minor": 0
      },
      "text/plain": [
       "HBox(children=(FloatProgress(value=0.0, description='Training', max=75.0, style=ProgressStyle(description_widt…"
      ]
     },
     "metadata": {},
     "output_type": "display_data"
    },
    {
     "data": {
      "application/vnd.jupyter.widget-view+json": {
       "model_id": "",
       "version_major": 2,
       "version_minor": 0
      },
      "text/plain": [
       "HBox(children=(FloatProgress(value=0.0, description='Validation', max=4.0, style=ProgressStyle(description_wid…"
      ]
     },
     "metadata": {},
     "output_type": "display_data"
    },
    {
     "name": "stdout",
     "output_type": "stream",
     "text": [
      "epoch number 32 finished with following results:\n",
      "\ttrain dice c0 0.9970079747835795 \ttrain dice c1 0.7647480177879333\n",
      "\ttrain dice c2 0.6517540621757507 \ttrain dice c3 0.7922780148188273\n",
      "\tvalidation dice c0 0.9953616410493851 \tvalidation dice c1 0.42625585943460464\n",
      "\tvalidation dice c2 0.2922193296253681 \tvalidation dice c4 0.27227075956761837\n",
      "\ttrain loss  0.156199479897817 \tvalidation loss  0.1938903108239174\n"
     ]
    },
    {
     "data": {
      "application/vnd.jupyter.widget-view+json": {
       "model_id": "",
       "version_major": 2,
       "version_minor": 0
      },
      "text/plain": [
       "HBox(children=(FloatProgress(value=0.0, description='Training', max=75.0, style=ProgressStyle(description_widt…"
      ]
     },
     "metadata": {},
     "output_type": "display_data"
    },
    {
     "data": {
      "application/vnd.jupyter.widget-view+json": {
       "model_id": "",
       "version_major": 2,
       "version_minor": 0
      },
      "text/plain": [
       "HBox(children=(FloatProgress(value=0.0, description='Validation', max=4.0, style=ProgressStyle(description_wid…"
      ]
     },
     "metadata": {},
     "output_type": "display_data"
    },
    {
     "name": "stdout",
     "output_type": "stream",
     "text": [
      "epoch number 33 finished with following results:\n",
      "\ttrain dice c0 0.9970432758331299 \ttrain dice c1 0.7705736327171325\n",
      "\ttrain dice c2 0.6584371888637542 \ttrain dice c3 0.7956838822364807\n",
      "\tvalidation dice c0 0.9953265190124512 \tvalidation dice c1 0.4484763443470001\n",
      "\tvalidation dice c2 0.3333531394600868 \tvalidation dice c4 0.3417927846312523\n",
      "\ttrain loss  0.149524267911911 \tvalidation loss  0.18167676776647568\n"
     ]
    },
    {
     "data": {
      "application/vnd.jupyter.widget-view+json": {
       "model_id": "",
       "version_major": 2,
       "version_minor": 0
      },
      "text/plain": [
       "HBox(children=(FloatProgress(value=0.0, description='Training', max=75.0, style=ProgressStyle(description_widt…"
      ]
     },
     "metadata": {},
     "output_type": "display_data"
    },
    {
     "data": {
      "application/vnd.jupyter.widget-view+json": {
       "model_id": "",
       "version_major": 2,
       "version_minor": 0
      },
      "text/plain": [
       "HBox(children=(FloatProgress(value=0.0, description='Validation', max=4.0, style=ProgressStyle(description_wid…"
      ]
     },
     "metadata": {},
     "output_type": "display_data"
    },
    {
     "name": "stdout",
     "output_type": "stream",
     "text": [
      "epoch number 34 finished with following results:\n",
      "\ttrain dice c0 0.9970851691563924 \ttrain dice c1 0.7719523564974466\n",
      "\ttrain dice c2 0.6621103088061014 \ttrain dice c3 0.8132900794347128\n",
      "\tvalidation dice c0 0.9942860454320908 \tvalidation dice c1 0.460900716483593\n",
      "\tvalidation dice c2 0.3007280007004738 \tvalidation dice c4 0.29258930310606956\n",
      "\ttrain loss  0.14278920928637187 \tvalidation loss  0.18296918272972107\n"
     ]
    },
    {
     "data": {
      "application/vnd.jupyter.widget-view+json": {
       "model_id": "",
       "version_major": 2,
       "version_minor": 0
      },
      "text/plain": [
       "HBox(children=(FloatProgress(value=0.0, description='Training', max=75.0, style=ProgressStyle(description_widt…"
      ]
     },
     "metadata": {},
     "output_type": "display_data"
    },
    {
     "data": {
      "application/vnd.jupyter.widget-view+json": {
       "model_id": "",
       "version_major": 2,
       "version_minor": 0
      },
      "text/plain": [
       "HBox(children=(FloatProgress(value=0.0, description='Validation', max=4.0, style=ProgressStyle(description_wid…"
      ]
     },
     "metadata": {},
     "output_type": "display_data"
    },
    {
     "name": "stdout",
     "output_type": "stream",
     "text": [
      "epoch number 35 finished with following results:\n",
      "\ttrain dice c0 0.9970975240071615 \ttrain dice c1 0.7690968068440756\n",
      "\ttrain dice c2 0.6597998483975729 \ttrain dice c3 0.8016705234845479\n",
      "\tvalidation dice c0 0.9944058507680893 \tvalidation dice c1 0.4411824494600296\n",
      "\tvalidation dice c2 0.29920122027397156 \tvalidation dice c4 0.33600951358675957\n",
      "\ttrain loss  0.1371776129802068 \tvalidation loss  0.17726266756653786\n"
     ]
    },
    {
     "data": {
      "application/vnd.jupyter.widget-view+json": {
       "model_id": "",
       "version_major": 2,
       "version_minor": 0
      },
      "text/plain": [
       "HBox(children=(FloatProgress(value=0.0, description='Training', max=75.0, style=ProgressStyle(description_widt…"
      ]
     },
     "metadata": {},
     "output_type": "display_data"
    },
    {
     "data": {
      "application/vnd.jupyter.widget-view+json": {
       "model_id": "",
       "version_major": 2,
       "version_minor": 0
      },
      "text/plain": [
       "HBox(children=(FloatProgress(value=0.0, description='Validation', max=4.0, style=ProgressStyle(description_wid…"
      ]
     },
     "metadata": {},
     "output_type": "display_data"
    },
    {
     "name": "stdout",
     "output_type": "stream",
     "text": [
      "epoch number 36 finished with following results:\n",
      "\ttrain dice c0 0.9971655813852945 \ttrain dice c1 0.7703967920939128\n",
      "\ttrain dice c2 0.6682984153429667 \ttrain dice c3 0.824314292271932\n",
      "\tvalidation dice c0 0.9950936734676361 \tvalidation dice c1 0.4433388337492943\n",
      "\tvalidation dice c2 0.31752726435661316 \tvalidation dice c4 0.3285215198993683\n",
      "\ttrain loss  0.13096978306770324 \tvalidation loss  0.17224489152431488\n"
     ]
    },
    {
     "data": {
      "application/vnd.jupyter.widget-view+json": {
       "model_id": "",
       "version_major": 2,
       "version_minor": 0
      },
      "text/plain": [
       "HBox(children=(FloatProgress(value=0.0, description='Training', max=75.0, style=ProgressStyle(description_widt…"
      ]
     },
     "metadata": {},
     "output_type": "display_data"
    },
    {
     "data": {
      "application/vnd.jupyter.widget-view+json": {
       "model_id": "",
       "version_major": 2,
       "version_minor": 0
      },
      "text/plain": [
       "HBox(children=(FloatProgress(value=0.0, description='Validation', max=4.0, style=ProgressStyle(description_wid…"
      ]
     },
     "metadata": {},
     "output_type": "display_data"
    },
    {
     "name": "stdout",
     "output_type": "stream",
     "text": [
      "epoch number 37 finished with following results:\n",
      "\ttrain dice c0 0.9972726066907247 \ttrain dice c1 0.7793884038925171\n",
      "\ttrain dice c2 0.6696864104270935 \ttrain dice c3 0.8253774627049764\n",
      "\tvalidation dice c0 0.9949050396680832 \tvalidation dice c1 0.4587501659989357\n",
      "\tvalidation dice c2 0.32640910893678665 \tvalidation dice c4 0.3320278115570545\n",
      "\ttrain loss  0.1255198100209236 \tvalidation loss  0.16463062725961208\n"
     ]
    },
    {
     "data": {
      "application/vnd.jupyter.widget-view+json": {
       "model_id": "",
       "version_major": 2,
       "version_minor": 0
      },
      "text/plain": [
       "HBox(children=(FloatProgress(value=0.0, description='Training', max=75.0, style=ProgressStyle(description_widt…"
      ]
     },
     "metadata": {},
     "output_type": "display_data"
    },
    {
     "data": {
      "application/vnd.jupyter.widget-view+json": {
       "model_id": "",
       "version_major": 2,
       "version_minor": 0
      },
      "text/plain": [
       "HBox(children=(FloatProgress(value=0.0, description='Validation', max=4.0, style=ProgressStyle(description_wid…"
      ]
     },
     "metadata": {},
     "output_type": "display_data"
    },
    {
     "name": "stdout",
     "output_type": "stream",
     "text": [
      "epoch number 38 finished with following results:\n",
      "\ttrain dice c0 0.9971808981895447 \ttrain dice c1 0.7767703986167908\n",
      "\ttrain dice c2 0.6690380318959555 \ttrain dice c3 0.8010048508644104\n",
      "\tvalidation dice c0 0.9949678033590317 \tvalidation dice c1 0.47201429307460785\n",
      "\tvalidation dice c2 0.2952220179140568 \tvalidation dice c4 0.38317935168743134\n",
      "\ttrain loss  0.12098688105742136 \tvalidation loss  0.16016997210681438\n"
     ]
    },
    {
     "data": {
      "application/vnd.jupyter.widget-view+json": {
       "model_id": "",
       "version_major": 2,
       "version_minor": 0
      },
      "text/plain": [
       "HBox(children=(FloatProgress(value=0.0, description='Training', max=75.0, style=ProgressStyle(description_widt…"
      ]
     },
     "metadata": {},
     "output_type": "display_data"
    },
    {
     "data": {
      "application/vnd.jupyter.widget-view+json": {
       "model_id": "",
       "version_major": 2,
       "version_minor": 0
      },
      "text/plain": [
       "HBox(children=(FloatProgress(value=0.0, description='Validation', max=4.0, style=ProgressStyle(description_wid…"
      ]
     },
     "metadata": {},
     "output_type": "display_data"
    },
    {
     "name": "stdout",
     "output_type": "stream",
     "text": [
      "epoch number 39 finished with following results:\n",
      "\ttrain dice c0 0.9974446972211202 \ttrain dice c1 0.7860892566045126\n",
      "\ttrain dice c2 0.6835036253929139 \ttrain dice c3 0.8287782057126363\n",
      "\tvalidation dice c0 0.9949727952480316 \tvalidation dice c1 0.4468256086111069\n",
      "\tvalidation dice c2 0.3126034662127495 \tvalidation dice c4 0.3976138308644295\n",
      "\ttrain loss  0.11480402568976085 \tvalidation loss  0.15811968222260475\n"
     ]
    },
    {
     "data": {
      "application/vnd.jupyter.widget-view+json": {
       "model_id": "625001ef74f341e2a0ca8ba12f56bfde",
       "version_major": 2,
       "version_minor": 0
      },
      "text/plain": [
       "HBox(children=(FloatProgress(value=0.0, description='Training', max=75.0, style=ProgressStyle(description_widt…"
      ]
     },
     "metadata": {},
     "output_type": "display_data"
    }
   ],
   "source": [
    "# criterion\n",
    "# criterion = torch.nn.BCEWithLogitsLoss()\n",
    "criterion = torch.nn.CrossEntropyLoss(weight=weights).to(device)\n",
    "# criterion = CostumLoss().to(device)\n",
    "\n",
    "# optimizer\n",
    "optimizer = torch.optim.Adam(model.parameters(), lr=learning_rate)\n",
    "# trainer\n",
    "trainer = Trainer(model=model,\n",
    "                  device=device,\n",
    "                  criterion=criterion,\n",
    "                  optimizer=optimizer,\n",
    "                  training_DataLoader=train_loader,\n",
    "                  validation_DataLoader=val_loader,\n",
    "                  lr_scheduler=None,\n",
    "                  epochs=num_epochs,\n",
    "                  epoch=0, #################todo check itttttt\n",
    "                  notebook=True)\n",
    "# start training\n",
    "training_losses, validation_losses, val_dices_0 = trainer.run_trainer()"
   ]
  },
  {
   "cell_type": "code",
   "execution_count": null,
   "metadata": {
    "id": "a6jjOlbvQTFM"
   },
   "outputs": [],
   "source": [
    "torch.save(model, dataDir + 'unet_3d_initial_filter_8.pt')"
   ]
  },
  {
   "cell_type": "code",
   "execution_count": null,
   "metadata": {},
   "outputs": [],
   "source": [
    "model = torch.load(dataDir + 'unet_3d_initial_filter_8.pt')"
   ]
  },
  {
   "cell_type": "code",
   "execution_count": null,
   "metadata": {},
   "outputs": [],
   "source": [
    "print(model)"
   ]
  },
  {
   "cell_type": "markdown",
   "metadata": {
    "id": "V1YxAjTfQTFc"
   },
   "source": [
    "# Loss Plots"
   ]
  },
  {
   "cell_type": "code",
   "execution_count": null,
   "metadata": {},
   "outputs": [],
   "source": [
    "log = pd.read_csv('log_4class_dropout.csv')\n",
    "log"
   ]
  },
  {
   "cell_type": "code",
   "execution_count": null,
   "metadata": {
    "id": "S9HFpPGMQTFc"
   },
   "outputs": [],
   "source": [
    "x_axis = range(0, len(log))\n",
    "fig, ax = plt.subplots()\n",
    "ax.plot(x_axis, log['t_loss'], label='Train')\n",
    "ax.plot(x_axis, log['v_loss'], label='Validation')\n",
    "ax.legend()\n",
    "plt.ylabel('Loss')\n",
    "plt.show()"
   ]
  },
  {
   "cell_type": "code",
   "execution_count": null,
   "metadata": {},
   "outputs": [],
   "source": [
    "from torchsummary import summary\n",
    "\n",
    "summary(model, (1, 16, 224, 224))"
   ]
  },
  {
   "cell_type": "markdown",
   "metadata": {
    "id": "R1fvNa_dQTFd"
   },
   "source": [
    "# Show Results"
   ]
  },
  {
   "cell_type": "code",
   "execution_count": null,
   "metadata": {
    "id": "PG9YsGZ4QTFd"
   },
   "outputs": [],
   "source": [
    "from tqdm.notebook import tqdm, trange\n",
    "\n",
    "\n",
    "\n",
    "val_dir = dataDir + '/Validation/'\n",
    "val_all = os.listdir(val_dir)\n",
    "val_dataset = SegDataset(val_all, metadata, val_dir)\n",
    "\n",
    "val_loader = torch.utils.data.DataLoader(dataset=val_dataset,\n",
    "                                           batch_size=batch_size,\n",
    "                                           shuffle=True)\n",
    "\n",
    "\n",
    "\n",
    "model.eval()  # evaluation mode\n",
    "batch_iter = tqdm(enumerate(val_loader), 'Validation', total=len(val_loader),\n",
    "                    leave=False)\n",
    "\n",
    "model_outputs = []\n",
    "original_images = []\n",
    "gts = []\n",
    "dice_c0 = []\n",
    "dice_c1 = []\n",
    "dice_c2 = []\n",
    "dice_c3 = []\n",
    "\n",
    "for i, (x, y) in batch_iter:\n",
    "    input, target = x.to(device), y.to(device)  # send to device (GPU or CPU)\n",
    "    \n",
    "    original_images.append(input.detach().clone())\n",
    "    gts.append(target.detach().clone())\n",
    "    \n",
    "    with torch.no_grad():\n",
    "        out = model(input)\n",
    "        out = torch.sigmoid(out)\n",
    "        out = torch.round(out)\n",
    "        print(out.shape)\n",
    "    \n",
    "    out_soft = torch.argmax(out, dim=1) \n",
    "    model_outputs.append(out_soft)\n",
    "#     model_outputs.append(out)\n",
    "\n",
    "    \n",
    "    dice_c0.append(dice_score(out.detach().clone(), target, 0))\n",
    "    dice_c1.append(dice_score(out.detach().clone(), target, 1))\n",
    "    dice_c2.append(dice_score(out.detach().clone(), target, 2))\n",
    "    dice_c3.append(dice_score(out.detach().clone(), target, 3))\n",
    "\n",
    "\n",
    "batch_iter.close()\n",
    "\n",
    "print(np.mean(dice_c0), np.mean(dice_c1), np.mean(dice_c2), np.mean(dice_c3))"
   ]
  },
  {
   "cell_type": "code",
   "execution_count": null,
   "metadata": {
    "id": "Xu5tr3C7QTFd"
   },
   "outputs": [],
   "source": [
    "model_outputs = np.asarray(model_outputs)\n",
    "original_images = np.asarray(original_images)\n",
    "gts = np.asarray(gts)"
   ]
  },
  {
   "cell_type": "code",
   "execution_count": null,
   "metadata": {},
   "outputs": [],
   "source": []
  },
  {
   "cell_type": "code",
   "execution_count": null,
   "metadata": {
    "id": "VAwDYUfVQTFe"
   },
   "outputs": [],
   "source": [
    "model_outputs[0].shape, original_images[0].shape, gts[0].shape"
   ]
  },
  {
   "cell_type": "code",
   "execution_count": null,
   "metadata": {
    "id": "ciDrHcK1QTFe"
   },
   "outputs": [],
   "source": [
    "plt.imshow(original_images[1][2][0][7].cpu(), cmap='gray')"
   ]
  },
  {
   "cell_type": "code",
   "execution_count": null,
   "metadata": {
    "id": "dOvZOYloQTFf"
   },
   "outputs": [],
   "source": [
    "plt.imshow(gts[1][2][7].cpu(), cmap='gray')"
   ]
  },
  {
   "cell_type": "code",
   "execution_count": null,
   "metadata": {
    "id": "kXzUiZAYQTFf"
   },
   "outputs": [],
   "source": [
    "plt.imshow(model_outputs[1][2][7].cpu(), cmap='gray')"
   ]
  },
  {
   "cell_type": "code",
   "execution_count": null,
   "metadata": {
    "id": "ML4liyO3QTFg"
   },
   "outputs": [],
   "source": [
    "model_outputs[1].shape"
   ]
  },
  {
   "cell_type": "code",
   "execution_count": null,
   "metadata": {},
   "outputs": [],
   "source": []
  },
  {
   "cell_type": "code",
   "execution_count": null,
   "metadata": {},
   "outputs": [],
   "source": []
  },
  {
   "cell_type": "code",
   "execution_count": null,
   "metadata": {},
   "outputs": [],
   "source": []
  }
 ],
 "metadata": {
  "accelerator": "GPU",
  "colab": {
   "collapsed_sections": [],
   "name": "2class-UNet.ipynb",
   "provenance": [],
   "toc_visible": true
  },
  "kernelspec": {
   "display_name": "Python 3",
   "language": "python",
   "name": "python3"
  },
  "language_info": {
   "codemirror_mode": {
    "name": "ipython",
    "version": 3
   },
   "file_extension": ".py",
   "mimetype": "text/x-python",
   "name": "python",
   "nbconvert_exporter": "python",
   "pygments_lexer": "ipython3",
   "version": "3.7.6"
  },
  "widgets": {
   "application/vnd.jupyter.widget-state+json": {
    "03d8f7bc04fa4727984cddfd25c2d719": {
     "model_module": "@jupyter-widgets/base",
     "model_name": "LayoutModel",
     "state": {
      "_model_module": "@jupyter-widgets/base",
      "_model_module_version": "1.2.0",
      "_model_name": "LayoutModel",
      "_view_count": null,
      "_view_module": "@jupyter-widgets/base",
      "_view_module_version": "1.2.0",
      "_view_name": "LayoutView",
      "align_content": null,
      "align_items": null,
      "align_self": null,
      "border": null,
      "bottom": null,
      "display": null,
      "flex": null,
      "flex_flow": null,
      "grid_area": null,
      "grid_auto_columns": null,
      "grid_auto_flow": null,
      "grid_auto_rows": null,
      "grid_column": null,
      "grid_gap": null,
      "grid_row": null,
      "grid_template_areas": null,
      "grid_template_columns": null,
      "grid_template_rows": null,
      "height": null,
      "justify_content": null,
      "justify_items": null,
      "left": null,
      "margin": null,
      "max_height": null,
      "max_width": null,
      "min_height": null,
      "min_width": null,
      "object_fit": null,
      "object_position": null,
      "order": null,
      "overflow": null,
      "overflow_x": null,
      "overflow_y": null,
      "padding": null,
      "right": null,
      "top": null,
      "visibility": null,
      "width": null
     }
    },
    "05e68b1545874511b76e765e92ba2f10": {
     "model_module": "@jupyter-widgets/controls",
     "model_name": "HBoxModel",
     "state": {
      "_dom_classes": [],
      "_model_module": "@jupyter-widgets/controls",
      "_model_module_version": "1.5.0",
      "_model_name": "HBoxModel",
      "_view_count": null,
      "_view_module": "@jupyter-widgets/controls",
      "_view_module_version": "1.5.0",
      "_view_name": "HBoxView",
      "box_style": "",
      "children": [
       "IPY_MODEL_981129eb1f7d488cbdcf42f0751da7a4",
       "IPY_MODEL_2e3947b44fbe4b4a8e19a6f64a9fc15d"
      ],
      "layout": "IPY_MODEL_2115505b751248b1955b7e68cba6b2c0"
     }
    },
    "060df99725bc41ba870c931b696c4554": {
     "model_module": "@jupyter-widgets/controls",
     "model_name": "HBoxModel",
     "state": {
      "_dom_classes": [],
      "_model_module": "@jupyter-widgets/controls",
      "_model_module_version": "1.5.0",
      "_model_name": "HBoxModel",
      "_view_count": null,
      "_view_module": "@jupyter-widgets/controls",
      "_view_module_version": "1.5.0",
      "_view_name": "HBoxView",
      "box_style": "",
      "children": [
       "IPY_MODEL_677dfee1ee794d0e8e393537f5e2c6ba",
       "IPY_MODEL_292d1b8aca89402d8916e649f1ddbdc4"
      ],
      "layout": "IPY_MODEL_2db6b845800d47589263e19046af14ff"
     }
    },
    "090608609e2a43d0bdc7e75b054ca8f3": {
     "model_module": "@jupyter-widgets/controls",
     "model_name": "HBoxModel",
     "state": {
      "_dom_classes": [],
      "_model_module": "@jupyter-widgets/controls",
      "_model_module_version": "1.5.0",
      "_model_name": "HBoxModel",
      "_view_count": null,
      "_view_module": "@jupyter-widgets/controls",
      "_view_module_version": "1.5.0",
      "_view_name": "HBoxView",
      "box_style": "",
      "children": [
       "IPY_MODEL_f33eca4ad6ef4dc78d8e030e11546ceb",
       "IPY_MODEL_d198706a06844919811a8265ad23d5cd"
      ],
      "layout": "IPY_MODEL_60206f2796254cc1be974582ded2fe74"
     }
    },
    "0f3a32405239463ea6a13cda77d545df": {
     "model_module": "@jupyter-widgets/controls",
     "model_name": "FloatProgressModel",
     "state": {
      "_dom_classes": [],
      "_model_module": "@jupyter-widgets/controls",
      "_model_module_version": "1.5.0",
      "_model_name": "FloatProgressModel",
      "_view_count": null,
      "_view_module": "@jupyter-widgets/controls",
      "_view_module_version": "1.5.0",
      "_view_name": "ProgressView",
      "bar_style": "",
      "description": "Training: (loss 3.7582): 100%",
      "description_tooltip": null,
      "layout": "IPY_MODEL_48a698d98fdb4df8a0c07a331afb01ed",
      "max": 8,
      "min": 0,
      "orientation": "horizontal",
      "style": "IPY_MODEL_bf4c0a0487de42b29c72134cc015d0f4",
      "value": 8
     }
    },
    "0f71e188335c42f69ed1308d89a1a4f2": {
     "model_module": "@jupyter-widgets/controls",
     "model_name": "DescriptionStyleModel",
     "state": {
      "_model_module": "@jupyter-widgets/controls",
      "_model_module_version": "1.5.0",
      "_model_name": "DescriptionStyleModel",
      "_view_count": null,
      "_view_module": "@jupyter-widgets/base",
      "_view_module_version": "1.2.0",
      "_view_name": "StyleView",
      "description_width": ""
     }
    },
    "124d0a6bed1f475eb91f946f93123afc": {
     "model_module": "@jupyter-widgets/base",
     "model_name": "LayoutModel",
     "state": {
      "_model_module": "@jupyter-widgets/base",
      "_model_module_version": "1.2.0",
      "_model_name": "LayoutModel",
      "_view_count": null,
      "_view_module": "@jupyter-widgets/base",
      "_view_module_version": "1.2.0",
      "_view_name": "LayoutView",
      "align_content": null,
      "align_items": null,
      "align_self": null,
      "border": null,
      "bottom": null,
      "display": null,
      "flex": null,
      "flex_flow": null,
      "grid_area": null,
      "grid_auto_columns": null,
      "grid_auto_flow": null,
      "grid_auto_rows": null,
      "grid_column": null,
      "grid_gap": null,
      "grid_row": null,
      "grid_template_areas": null,
      "grid_template_columns": null,
      "grid_template_rows": null,
      "height": null,
      "justify_content": null,
      "justify_items": null,
      "left": null,
      "margin": null,
      "max_height": null,
      "max_width": null,
      "min_height": null,
      "min_width": null,
      "object_fit": null,
      "object_position": null,
      "order": null,
      "overflow": null,
      "overflow_x": null,
      "overflow_y": null,
      "padding": null,
      "right": null,
      "top": null,
      "visibility": null,
      "width": null
     }
    },
    "14c76f93117743bfa723a54dd6031261": {
     "model_module": "@jupyter-widgets/controls",
     "model_name": "ProgressStyleModel",
     "state": {
      "_model_module": "@jupyter-widgets/controls",
      "_model_module_version": "1.5.0",
      "_model_name": "ProgressStyleModel",
      "_view_count": null,
      "_view_module": "@jupyter-widgets/base",
      "_view_module_version": "1.2.0",
      "_view_name": "StyleView",
      "bar_color": null,
      "description_width": "initial"
     }
    },
    "1545d3f54a124713810e4c6e6432f27e": {
     "model_module": "@jupyter-widgets/controls",
     "model_name": "HTMLModel",
     "state": {
      "_dom_classes": [],
      "_model_module": "@jupyter-widgets/controls",
      "_model_module_version": "1.5.0",
      "_model_name": "HTMLModel",
      "_view_count": null,
      "_view_module": "@jupyter-widgets/controls",
      "_view_module_version": "1.5.0",
      "_view_name": "HTMLView",
      "description": "",
      "description_tooltip": null,
      "layout": "IPY_MODEL_c825cbc692f549b3bdc14b42c281858c",
      "placeholder": "​",
      "style": "IPY_MODEL_fb1c8deaaa284a8da3c8d7251a30db05",
      "value": " 8/8 [00:29&lt;00:00,  3.78s/it]"
     }
    },
    "179eb25754064ba59d88f5100bc7e50d": {
     "model_module": "@jupyter-widgets/controls",
     "model_name": "DescriptionStyleModel",
     "state": {
      "_model_module": "@jupyter-widgets/controls",
      "_model_module_version": "1.5.0",
      "_model_name": "DescriptionStyleModel",
      "_view_count": null,
      "_view_module": "@jupyter-widgets/base",
      "_view_module_version": "1.2.0",
      "_view_name": "StyleView",
      "description_width": ""
     }
    },
    "17cb2ac42e4a4fe0b6151bb0f4e08cb3": {
     "model_module": "@jupyter-widgets/base",
     "model_name": "LayoutModel",
     "state": {
      "_model_module": "@jupyter-widgets/base",
      "_model_module_version": "1.2.0",
      "_model_name": "LayoutModel",
      "_view_count": null,
      "_view_module": "@jupyter-widgets/base",
      "_view_module_version": "1.2.0",
      "_view_name": "LayoutView",
      "align_content": null,
      "align_items": null,
      "align_self": null,
      "border": null,
      "bottom": null,
      "display": null,
      "flex": null,
      "flex_flow": null,
      "grid_area": null,
      "grid_auto_columns": null,
      "grid_auto_flow": null,
      "grid_auto_rows": null,
      "grid_column": null,
      "grid_gap": null,
      "grid_row": null,
      "grid_template_areas": null,
      "grid_template_columns": null,
      "grid_template_rows": null,
      "height": null,
      "justify_content": null,
      "justify_items": null,
      "left": null,
      "margin": null,
      "max_height": null,
      "max_width": null,
      "min_height": null,
      "min_width": null,
      "object_fit": null,
      "object_position": null,
      "order": null,
      "overflow": null,
      "overflow_x": null,
      "overflow_y": null,
      "padding": null,
      "right": null,
      "top": null,
      "visibility": null,
      "width": null
     }
    },
    "18688386ec6041c5ae0f7e3aa1a1e617": {
     "model_module": "@jupyter-widgets/controls",
     "model_name": "HBoxModel",
     "state": {
      "_dom_classes": [],
      "_model_module": "@jupyter-widgets/controls",
      "_model_module_version": "1.5.0",
      "_model_name": "HBoxModel",
      "_view_count": null,
      "_view_module": "@jupyter-widgets/controls",
      "_view_module_version": "1.5.0",
      "_view_name": "HBoxView",
      "box_style": "",
      "children": [
       "IPY_MODEL_a5dfa4c0bff64611b6cdb8d26175ec11",
       "IPY_MODEL_e1cde7b5bc6f49eaa772571ba719fff6"
      ],
      "layout": "IPY_MODEL_560a277859f84d7b9abddb59d4c117eb"
     }
    },
    "1d92ddd27e94444498de2924adc169ef": {
     "model_module": "@jupyter-widgets/base",
     "model_name": "LayoutModel",
     "state": {
      "_model_module": "@jupyter-widgets/base",
      "_model_module_version": "1.2.0",
      "_model_name": "LayoutModel",
      "_view_count": null,
      "_view_module": "@jupyter-widgets/base",
      "_view_module_version": "1.2.0",
      "_view_name": "LayoutView",
      "align_content": null,
      "align_items": null,
      "align_self": null,
      "border": null,
      "bottom": null,
      "display": null,
      "flex": null,
      "flex_flow": null,
      "grid_area": null,
      "grid_auto_columns": null,
      "grid_auto_flow": null,
      "grid_auto_rows": null,
      "grid_column": null,
      "grid_gap": null,
      "grid_row": null,
      "grid_template_areas": null,
      "grid_template_columns": null,
      "grid_template_rows": null,
      "height": null,
      "justify_content": null,
      "justify_items": null,
      "left": null,
      "margin": null,
      "max_height": null,
      "max_width": null,
      "min_height": null,
      "min_width": null,
      "object_fit": null,
      "object_position": null,
      "order": null,
      "overflow": null,
      "overflow_x": null,
      "overflow_y": null,
      "padding": null,
      "right": null,
      "top": null,
      "visibility": null,
      "width": null
     }
    },
    "1f235aa1c1914619955c62e01cdc1fd1": {
     "model_module": "@jupyter-widgets/controls",
     "model_name": "HTMLModel",
     "state": {
      "_dom_classes": [],
      "_model_module": "@jupyter-widgets/controls",
      "_model_module_version": "1.5.0",
      "_model_name": "HTMLModel",
      "_view_count": null,
      "_view_module": "@jupyter-widgets/controls",
      "_view_module_version": "1.5.0",
      "_view_name": "HTMLView",
      "description": "",
      "description_tooltip": null,
      "layout": "IPY_MODEL_cd15b387cf7b4455b3fb72e510afc4f1",
      "placeholder": "​",
      "style": "IPY_MODEL_a6325d8b655c40f6a466588e184a0bca",
      "value": " 8/8 [00:29&lt;00:00,  3.65s/it]"
     }
    },
    "2115505b751248b1955b7e68cba6b2c0": {
     "model_module": "@jupyter-widgets/base",
     "model_name": "LayoutModel",
     "state": {
      "_model_module": "@jupyter-widgets/base",
      "_model_module_version": "1.2.0",
      "_model_name": "LayoutModel",
      "_view_count": null,
      "_view_module": "@jupyter-widgets/base",
      "_view_module_version": "1.2.0",
      "_view_name": "LayoutView",
      "align_content": null,
      "align_items": null,
      "align_self": null,
      "border": null,
      "bottom": null,
      "display": null,
      "flex": null,
      "flex_flow": null,
      "grid_area": null,
      "grid_auto_columns": null,
      "grid_auto_flow": null,
      "grid_auto_rows": null,
      "grid_column": null,
      "grid_gap": null,
      "grid_row": null,
      "grid_template_areas": null,
      "grid_template_columns": null,
      "grid_template_rows": null,
      "height": null,
      "justify_content": null,
      "justify_items": null,
      "left": null,
      "margin": null,
      "max_height": null,
      "max_width": null,
      "min_height": null,
      "min_width": null,
      "object_fit": null,
      "object_position": null,
      "order": null,
      "overflow": null,
      "overflow_x": null,
      "overflow_y": null,
      "padding": null,
      "right": null,
      "top": null,
      "visibility": null,
      "width": null
     }
    },
    "26e8e9c604a24435b2c057f22a09fde5": {
     "model_module": "@jupyter-widgets/controls",
     "model_name": "HTMLModel",
     "state": {
      "_dom_classes": [],
      "_model_module": "@jupyter-widgets/controls",
      "_model_module_version": "1.5.0",
      "_model_name": "HTMLModel",
      "_view_count": null,
      "_view_module": "@jupyter-widgets/controls",
      "_view_module_version": "1.5.0",
      "_view_name": "HTMLView",
      "description": "",
      "description_tooltip": null,
      "layout": "IPY_MODEL_400b19aed0b0407295b956eb8d403711",
      "placeholder": "​",
      "style": "IPY_MODEL_87d22379e9f04fb9bbea3532432cd031",
      "value": " 8/8 [00:29&lt;00:00,  3.85s/it]"
     }
    },
    "292d1b8aca89402d8916e649f1ddbdc4": {
     "model_module": "@jupyter-widgets/controls",
     "model_name": "HTMLModel",
     "state": {
      "_dom_classes": [],
      "_model_module": "@jupyter-widgets/controls",
      "_model_module_version": "1.5.0",
      "_model_name": "HTMLModel",
      "_view_count": null,
      "_view_module": "@jupyter-widgets/controls",
      "_view_module_version": "1.5.0",
      "_view_name": "HTMLView",
      "description": "",
      "description_tooltip": null,
      "layout": "IPY_MODEL_e3137035730d45f993bcb8b76ec18af5",
      "placeholder": "​",
      "style": "IPY_MODEL_fd8e8874ceb64f3dba2b7421ad41ecba",
      "value": " 4/4 [00:15&lt;00:00,  3.82s/it]"
     }
    },
    "2943a6a9e48a4baaa56e31d61e3c4db7": {
     "model_module": "@jupyter-widgets/controls",
     "model_name": "ProgressStyleModel",
     "state": {
      "_model_module": "@jupyter-widgets/controls",
      "_model_module_version": "1.5.0",
      "_model_name": "ProgressStyleModel",
      "_view_count": null,
      "_view_module": "@jupyter-widgets/base",
      "_view_module_version": "1.2.0",
      "_view_name": "StyleView",
      "bar_color": null,
      "description_width": "initial"
     }
    },
    "2991961302f9471b9a9e512b7c9d6e0c": {
     "model_module": "@jupyter-widgets/controls",
     "model_name": "HBoxModel",
     "state": {
      "_dom_classes": [],
      "_model_module": "@jupyter-widgets/controls",
      "_model_module_version": "1.5.0",
      "_model_name": "HBoxModel",
      "_view_count": null,
      "_view_module": "@jupyter-widgets/controls",
      "_view_module_version": "1.5.0",
      "_view_name": "HBoxView",
      "box_style": "",
      "children": [
       "IPY_MODEL_7c516d6a215644d682653798124a74d0",
       "IPY_MODEL_8ce5494e6be84efb89a05d4377ec3b9d"
      ],
      "layout": "IPY_MODEL_640f50fba7694ff99ba7696833fefe4e"
     }
    },
    "2db6b845800d47589263e19046af14ff": {
     "model_module": "@jupyter-widgets/base",
     "model_name": "LayoutModel",
     "state": {
      "_model_module": "@jupyter-widgets/base",
      "_model_module_version": "1.2.0",
      "_model_name": "LayoutModel",
      "_view_count": null,
      "_view_module": "@jupyter-widgets/base",
      "_view_module_version": "1.2.0",
      "_view_name": "LayoutView",
      "align_content": null,
      "align_items": null,
      "align_self": null,
      "border": null,
      "bottom": null,
      "display": null,
      "flex": null,
      "flex_flow": null,
      "grid_area": null,
      "grid_auto_columns": null,
      "grid_auto_flow": null,
      "grid_auto_rows": null,
      "grid_column": null,
      "grid_gap": null,
      "grid_row": null,
      "grid_template_areas": null,
      "grid_template_columns": null,
      "grid_template_rows": null,
      "height": null,
      "justify_content": null,
      "justify_items": null,
      "left": null,
      "margin": null,
      "max_height": null,
      "max_width": null,
      "min_height": null,
      "min_width": null,
      "object_fit": null,
      "object_position": null,
      "order": null,
      "overflow": null,
      "overflow_x": null,
      "overflow_y": null,
      "padding": null,
      "right": null,
      "top": null,
      "visibility": null,
      "width": null
     }
    },
    "2e3947b44fbe4b4a8e19a6f64a9fc15d": {
     "model_module": "@jupyter-widgets/controls",
     "model_name": "HTMLModel",
     "state": {
      "_dom_classes": [],
      "_model_module": "@jupyter-widgets/controls",
      "_model_module_version": "1.5.0",
      "_model_name": "HTMLModel",
      "_view_count": null,
      "_view_module": "@jupyter-widgets/controls",
      "_view_module_version": "1.5.0",
      "_view_name": "HTMLView",
      "description": "",
      "description_tooltip": null,
      "layout": "IPY_MODEL_96320a457751475d81b3ac9701ddb2f0",
      "placeholder": "​",
      "style": "IPY_MODEL_4ad3ebc8960f488494677ce98aae05a3",
      "value": " 6/8 [00:23&lt;00:07,  3.79s/it]"
     }
    },
    "333eeaf262924287a50e8797efafc7ae": {
     "model_module": "@jupyter-widgets/base",
     "model_name": "LayoutModel",
     "state": {
      "_model_module": "@jupyter-widgets/base",
      "_model_module_version": "1.2.0",
      "_model_name": "LayoutModel",
      "_view_count": null,
      "_view_module": "@jupyter-widgets/base",
      "_view_module_version": "1.2.0",
      "_view_name": "LayoutView",
      "align_content": null,
      "align_items": null,
      "align_self": null,
      "border": null,
      "bottom": null,
      "display": null,
      "flex": null,
      "flex_flow": null,
      "grid_area": null,
      "grid_auto_columns": null,
      "grid_auto_flow": null,
      "grid_auto_rows": null,
      "grid_column": null,
      "grid_gap": null,
      "grid_row": null,
      "grid_template_areas": null,
      "grid_template_columns": null,
      "grid_template_rows": null,
      "height": null,
      "justify_content": null,
      "justify_items": null,
      "left": null,
      "margin": null,
      "max_height": null,
      "max_width": null,
      "min_height": null,
      "min_width": null,
      "object_fit": null,
      "object_position": null,
      "order": null,
      "overflow": null,
      "overflow_x": null,
      "overflow_y": null,
      "padding": null,
      "right": null,
      "top": null,
      "visibility": null,
      "width": null
     }
    },
    "36068bfd63104b20846d3112d718419f": {
     "model_module": "@jupyter-widgets/controls",
     "model_name": "ProgressStyleModel",
     "state": {
      "_model_module": "@jupyter-widgets/controls",
      "_model_module_version": "1.5.0",
      "_model_name": "ProgressStyleModel",
      "_view_count": null,
      "_view_module": "@jupyter-widgets/base",
      "_view_module_version": "1.2.0",
      "_view_name": "StyleView",
      "bar_color": null,
      "description_width": "initial"
     }
    },
    "3a1209cd398f49e6ab7144747e7de91d": {
     "model_module": "@jupyter-widgets/controls",
     "model_name": "FloatProgressModel",
     "state": {
      "_dom_classes": [],
      "_model_module": "@jupyter-widgets/controls",
      "_model_module_version": "1.5.0",
      "_model_name": "FloatProgressModel",
      "_view_count": null,
      "_view_module": "@jupyter-widgets/controls",
      "_view_module_version": "1.5.0",
      "_view_name": "ProgressView",
      "bar_style": "",
      "description": "Validation: (loss 3.1277): 100%",
      "description_tooltip": null,
      "layout": "IPY_MODEL_902a72a3a5bd4d208ed742c7eb9fd239",
      "max": 4,
      "min": 0,
      "orientation": "horizontal",
      "style": "IPY_MODEL_2943a6a9e48a4baaa56e31d61e3c4db7",
      "value": 4
     }
    },
    "3a39e907ca274af481e9a9a676a34d15": {
     "model_module": "@jupyter-widgets/base",
     "model_name": "LayoutModel",
     "state": {
      "_model_module": "@jupyter-widgets/base",
      "_model_module_version": "1.2.0",
      "_model_name": "LayoutModel",
      "_view_count": null,
      "_view_module": "@jupyter-widgets/base",
      "_view_module_version": "1.2.0",
      "_view_name": "LayoutView",
      "align_content": null,
      "align_items": null,
      "align_self": null,
      "border": null,
      "bottom": null,
      "display": null,
      "flex": null,
      "flex_flow": null,
      "grid_area": null,
      "grid_auto_columns": null,
      "grid_auto_flow": null,
      "grid_auto_rows": null,
      "grid_column": null,
      "grid_gap": null,
      "grid_row": null,
      "grid_template_areas": null,
      "grid_template_columns": null,
      "grid_template_rows": null,
      "height": null,
      "justify_content": null,
      "justify_items": null,
      "left": null,
      "margin": null,
      "max_height": null,
      "max_width": null,
      "min_height": null,
      "min_width": null,
      "object_fit": null,
      "object_position": null,
      "order": null,
      "overflow": null,
      "overflow_x": null,
      "overflow_y": null,
      "padding": null,
      "right": null,
      "top": null,
      "visibility": null,
      "width": null
     }
    },
    "3a99e7ad259b46cc9ca71edd2e35bf63": {
     "model_module": "@jupyter-widgets/controls",
     "model_name": "DescriptionStyleModel",
     "state": {
      "_model_module": "@jupyter-widgets/controls",
      "_model_module_version": "1.5.0",
      "_model_name": "DescriptionStyleModel",
      "_view_count": null,
      "_view_module": "@jupyter-widgets/base",
      "_view_module_version": "1.2.0",
      "_view_name": "StyleView",
      "description_width": ""
     }
    },
    "3bf69561dfd24f5383894746634cfeab": {
     "model_module": "@jupyter-widgets/controls",
     "model_name": "HTMLModel",
     "state": {
      "_dom_classes": [],
      "_model_module": "@jupyter-widgets/controls",
      "_model_module_version": "1.5.0",
      "_model_name": "HTMLModel",
      "_view_count": null,
      "_view_module": "@jupyter-widgets/controls",
      "_view_module_version": "1.5.0",
      "_view_name": "HTMLView",
      "description": "",
      "description_tooltip": null,
      "layout": "IPY_MODEL_aaeed5a3f2024926b78f3cba4064e95d",
      "placeholder": "​",
      "style": "IPY_MODEL_0f71e188335c42f69ed1308d89a1a4f2",
      "value": " 4/4 [00:15&lt;00:00,  3.71s/it]"
     }
    },
    "3ca309c0ac36447ab35e3e3396f61615": {
     "model_module": "@jupyter-widgets/controls",
     "model_name": "ProgressStyleModel",
     "state": {
      "_model_module": "@jupyter-widgets/controls",
      "_model_module_version": "1.5.0",
      "_model_name": "ProgressStyleModel",
      "_view_count": null,
      "_view_module": "@jupyter-widgets/base",
      "_view_module_version": "1.2.0",
      "_view_name": "StyleView",
      "bar_color": null,
      "description_width": "initial"
     }
    },
    "3f47fff5055a43b79e1246acd7ff664d": {
     "model_module": "@jupyter-widgets/controls",
     "model_name": "ProgressStyleModel",
     "state": {
      "_model_module": "@jupyter-widgets/controls",
      "_model_module_version": "1.5.0",
      "_model_name": "ProgressStyleModel",
      "_view_count": null,
      "_view_module": "@jupyter-widgets/base",
      "_view_module_version": "1.2.0",
      "_view_name": "StyleView",
      "bar_color": null,
      "description_width": "initial"
     }
    },
    "3fae501eb7bb42bdbac96783894c74ac": {
     "model_module": "@jupyter-widgets/base",
     "model_name": "LayoutModel",
     "state": {
      "_model_module": "@jupyter-widgets/base",
      "_model_module_version": "1.2.0",
      "_model_name": "LayoutModel",
      "_view_count": null,
      "_view_module": "@jupyter-widgets/base",
      "_view_module_version": "1.2.0",
      "_view_name": "LayoutView",
      "align_content": null,
      "align_items": null,
      "align_self": null,
      "border": null,
      "bottom": null,
      "display": null,
      "flex": null,
      "flex_flow": null,
      "grid_area": null,
      "grid_auto_columns": null,
      "grid_auto_flow": null,
      "grid_auto_rows": null,
      "grid_column": null,
      "grid_gap": null,
      "grid_row": null,
      "grid_template_areas": null,
      "grid_template_columns": null,
      "grid_template_rows": null,
      "height": null,
      "justify_content": null,
      "justify_items": null,
      "left": null,
      "margin": null,
      "max_height": null,
      "max_width": null,
      "min_height": null,
      "min_width": null,
      "object_fit": null,
      "object_position": null,
      "order": null,
      "overflow": null,
      "overflow_x": null,
      "overflow_y": null,
      "padding": null,
      "right": null,
      "top": null,
      "visibility": null,
      "width": null
     }
    },
    "400b19aed0b0407295b956eb8d403711": {
     "model_module": "@jupyter-widgets/base",
     "model_name": "LayoutModel",
     "state": {
      "_model_module": "@jupyter-widgets/base",
      "_model_module_version": "1.2.0",
      "_model_name": "LayoutModel",
      "_view_count": null,
      "_view_module": "@jupyter-widgets/base",
      "_view_module_version": "1.2.0",
      "_view_name": "LayoutView",
      "align_content": null,
      "align_items": null,
      "align_self": null,
      "border": null,
      "bottom": null,
      "display": null,
      "flex": null,
      "flex_flow": null,
      "grid_area": null,
      "grid_auto_columns": null,
      "grid_auto_flow": null,
      "grid_auto_rows": null,
      "grid_column": null,
      "grid_gap": null,
      "grid_row": null,
      "grid_template_areas": null,
      "grid_template_columns": null,
      "grid_template_rows": null,
      "height": null,
      "justify_content": null,
      "justify_items": null,
      "left": null,
      "margin": null,
      "max_height": null,
      "max_width": null,
      "min_height": null,
      "min_width": null,
      "object_fit": null,
      "object_position": null,
      "order": null,
      "overflow": null,
      "overflow_x": null,
      "overflow_y": null,
      "padding": null,
      "right": null,
      "top": null,
      "visibility": null,
      "width": null
     }
    },
    "4101803ed3a34b128ec0d1c4ddb1ff7f": {
     "model_module": "@jupyter-widgets/base",
     "model_name": "LayoutModel",
     "state": {
      "_model_module": "@jupyter-widgets/base",
      "_model_module_version": "1.2.0",
      "_model_name": "LayoutModel",
      "_view_count": null,
      "_view_module": "@jupyter-widgets/base",
      "_view_module_version": "1.2.0",
      "_view_name": "LayoutView",
      "align_content": null,
      "align_items": null,
      "align_self": null,
      "border": null,
      "bottom": null,
      "display": null,
      "flex": null,
      "flex_flow": null,
      "grid_area": null,
      "grid_auto_columns": null,
      "grid_auto_flow": null,
      "grid_auto_rows": null,
      "grid_column": null,
      "grid_gap": null,
      "grid_row": null,
      "grid_template_areas": null,
      "grid_template_columns": null,
      "grid_template_rows": null,
      "height": null,
      "justify_content": null,
      "justify_items": null,
      "left": null,
      "margin": null,
      "max_height": null,
      "max_width": null,
      "min_height": null,
      "min_width": null,
      "object_fit": null,
      "object_position": null,
      "order": null,
      "overflow": null,
      "overflow_x": null,
      "overflow_y": null,
      "padding": null,
      "right": null,
      "top": null,
      "visibility": null,
      "width": null
     }
    },
    "48a698d98fdb4df8a0c07a331afb01ed": {
     "model_module": "@jupyter-widgets/base",
     "model_name": "LayoutModel",
     "state": {
      "_model_module": "@jupyter-widgets/base",
      "_model_module_version": "1.2.0",
      "_model_name": "LayoutModel",
      "_view_count": null,
      "_view_module": "@jupyter-widgets/base",
      "_view_module_version": "1.2.0",
      "_view_name": "LayoutView",
      "align_content": null,
      "align_items": null,
      "align_self": null,
      "border": null,
      "bottom": null,
      "display": null,
      "flex": null,
      "flex_flow": null,
      "grid_area": null,
      "grid_auto_columns": null,
      "grid_auto_flow": null,
      "grid_auto_rows": null,
      "grid_column": null,
      "grid_gap": null,
      "grid_row": null,
      "grid_template_areas": null,
      "grid_template_columns": null,
      "grid_template_rows": null,
      "height": null,
      "justify_content": null,
      "justify_items": null,
      "left": null,
      "margin": null,
      "max_height": null,
      "max_width": null,
      "min_height": null,
      "min_width": null,
      "object_fit": null,
      "object_position": null,
      "order": null,
      "overflow": null,
      "overflow_x": null,
      "overflow_y": null,
      "padding": null,
      "right": null,
      "top": null,
      "visibility": null,
      "width": null
     }
    },
    "4ad3ebc8960f488494677ce98aae05a3": {
     "model_module": "@jupyter-widgets/controls",
     "model_name": "DescriptionStyleModel",
     "state": {
      "_model_module": "@jupyter-widgets/controls",
      "_model_module_version": "1.5.0",
      "_model_name": "DescriptionStyleModel",
      "_view_count": null,
      "_view_module": "@jupyter-widgets/base",
      "_view_module_version": "1.2.0",
      "_view_name": "StyleView",
      "description_width": ""
     }
    },
    "4d283afb6a844d0dad7459e0b23f1e2a": {
     "model_module": "@jupyter-widgets/controls",
     "model_name": "DescriptionStyleModel",
     "state": {
      "_model_module": "@jupyter-widgets/controls",
      "_model_module_version": "1.5.0",
      "_model_name": "DescriptionStyleModel",
      "_view_count": null,
      "_view_module": "@jupyter-widgets/base",
      "_view_module_version": "1.2.0",
      "_view_name": "StyleView",
      "description_width": ""
     }
    },
    "4e7e5b9d46054ec1a77587bd11074255": {
     "model_module": "@jupyter-widgets/controls",
     "model_name": "HTMLModel",
     "state": {
      "_dom_classes": [],
      "_model_module": "@jupyter-widgets/controls",
      "_model_module_version": "1.5.0",
      "_model_name": "HTMLModel",
      "_view_count": null,
      "_view_module": "@jupyter-widgets/controls",
      "_view_module_version": "1.5.0",
      "_view_name": "HTMLView",
      "description": "",
      "description_tooltip": null,
      "layout": "IPY_MODEL_9673d012c9964d74945b615cc45574e9",
      "placeholder": "​",
      "style": "IPY_MODEL_3a99e7ad259b46cc9ca71edd2e35bf63",
      "value": " 4/4 [00:14&lt;00:00,  3.71s/it]"
     }
    },
    "4ebc43dc8b22482181b6301a3f06b1ce": {
     "model_module": "@jupyter-widgets/controls",
     "model_name": "ProgressStyleModel",
     "state": {
      "_model_module": "@jupyter-widgets/controls",
      "_model_module_version": "1.5.0",
      "_model_name": "ProgressStyleModel",
      "_view_count": null,
      "_view_module": "@jupyter-widgets/base",
      "_view_module_version": "1.2.0",
      "_view_name": "StyleView",
      "bar_color": null,
      "description_width": "initial"
     }
    },
    "5260d456806c48eabc77efce8b21014b": {
     "model_module": "@jupyter-widgets/base",
     "model_name": "LayoutModel",
     "state": {
      "_model_module": "@jupyter-widgets/base",
      "_model_module_version": "1.2.0",
      "_model_name": "LayoutModel",
      "_view_count": null,
      "_view_module": "@jupyter-widgets/base",
      "_view_module_version": "1.2.0",
      "_view_name": "LayoutView",
      "align_content": null,
      "align_items": null,
      "align_self": null,
      "border": null,
      "bottom": null,
      "display": null,
      "flex": null,
      "flex_flow": null,
      "grid_area": null,
      "grid_auto_columns": null,
      "grid_auto_flow": null,
      "grid_auto_rows": null,
      "grid_column": null,
      "grid_gap": null,
      "grid_row": null,
      "grid_template_areas": null,
      "grid_template_columns": null,
      "grid_template_rows": null,
      "height": null,
      "justify_content": null,
      "justify_items": null,
      "left": null,
      "margin": null,
      "max_height": null,
      "max_width": null,
      "min_height": null,
      "min_width": null,
      "object_fit": null,
      "object_position": null,
      "order": null,
      "overflow": null,
      "overflow_x": null,
      "overflow_y": null,
      "padding": null,
      "right": null,
      "top": null,
      "visibility": null,
      "width": null
     }
    },
    "52a31f8c369a46babdb62a9efba5fd61": {
     "model_module": "@jupyter-widgets/controls",
     "model_name": "ProgressStyleModel",
     "state": {
      "_model_module": "@jupyter-widgets/controls",
      "_model_module_version": "1.5.0",
      "_model_name": "ProgressStyleModel",
      "_view_count": null,
      "_view_module": "@jupyter-widgets/base",
      "_view_module_version": "1.2.0",
      "_view_name": "StyleView",
      "bar_color": null,
      "description_width": "initial"
     }
    },
    "54b9c0dd2be1456d893d581a26629a3e": {
     "model_module": "@jupyter-widgets/controls",
     "model_name": "HBoxModel",
     "state": {
      "_dom_classes": [],
      "_model_module": "@jupyter-widgets/controls",
      "_model_module_version": "1.5.0",
      "_model_name": "HBoxModel",
      "_view_count": null,
      "_view_module": "@jupyter-widgets/controls",
      "_view_module_version": "1.5.0",
      "_view_name": "HBoxView",
      "box_style": "",
      "children": [
       "IPY_MODEL_d92cd9d4b1be4fe7a4a780e41f77648e",
       "IPY_MODEL_26e8e9c604a24435b2c057f22a09fde5"
      ],
      "layout": "IPY_MODEL_cbcb9c51416d4274916f06fabae964ab"
     }
    },
    "560a277859f84d7b9abddb59d4c117eb": {
     "model_module": "@jupyter-widgets/base",
     "model_name": "LayoutModel",
     "state": {
      "_model_module": "@jupyter-widgets/base",
      "_model_module_version": "1.2.0",
      "_model_name": "LayoutModel",
      "_view_count": null,
      "_view_module": "@jupyter-widgets/base",
      "_view_module_version": "1.2.0",
      "_view_name": "LayoutView",
      "align_content": null,
      "align_items": null,
      "align_self": null,
      "border": null,
      "bottom": null,
      "display": null,
      "flex": null,
      "flex_flow": null,
      "grid_area": null,
      "grid_auto_columns": null,
      "grid_auto_flow": null,
      "grid_auto_rows": null,
      "grid_column": null,
      "grid_gap": null,
      "grid_row": null,
      "grid_template_areas": null,
      "grid_template_columns": null,
      "grid_template_rows": null,
      "height": null,
      "justify_content": null,
      "justify_items": null,
      "left": null,
      "margin": null,
      "max_height": null,
      "max_width": null,
      "min_height": null,
      "min_width": null,
      "object_fit": null,
      "object_position": null,
      "order": null,
      "overflow": null,
      "overflow_x": null,
      "overflow_y": null,
      "padding": null,
      "right": null,
      "top": null,
      "visibility": null,
      "width": null
     }
    },
    "57fbb7b77b6e4746a339a5641430b3c8": {
     "model_module": "@jupyter-widgets/base",
     "model_name": "LayoutModel",
     "state": {
      "_model_module": "@jupyter-widgets/base",
      "_model_module_version": "1.2.0",
      "_model_name": "LayoutModel",
      "_view_count": null,
      "_view_module": "@jupyter-widgets/base",
      "_view_module_version": "1.2.0",
      "_view_name": "LayoutView",
      "align_content": null,
      "align_items": null,
      "align_self": null,
      "border": null,
      "bottom": null,
      "display": null,
      "flex": null,
      "flex_flow": null,
      "grid_area": null,
      "grid_auto_columns": null,
      "grid_auto_flow": null,
      "grid_auto_rows": null,
      "grid_column": null,
      "grid_gap": null,
      "grid_row": null,
      "grid_template_areas": null,
      "grid_template_columns": null,
      "grid_template_rows": null,
      "height": null,
      "justify_content": null,
      "justify_items": null,
      "left": null,
      "margin": null,
      "max_height": null,
      "max_width": null,
      "min_height": null,
      "min_width": null,
      "object_fit": null,
      "object_position": null,
      "order": null,
      "overflow": null,
      "overflow_x": null,
      "overflow_y": null,
      "padding": null,
      "right": null,
      "top": null,
      "visibility": null,
      "width": null
     }
    },
    "60206f2796254cc1be974582ded2fe74": {
     "model_module": "@jupyter-widgets/base",
     "model_name": "LayoutModel",
     "state": {
      "_model_module": "@jupyter-widgets/base",
      "_model_module_version": "1.2.0",
      "_model_name": "LayoutModel",
      "_view_count": null,
      "_view_module": "@jupyter-widgets/base",
      "_view_module_version": "1.2.0",
      "_view_name": "LayoutView",
      "align_content": null,
      "align_items": null,
      "align_self": null,
      "border": null,
      "bottom": null,
      "display": null,
      "flex": null,
      "flex_flow": null,
      "grid_area": null,
      "grid_auto_columns": null,
      "grid_auto_flow": null,
      "grid_auto_rows": null,
      "grid_column": null,
      "grid_gap": null,
      "grid_row": null,
      "grid_template_areas": null,
      "grid_template_columns": null,
      "grid_template_rows": null,
      "height": null,
      "justify_content": null,
      "justify_items": null,
      "left": null,
      "margin": null,
      "max_height": null,
      "max_width": null,
      "min_height": null,
      "min_width": null,
      "object_fit": null,
      "object_position": null,
      "order": null,
      "overflow": null,
      "overflow_x": null,
      "overflow_y": null,
      "padding": null,
      "right": null,
      "top": null,
      "visibility": null,
      "width": null
     }
    },
    "6280af3dfcec465b953069d494170042": {
     "model_module": "@jupyter-widgets/controls",
     "model_name": "HTMLModel",
     "state": {
      "_dom_classes": [],
      "_model_module": "@jupyter-widgets/controls",
      "_model_module_version": "1.5.0",
      "_model_name": "HTMLModel",
      "_view_count": null,
      "_view_module": "@jupyter-widgets/controls",
      "_view_module_version": "1.5.0",
      "_view_name": "HTMLView",
      "description": "",
      "description_tooltip": null,
      "layout": "IPY_MODEL_9842c383e8214d11b7d75c11c8982d36",
      "placeholder": "​",
      "style": "IPY_MODEL_179eb25754064ba59d88f5100bc7e50d",
      "value": " 6/60 [05:15&lt;43:56, 48.82s/it]"
     }
    },
    "640f50fba7694ff99ba7696833fefe4e": {
     "model_module": "@jupyter-widgets/base",
     "model_name": "LayoutModel",
     "state": {
      "_model_module": "@jupyter-widgets/base",
      "_model_module_version": "1.2.0",
      "_model_name": "LayoutModel",
      "_view_count": null,
      "_view_module": "@jupyter-widgets/base",
      "_view_module_version": "1.2.0",
      "_view_name": "LayoutView",
      "align_content": null,
      "align_items": null,
      "align_self": null,
      "border": null,
      "bottom": null,
      "display": null,
      "flex": null,
      "flex_flow": null,
      "grid_area": null,
      "grid_auto_columns": null,
      "grid_auto_flow": null,
      "grid_auto_rows": null,
      "grid_column": null,
      "grid_gap": null,
      "grid_row": null,
      "grid_template_areas": null,
      "grid_template_columns": null,
      "grid_template_rows": null,
      "height": null,
      "justify_content": null,
      "justify_items": null,
      "left": null,
      "margin": null,
      "max_height": null,
      "max_width": null,
      "min_height": null,
      "min_width": null,
      "object_fit": null,
      "object_position": null,
      "order": null,
      "overflow": null,
      "overflow_x": null,
      "overflow_y": null,
      "padding": null,
      "right": null,
      "top": null,
      "visibility": null,
      "width": null
     }
    },
    "64aa4882ff8043488719ec4419260f7d": {
     "model_module": "@jupyter-widgets/controls",
     "model_name": "FloatProgressModel",
     "state": {
      "_dom_classes": [],
      "_model_module": "@jupyter-widgets/controls",
      "_model_module_version": "1.5.0",
      "_model_name": "FloatProgressModel",
      "_view_count": null,
      "_view_module": "@jupyter-widgets/controls",
      "_view_module_version": "1.5.0",
      "_view_name": "ProgressView",
      "bar_style": "",
      "description": "Training: (loss 3.7588): 100%",
      "description_tooltip": null,
      "layout": "IPY_MODEL_d4712083203a47eebba6339adf8aef50",
      "max": 8,
      "min": 0,
      "orientation": "horizontal",
      "style": "IPY_MODEL_14c76f93117743bfa723a54dd6031261",
      "value": 8
     }
    },
    "659e4eb65e57429f8374069415727515": {
     "model_module": "@jupyter-widgets/base",
     "model_name": "LayoutModel",
     "state": {
      "_model_module": "@jupyter-widgets/base",
      "_model_module_version": "1.2.0",
      "_model_name": "LayoutModel",
      "_view_count": null,
      "_view_module": "@jupyter-widgets/base",
      "_view_module_version": "1.2.0",
      "_view_name": "LayoutView",
      "align_content": null,
      "align_items": null,
      "align_self": null,
      "border": null,
      "bottom": null,
      "display": null,
      "flex": null,
      "flex_flow": null,
      "grid_area": null,
      "grid_auto_columns": null,
      "grid_auto_flow": null,
      "grid_auto_rows": null,
      "grid_column": null,
      "grid_gap": null,
      "grid_row": null,
      "grid_template_areas": null,
      "grid_template_columns": null,
      "grid_template_rows": null,
      "height": null,
      "justify_content": null,
      "justify_items": null,
      "left": null,
      "margin": null,
      "max_height": null,
      "max_width": null,
      "min_height": null,
      "min_width": null,
      "object_fit": null,
      "object_position": null,
      "order": null,
      "overflow": null,
      "overflow_x": null,
      "overflow_y": null,
      "padding": null,
      "right": null,
      "top": null,
      "visibility": null,
      "width": null
     }
    },
    "671bc4d3b15e4f329e18bc297924a9bf": {
     "model_module": "@jupyter-widgets/controls",
     "model_name": "ProgressStyleModel",
     "state": {
      "_model_module": "@jupyter-widgets/controls",
      "_model_module_version": "1.5.0",
      "_model_name": "ProgressStyleModel",
      "_view_count": null,
      "_view_module": "@jupyter-widgets/base",
      "_view_module_version": "1.2.0",
      "_view_name": "StyleView",
      "bar_color": null,
      "description_width": "initial"
     }
    },
    "677dfee1ee794d0e8e393537f5e2c6ba": {
     "model_module": "@jupyter-widgets/controls",
     "model_name": "FloatProgressModel",
     "state": {
      "_dom_classes": [],
      "_model_module": "@jupyter-widgets/controls",
      "_model_module_version": "1.5.0",
      "_model_name": "FloatProgressModel",
      "_view_count": null,
      "_view_module": "@jupyter-widgets/controls",
      "_view_module_version": "1.5.0",
      "_view_name": "ProgressView",
      "bar_style": "",
      "description": "Validation: (loss 3.3080): 100%",
      "description_tooltip": null,
      "layout": "IPY_MODEL_93bcda1ffc2848c6aa9aa31b28e01af3",
      "max": 4,
      "min": 0,
      "orientation": "horizontal",
      "style": "IPY_MODEL_3ca309c0ac36447ab35e3e3396f61615",
      "value": 4
     }
    },
    "67c49689bb32467990ade94c2ef3654b": {
     "model_module": "@jupyter-widgets/controls",
     "model_name": "ProgressStyleModel",
     "state": {
      "_model_module": "@jupyter-widgets/controls",
      "_model_module_version": "1.5.0",
      "_model_name": "ProgressStyleModel",
      "_view_count": null,
      "_view_module": "@jupyter-widgets/base",
      "_view_module_version": "1.2.0",
      "_view_name": "StyleView",
      "bar_color": null,
      "description_width": "initial"
     }
    },
    "6a653f6336a34dc98e505bb4b032e613": {
     "model_module": "@jupyter-widgets/controls",
     "model_name": "FloatProgressModel",
     "state": {
      "_dom_classes": [],
      "_model_module": "@jupyter-widgets/controls",
      "_model_module_version": "1.5.0",
      "_model_name": "FloatProgressModel",
      "_view_count": null,
      "_view_module": "@jupyter-widgets/controls",
      "_view_module_version": "1.5.0",
      "_view_name": "ProgressView",
      "bar_style": "",
      "description": "Validation: (loss 3.0531): 100%",
      "description_tooltip": null,
      "layout": "IPY_MODEL_659e4eb65e57429f8374069415727515",
      "max": 4,
      "min": 0,
      "orientation": "horizontal",
      "style": "IPY_MODEL_abd9bdf7c93e4f4da3aada9aebb68626",
      "value": 4
     }
    },
    "74987e610294425f8476d85e9fcdccc2": {
     "model_module": "@jupyter-widgets/controls",
     "model_name": "ProgressStyleModel",
     "state": {
      "_model_module": "@jupyter-widgets/controls",
      "_model_module_version": "1.5.0",
      "_model_name": "ProgressStyleModel",
      "_view_count": null,
      "_view_module": "@jupyter-widgets/base",
      "_view_module_version": "1.2.0",
      "_view_name": "StyleView",
      "bar_color": null,
      "description_width": "initial"
     }
    },
    "79192f0f2c964a1da5a106733674fc2a": {
     "model_module": "@jupyter-widgets/controls",
     "model_name": "HBoxModel",
     "state": {
      "_dom_classes": [],
      "_model_module": "@jupyter-widgets/controls",
      "_model_module_version": "1.5.0",
      "_model_name": "HBoxModel",
      "_view_count": null,
      "_view_module": "@jupyter-widgets/controls",
      "_view_module_version": "1.5.0",
      "_view_name": "HBoxView",
      "box_style": "",
      "children": [
       "IPY_MODEL_3a1209cd398f49e6ab7144747e7de91d",
       "IPY_MODEL_4e7e5b9d46054ec1a77587bd11074255"
      ],
      "layout": "IPY_MODEL_5260d456806c48eabc77efce8b21014b"
     }
    },
    "79d4d6d34b114cd5900e116b698cfcbb": {
     "model_module": "@jupyter-widgets/controls",
     "model_name": "DescriptionStyleModel",
     "state": {
      "_model_module": "@jupyter-widgets/controls",
      "_model_module_version": "1.5.0",
      "_model_name": "DescriptionStyleModel",
      "_view_count": null,
      "_view_module": "@jupyter-widgets/base",
      "_view_module_version": "1.2.0",
      "_view_name": "StyleView",
      "description_width": ""
     }
    },
    "7c516d6a215644d682653798124a74d0": {
     "model_module": "@jupyter-widgets/controls",
     "model_name": "FloatProgressModel",
     "state": {
      "_dom_classes": [],
      "_model_module": "@jupyter-widgets/controls",
      "_model_module_version": "1.5.0",
      "_model_name": "FloatProgressModel",
      "_view_count": null,
      "_view_module": "@jupyter-widgets/controls",
      "_view_module_version": "1.5.0",
      "_view_name": "ProgressView",
      "bar_style": "",
      "description": "Validation: (loss 3.2109): 100%",
      "description_tooltip": null,
      "layout": "IPY_MODEL_1d92ddd27e94444498de2924adc169ef",
      "max": 4,
      "min": 0,
      "orientation": "horizontal",
      "style": "IPY_MODEL_3f47fff5055a43b79e1246acd7ff664d",
      "value": 4
     }
    },
    "7cf9d22161f145bd8857ed9e00880a78": {
     "model_module": "@jupyter-widgets/base",
     "model_name": "LayoutModel",
     "state": {
      "_model_module": "@jupyter-widgets/base",
      "_model_module_version": "1.2.0",
      "_model_name": "LayoutModel",
      "_view_count": null,
      "_view_module": "@jupyter-widgets/base",
      "_view_module_version": "1.2.0",
      "_view_name": "LayoutView",
      "align_content": null,
      "align_items": null,
      "align_self": null,
      "border": null,
      "bottom": null,
      "display": null,
      "flex": null,
      "flex_flow": null,
      "grid_area": null,
      "grid_auto_columns": null,
      "grid_auto_flow": null,
      "grid_auto_rows": null,
      "grid_column": null,
      "grid_gap": null,
      "grid_row": null,
      "grid_template_areas": null,
      "grid_template_columns": null,
      "grid_template_rows": null,
      "height": null,
      "justify_content": null,
      "justify_items": null,
      "left": null,
      "margin": null,
      "max_height": null,
      "max_width": null,
      "min_height": null,
      "min_width": null,
      "object_fit": null,
      "object_position": null,
      "order": null,
      "overflow": null,
      "overflow_x": null,
      "overflow_y": null,
      "padding": null,
      "right": null,
      "top": null,
      "visibility": null,
      "width": null
     }
    },
    "7eb6827d6dd14acb8d53aee45e6f8c4f": {
     "model_module": "@jupyter-widgets/base",
     "model_name": "LayoutModel",
     "state": {
      "_model_module": "@jupyter-widgets/base",
      "_model_module_version": "1.2.0",
      "_model_name": "LayoutModel",
      "_view_count": null,
      "_view_module": "@jupyter-widgets/base",
      "_view_module_version": "1.2.0",
      "_view_name": "LayoutView",
      "align_content": null,
      "align_items": null,
      "align_self": null,
      "border": null,
      "bottom": null,
      "display": null,
      "flex": null,
      "flex_flow": null,
      "grid_area": null,
      "grid_auto_columns": null,
      "grid_auto_flow": null,
      "grid_auto_rows": null,
      "grid_column": null,
      "grid_gap": null,
      "grid_row": null,
      "grid_template_areas": null,
      "grid_template_columns": null,
      "grid_template_rows": null,
      "height": null,
      "justify_content": null,
      "justify_items": null,
      "left": null,
      "margin": null,
      "max_height": null,
      "max_width": null,
      "min_height": null,
      "min_width": null,
      "object_fit": null,
      "object_position": null,
      "order": null,
      "overflow": null,
      "overflow_x": null,
      "overflow_y": null,
      "padding": null,
      "right": null,
      "top": null,
      "visibility": null,
      "width": null
     }
    },
    "80a4bba215eb4c0bad1542fde9c932ee": {
     "model_module": "@jupyter-widgets/base",
     "model_name": "LayoutModel",
     "state": {
      "_model_module": "@jupyter-widgets/base",
      "_model_module_version": "1.2.0",
      "_model_name": "LayoutModel",
      "_view_count": null,
      "_view_module": "@jupyter-widgets/base",
      "_view_module_version": "1.2.0",
      "_view_name": "LayoutView",
      "align_content": null,
      "align_items": null,
      "align_self": null,
      "border": null,
      "bottom": null,
      "display": null,
      "flex": null,
      "flex_flow": null,
      "grid_area": null,
      "grid_auto_columns": null,
      "grid_auto_flow": null,
      "grid_auto_rows": null,
      "grid_column": null,
      "grid_gap": null,
      "grid_row": null,
      "grid_template_areas": null,
      "grid_template_columns": null,
      "grid_template_rows": null,
      "height": null,
      "justify_content": null,
      "justify_items": null,
      "left": null,
      "margin": null,
      "max_height": null,
      "max_width": null,
      "min_height": null,
      "min_width": null,
      "object_fit": null,
      "object_position": null,
      "order": null,
      "overflow": null,
      "overflow_x": null,
      "overflow_y": null,
      "padding": null,
      "right": null,
      "top": null,
      "visibility": null,
      "width": null
     }
    },
    "82bea9953ba34981b25c72b618b4cef6": {
     "model_module": "@jupyter-widgets/base",
     "model_name": "LayoutModel",
     "state": {
      "_model_module": "@jupyter-widgets/base",
      "_model_module_version": "1.2.0",
      "_model_name": "LayoutModel",
      "_view_count": null,
      "_view_module": "@jupyter-widgets/base",
      "_view_module_version": "1.2.0",
      "_view_name": "LayoutView",
      "align_content": null,
      "align_items": null,
      "align_self": null,
      "border": null,
      "bottom": null,
      "display": null,
      "flex": null,
      "flex_flow": null,
      "grid_area": null,
      "grid_auto_columns": null,
      "grid_auto_flow": null,
      "grid_auto_rows": null,
      "grid_column": null,
      "grid_gap": null,
      "grid_row": null,
      "grid_template_areas": null,
      "grid_template_columns": null,
      "grid_template_rows": null,
      "height": null,
      "justify_content": null,
      "justify_items": null,
      "left": null,
      "margin": null,
      "max_height": null,
      "max_width": null,
      "min_height": null,
      "min_width": null,
      "object_fit": null,
      "object_position": null,
      "order": null,
      "overflow": null,
      "overflow_x": null,
      "overflow_y": null,
      "padding": null,
      "right": null,
      "top": null,
      "visibility": null,
      "width": null
     }
    },
    "82c6ca325fb84c799b0fd53ce5060107": {
     "model_module": "@jupyter-widgets/controls",
     "model_name": "FloatProgressModel",
     "state": {
      "_dom_classes": [],
      "_model_module": "@jupyter-widgets/controls",
      "_model_module_version": "1.5.0",
      "_model_name": "FloatProgressModel",
      "_view_count": null,
      "_view_module": "@jupyter-widgets/controls",
      "_view_module_version": "1.5.0",
      "_view_name": "ProgressView",
      "bar_style": "",
      "description": "Validation: (loss 3.0498): 100%",
      "description_tooltip": null,
      "layout": "IPY_MODEL_57fbb7b77b6e4746a339a5641430b3c8",
      "max": 4,
      "min": 0,
      "orientation": "horizontal",
      "style": "IPY_MODEL_c626ad6cf40a4eaeb8c34c5ed2602090",
      "value": 4
     }
    },
    "854e3c29df094172bdf5337ba621d3d4": {
     "model_module": "@jupyter-widgets/controls",
     "model_name": "DescriptionStyleModel",
     "state": {
      "_model_module": "@jupyter-widgets/controls",
      "_model_module_version": "1.5.0",
      "_model_name": "DescriptionStyleModel",
      "_view_count": null,
      "_view_module": "@jupyter-widgets/base",
      "_view_module_version": "1.2.0",
      "_view_name": "StyleView",
      "description_width": ""
     }
    },
    "858f67d60db34d1a8fa0fe34f967c9db": {
     "model_module": "@jupyter-widgets/controls",
     "model_name": "HBoxModel",
     "state": {
      "_dom_classes": [],
      "_model_module": "@jupyter-widgets/controls",
      "_model_module_version": "1.5.0",
      "_model_name": "HBoxModel",
      "_view_count": null,
      "_view_module": "@jupyter-widgets/controls",
      "_view_module_version": "1.5.0",
      "_view_name": "HBoxView",
      "box_style": "",
      "children": [
       "IPY_MODEL_64aa4882ff8043488719ec4419260f7d",
       "IPY_MODEL_c9214ab964b345c19b4a2f0feb6ba5a7"
      ],
      "layout": "IPY_MODEL_da0304c38eb64e11a0faf082ea5ee7ba"
     }
    },
    "87d22379e9f04fb9bbea3532432cd031": {
     "model_module": "@jupyter-widgets/controls",
     "model_name": "DescriptionStyleModel",
     "state": {
      "_model_module": "@jupyter-widgets/controls",
      "_model_module_version": "1.5.0",
      "_model_name": "DescriptionStyleModel",
      "_view_count": null,
      "_view_module": "@jupyter-widgets/base",
      "_view_module_version": "1.2.0",
      "_view_name": "StyleView",
      "description_width": ""
     }
    },
    "889b3d1cfcc846fda780984aba343727": {
     "model_module": "@jupyter-widgets/controls",
     "model_name": "ProgressStyleModel",
     "state": {
      "_model_module": "@jupyter-widgets/controls",
      "_model_module_version": "1.5.0",
      "_model_name": "ProgressStyleModel",
      "_view_count": null,
      "_view_module": "@jupyter-widgets/base",
      "_view_module_version": "1.2.0",
      "_view_name": "StyleView",
      "bar_color": null,
      "description_width": "initial"
     }
    },
    "897a5569392341eca53c92ac71a3fdc4": {
     "model_module": "@jupyter-widgets/base",
     "model_name": "LayoutModel",
     "state": {
      "_model_module": "@jupyter-widgets/base",
      "_model_module_version": "1.2.0",
      "_model_name": "LayoutModel",
      "_view_count": null,
      "_view_module": "@jupyter-widgets/base",
      "_view_module_version": "1.2.0",
      "_view_name": "LayoutView",
      "align_content": null,
      "align_items": null,
      "align_self": null,
      "border": null,
      "bottom": null,
      "display": null,
      "flex": null,
      "flex_flow": null,
      "grid_area": null,
      "grid_auto_columns": null,
      "grid_auto_flow": null,
      "grid_auto_rows": null,
      "grid_column": null,
      "grid_gap": null,
      "grid_row": null,
      "grid_template_areas": null,
      "grid_template_columns": null,
      "grid_template_rows": null,
      "height": null,
      "justify_content": null,
      "justify_items": null,
      "left": null,
      "margin": null,
      "max_height": null,
      "max_width": null,
      "min_height": null,
      "min_width": null,
      "object_fit": null,
      "object_position": null,
      "order": null,
      "overflow": null,
      "overflow_x": null,
      "overflow_y": null,
      "padding": null,
      "right": null,
      "top": null,
      "visibility": null,
      "width": null
     }
    },
    "8ce5494e6be84efb89a05d4377ec3b9d": {
     "model_module": "@jupyter-widgets/controls",
     "model_name": "HTMLModel",
     "state": {
      "_dom_classes": [],
      "_model_module": "@jupyter-widgets/controls",
      "_model_module_version": "1.5.0",
      "_model_name": "HTMLModel",
      "_view_count": null,
      "_view_module": "@jupyter-widgets/controls",
      "_view_module_version": "1.5.0",
      "_view_name": "HTMLView",
      "description": "",
      "description_tooltip": null,
      "layout": "IPY_MODEL_4101803ed3a34b128ec0d1c4ddb1ff7f",
      "placeholder": "​",
      "style": "IPY_MODEL_854e3c29df094172bdf5337ba621d3d4",
      "value": " 4/4 [00:14&lt;00:00,  3.73s/it]"
     }
    },
    "8f0b7396e5f8482290b41b1d29221863": {
     "model_module": "@jupyter-widgets/controls",
     "model_name": "DescriptionStyleModel",
     "state": {
      "_model_module": "@jupyter-widgets/controls",
      "_model_module_version": "1.5.0",
      "_model_name": "DescriptionStyleModel",
      "_view_count": null,
      "_view_module": "@jupyter-widgets/base",
      "_view_module_version": "1.2.0",
      "_view_name": "StyleView",
      "description_width": ""
     }
    },
    "8f16864a24ff45a28c46c66eb63307f6": {
     "model_module": "@jupyter-widgets/controls",
     "model_name": "HBoxModel",
     "state": {
      "_dom_classes": [],
      "_model_module": "@jupyter-widgets/controls",
      "_model_module_version": "1.5.0",
      "_model_name": "HBoxModel",
      "_view_count": null,
      "_view_module": "@jupyter-widgets/controls",
      "_view_module_version": "1.5.0",
      "_view_name": "HBoxView",
      "box_style": "",
      "children": [
       "IPY_MODEL_fed348fa26eb4c5b843b56a0140d227a",
       "IPY_MODEL_6280af3dfcec465b953069d494170042"
      ],
      "layout": "IPY_MODEL_909951502a5a4228b17c6ebd6c61ecee"
     }
    },
    "902a72a3a5bd4d208ed742c7eb9fd239": {
     "model_module": "@jupyter-widgets/base",
     "model_name": "LayoutModel",
     "state": {
      "_model_module": "@jupyter-widgets/base",
      "_model_module_version": "1.2.0",
      "_model_name": "LayoutModel",
      "_view_count": null,
      "_view_module": "@jupyter-widgets/base",
      "_view_module_version": "1.2.0",
      "_view_name": "LayoutView",
      "align_content": null,
      "align_items": null,
      "align_self": null,
      "border": null,
      "bottom": null,
      "display": null,
      "flex": null,
      "flex_flow": null,
      "grid_area": null,
      "grid_auto_columns": null,
      "grid_auto_flow": null,
      "grid_auto_rows": null,
      "grid_column": null,
      "grid_gap": null,
      "grid_row": null,
      "grid_template_areas": null,
      "grid_template_columns": null,
      "grid_template_rows": null,
      "height": null,
      "justify_content": null,
      "justify_items": null,
      "left": null,
      "margin": null,
      "max_height": null,
      "max_width": null,
      "min_height": null,
      "min_width": null,
      "object_fit": null,
      "object_position": null,
      "order": null,
      "overflow": null,
      "overflow_x": null,
      "overflow_y": null,
      "padding": null,
      "right": null,
      "top": null,
      "visibility": null,
      "width": null
     }
    },
    "909951502a5a4228b17c6ebd6c61ecee": {
     "model_module": "@jupyter-widgets/base",
     "model_name": "LayoutModel",
     "state": {
      "_model_module": "@jupyter-widgets/base",
      "_model_module_version": "1.2.0",
      "_model_name": "LayoutModel",
      "_view_count": null,
      "_view_module": "@jupyter-widgets/base",
      "_view_module_version": "1.2.0",
      "_view_name": "LayoutView",
      "align_content": null,
      "align_items": null,
      "align_self": null,
      "border": null,
      "bottom": null,
      "display": null,
      "flex": null,
      "flex_flow": null,
      "grid_area": null,
      "grid_auto_columns": null,
      "grid_auto_flow": null,
      "grid_auto_rows": null,
      "grid_column": null,
      "grid_gap": null,
      "grid_row": null,
      "grid_template_areas": null,
      "grid_template_columns": null,
      "grid_template_rows": null,
      "height": null,
      "justify_content": null,
      "justify_items": null,
      "left": null,
      "margin": null,
      "max_height": null,
      "max_width": null,
      "min_height": null,
      "min_width": null,
      "object_fit": null,
      "object_position": null,
      "order": null,
      "overflow": null,
      "overflow_x": null,
      "overflow_y": null,
      "padding": null,
      "right": null,
      "top": null,
      "visibility": null,
      "width": null
     }
    },
    "93bcda1ffc2848c6aa9aa31b28e01af3": {
     "model_module": "@jupyter-widgets/base",
     "model_name": "LayoutModel",
     "state": {
      "_model_module": "@jupyter-widgets/base",
      "_model_module_version": "1.2.0",
      "_model_name": "LayoutModel",
      "_view_count": null,
      "_view_module": "@jupyter-widgets/base",
      "_view_module_version": "1.2.0",
      "_view_name": "LayoutView",
      "align_content": null,
      "align_items": null,
      "align_self": null,
      "border": null,
      "bottom": null,
      "display": null,
      "flex": null,
      "flex_flow": null,
      "grid_area": null,
      "grid_auto_columns": null,
      "grid_auto_flow": null,
      "grid_auto_rows": null,
      "grid_column": null,
      "grid_gap": null,
      "grid_row": null,
      "grid_template_areas": null,
      "grid_template_columns": null,
      "grid_template_rows": null,
      "height": null,
      "justify_content": null,
      "justify_items": null,
      "left": null,
      "margin": null,
      "max_height": null,
      "max_width": null,
      "min_height": null,
      "min_width": null,
      "object_fit": null,
      "object_position": null,
      "order": null,
      "overflow": null,
      "overflow_x": null,
      "overflow_y": null,
      "padding": null,
      "right": null,
      "top": null,
      "visibility": null,
      "width": null
     }
    },
    "96320a457751475d81b3ac9701ddb2f0": {
     "model_module": "@jupyter-widgets/base",
     "model_name": "LayoutModel",
     "state": {
      "_model_module": "@jupyter-widgets/base",
      "_model_module_version": "1.2.0",
      "_model_name": "LayoutModel",
      "_view_count": null,
      "_view_module": "@jupyter-widgets/base",
      "_view_module_version": "1.2.0",
      "_view_name": "LayoutView",
      "align_content": null,
      "align_items": null,
      "align_self": null,
      "border": null,
      "bottom": null,
      "display": null,
      "flex": null,
      "flex_flow": null,
      "grid_area": null,
      "grid_auto_columns": null,
      "grid_auto_flow": null,
      "grid_auto_rows": null,
      "grid_column": null,
      "grid_gap": null,
      "grid_row": null,
      "grid_template_areas": null,
      "grid_template_columns": null,
      "grid_template_rows": null,
      "height": null,
      "justify_content": null,
      "justify_items": null,
      "left": null,
      "margin": null,
      "max_height": null,
      "max_width": null,
      "min_height": null,
      "min_width": null,
      "object_fit": null,
      "object_position": null,
      "order": null,
      "overflow": null,
      "overflow_x": null,
      "overflow_y": null,
      "padding": null,
      "right": null,
      "top": null,
      "visibility": null,
      "width": null
     }
    },
    "9673d012c9964d74945b615cc45574e9": {
     "model_module": "@jupyter-widgets/base",
     "model_name": "LayoutModel",
     "state": {
      "_model_module": "@jupyter-widgets/base",
      "_model_module_version": "1.2.0",
      "_model_name": "LayoutModel",
      "_view_count": null,
      "_view_module": "@jupyter-widgets/base",
      "_view_module_version": "1.2.0",
      "_view_name": "LayoutView",
      "align_content": null,
      "align_items": null,
      "align_self": null,
      "border": null,
      "bottom": null,
      "display": null,
      "flex": null,
      "flex_flow": null,
      "grid_area": null,
      "grid_auto_columns": null,
      "grid_auto_flow": null,
      "grid_auto_rows": null,
      "grid_column": null,
      "grid_gap": null,
      "grid_row": null,
      "grid_template_areas": null,
      "grid_template_columns": null,
      "grid_template_rows": null,
      "height": null,
      "justify_content": null,
      "justify_items": null,
      "left": null,
      "margin": null,
      "max_height": null,
      "max_width": null,
      "min_height": null,
      "min_width": null,
      "object_fit": null,
      "object_position": null,
      "order": null,
      "overflow": null,
      "overflow_x": null,
      "overflow_y": null,
      "padding": null,
      "right": null,
      "top": null,
      "visibility": null,
      "width": null
     }
    },
    "981129eb1f7d488cbdcf42f0751da7a4": {
     "model_module": "@jupyter-widgets/controls",
     "model_name": "FloatProgressModel",
     "state": {
      "_dom_classes": [],
      "_model_module": "@jupyter-widgets/controls",
      "_model_module_version": "1.5.0",
      "_model_name": "FloatProgressModel",
      "_view_count": null,
      "_view_module": "@jupyter-widgets/controls",
      "_view_module_version": "1.5.0",
      "_view_name": "ProgressView",
      "bar_style": "danger",
      "description": "Training: (loss 3.8749):  75%",
      "description_tooltip": null,
      "layout": "IPY_MODEL_3a39e907ca274af481e9a9a676a34d15",
      "max": 8,
      "min": 0,
      "orientation": "horizontal",
      "style": "IPY_MODEL_67c49689bb32467990ade94c2ef3654b",
      "value": 6
     }
    },
    "9842c383e8214d11b7d75c11c8982d36": {
     "model_module": "@jupyter-widgets/base",
     "model_name": "LayoutModel",
     "state": {
      "_model_module": "@jupyter-widgets/base",
      "_model_module_version": "1.2.0",
      "_model_name": "LayoutModel",
      "_view_count": null,
      "_view_module": "@jupyter-widgets/base",
      "_view_module_version": "1.2.0",
      "_view_name": "LayoutView",
      "align_content": null,
      "align_items": null,
      "align_self": null,
      "border": null,
      "bottom": null,
      "display": null,
      "flex": null,
      "flex_flow": null,
      "grid_area": null,
      "grid_auto_columns": null,
      "grid_auto_flow": null,
      "grid_auto_rows": null,
      "grid_column": null,
      "grid_gap": null,
      "grid_row": null,
      "grid_template_areas": null,
      "grid_template_columns": null,
      "grid_template_rows": null,
      "height": null,
      "justify_content": null,
      "justify_items": null,
      "left": null,
      "margin": null,
      "max_height": null,
      "max_width": null,
      "min_height": null,
      "min_width": null,
      "object_fit": null,
      "object_position": null,
      "order": null,
      "overflow": null,
      "overflow_x": null,
      "overflow_y": null,
      "padding": null,
      "right": null,
      "top": null,
      "visibility": null,
      "width": null
     }
    },
    "a238d8ca89b643b38a40a0e07f48c0c5": {
     "model_module": "@jupyter-widgets/controls",
     "model_name": "HBoxModel",
     "state": {
      "_dom_classes": [],
      "_model_module": "@jupyter-widgets/controls",
      "_model_module_version": "1.5.0",
      "_model_name": "HBoxModel",
      "_view_count": null,
      "_view_module": "@jupyter-widgets/controls",
      "_view_module_version": "1.5.0",
      "_view_name": "HBoxView",
      "box_style": "",
      "children": [
       "IPY_MODEL_82c6ca325fb84c799b0fd53ce5060107",
       "IPY_MODEL_3bf69561dfd24f5383894746634cfeab"
      ],
      "layout": "IPY_MODEL_3fae501eb7bb42bdbac96783894c74ac"
     }
    },
    "a4018df35d5449c3879e1d20e93adcb7": {
     "model_module": "@jupyter-widgets/controls",
     "model_name": "HTMLModel",
     "state": {
      "_dom_classes": [],
      "_model_module": "@jupyter-widgets/controls",
      "_model_module_version": "1.5.0",
      "_model_name": "HTMLModel",
      "_view_count": null,
      "_view_module": "@jupyter-widgets/controls",
      "_view_module_version": "1.5.0",
      "_view_name": "HTMLView",
      "description": "",
      "description_tooltip": null,
      "layout": "IPY_MODEL_82bea9953ba34981b25c72b618b4cef6",
      "placeholder": "​",
      "style": "IPY_MODEL_79d4d6d34b114cd5900e116b698cfcbb",
      "value": " 8/8 [00:29&lt;00:00,  3.73s/it]"
     }
    },
    "a5dfa4c0bff64611b6cdb8d26175ec11": {
     "model_module": "@jupyter-widgets/controls",
     "model_name": "FloatProgressModel",
     "state": {
      "_dom_classes": [],
      "_model_module": "@jupyter-widgets/controls",
      "_model_module_version": "1.5.0",
      "_model_name": "FloatProgressModel",
      "_view_count": null,
      "_view_module": "@jupyter-widgets/controls",
      "_view_module_version": "1.5.0",
      "_view_name": "ProgressView",
      "bar_style": "",
      "description": "Training: (loss 3.7845): 100%",
      "description_tooltip": null,
      "layout": "IPY_MODEL_17cb2ac42e4a4fe0b6151bb0f4e08cb3",
      "max": 8,
      "min": 0,
      "orientation": "horizontal",
      "style": "IPY_MODEL_74987e610294425f8476d85e9fcdccc2",
      "value": 8
     }
    },
    "a6325d8b655c40f6a466588e184a0bca": {
     "model_module": "@jupyter-widgets/controls",
     "model_name": "DescriptionStyleModel",
     "state": {
      "_model_module": "@jupyter-widgets/controls",
      "_model_module_version": "1.5.0",
      "_model_name": "DescriptionStyleModel",
      "_view_count": null,
      "_view_module": "@jupyter-widgets/base",
      "_view_module_version": "1.2.0",
      "_view_name": "StyleView",
      "description_width": ""
     }
    },
    "a7eb3daabf59444db317921ef86cdb28": {
     "model_module": "@jupyter-widgets/controls",
     "model_name": "HBoxModel",
     "state": {
      "_dom_classes": [],
      "_model_module": "@jupyter-widgets/controls",
      "_model_module_version": "1.5.0",
      "_model_name": "HBoxModel",
      "_view_count": null,
      "_view_module": "@jupyter-widgets/controls",
      "_view_module_version": "1.5.0",
      "_view_name": "HBoxView",
      "box_style": "",
      "children": [
       "IPY_MODEL_cbf9e6f71f3a4f4c87ee68f9e241db99",
       "IPY_MODEL_1f235aa1c1914619955c62e01cdc1fd1"
      ],
      "layout": "IPY_MODEL_124d0a6bed1f475eb91f946f93123afc"
     }
    },
    "a92f9371fdd94dd1aee124a672152020": {
     "model_module": "@jupyter-widgets/base",
     "model_name": "LayoutModel",
     "state": {
      "_model_module": "@jupyter-widgets/base",
      "_model_module_version": "1.2.0",
      "_model_name": "LayoutModel",
      "_view_count": null,
      "_view_module": "@jupyter-widgets/base",
      "_view_module_version": "1.2.0",
      "_view_name": "LayoutView",
      "align_content": null,
      "align_items": null,
      "align_self": null,
      "border": null,
      "bottom": null,
      "display": null,
      "flex": null,
      "flex_flow": null,
      "grid_area": null,
      "grid_auto_columns": null,
      "grid_auto_flow": null,
      "grid_auto_rows": null,
      "grid_column": null,
      "grid_gap": null,
      "grid_row": null,
      "grid_template_areas": null,
      "grid_template_columns": null,
      "grid_template_rows": null,
      "height": null,
      "justify_content": null,
      "justify_items": null,
      "left": null,
      "margin": null,
      "max_height": null,
      "max_width": null,
      "min_height": null,
      "min_width": null,
      "object_fit": null,
      "object_position": null,
      "order": null,
      "overflow": null,
      "overflow_x": null,
      "overflow_y": null,
      "padding": null,
      "right": null,
      "top": null,
      "visibility": null,
      "width": null
     }
    },
    "aaeed5a3f2024926b78f3cba4064e95d": {
     "model_module": "@jupyter-widgets/base",
     "model_name": "LayoutModel",
     "state": {
      "_model_module": "@jupyter-widgets/base",
      "_model_module_version": "1.2.0",
      "_model_name": "LayoutModel",
      "_view_count": null,
      "_view_module": "@jupyter-widgets/base",
      "_view_module_version": "1.2.0",
      "_view_name": "LayoutView",
      "align_content": null,
      "align_items": null,
      "align_self": null,
      "border": null,
      "bottom": null,
      "display": null,
      "flex": null,
      "flex_flow": null,
      "grid_area": null,
      "grid_auto_columns": null,
      "grid_auto_flow": null,
      "grid_auto_rows": null,
      "grid_column": null,
      "grid_gap": null,
      "grid_row": null,
      "grid_template_areas": null,
      "grid_template_columns": null,
      "grid_template_rows": null,
      "height": null,
      "justify_content": null,
      "justify_items": null,
      "left": null,
      "margin": null,
      "max_height": null,
      "max_width": null,
      "min_height": null,
      "min_width": null,
      "object_fit": null,
      "object_position": null,
      "order": null,
      "overflow": null,
      "overflow_x": null,
      "overflow_y": null,
      "padding": null,
      "right": null,
      "top": null,
      "visibility": null,
      "width": null
     }
    },
    "abd9bdf7c93e4f4da3aada9aebb68626": {
     "model_module": "@jupyter-widgets/controls",
     "model_name": "ProgressStyleModel",
     "state": {
      "_model_module": "@jupyter-widgets/controls",
      "_model_module_version": "1.5.0",
      "_model_name": "ProgressStyleModel",
      "_view_count": null,
      "_view_module": "@jupyter-widgets/base",
      "_view_module_version": "1.2.0",
      "_view_name": "StyleView",
      "bar_color": null,
      "description_width": "initial"
     }
    },
    "ad2fb50f62eb41ac9fe392172b8d8e4a": {
     "model_module": "@jupyter-widgets/base",
     "model_name": "LayoutModel",
     "state": {
      "_model_module": "@jupyter-widgets/base",
      "_model_module_version": "1.2.0",
      "_model_name": "LayoutModel",
      "_view_count": null,
      "_view_module": "@jupyter-widgets/base",
      "_view_module_version": "1.2.0",
      "_view_name": "LayoutView",
      "align_content": null,
      "align_items": null,
      "align_self": null,
      "border": null,
      "bottom": null,
      "display": null,
      "flex": null,
      "flex_flow": null,
      "grid_area": null,
      "grid_auto_columns": null,
      "grid_auto_flow": null,
      "grid_auto_rows": null,
      "grid_column": null,
      "grid_gap": null,
      "grid_row": null,
      "grid_template_areas": null,
      "grid_template_columns": null,
      "grid_template_rows": null,
      "height": null,
      "justify_content": null,
      "justify_items": null,
      "left": null,
      "margin": null,
      "max_height": null,
      "max_width": null,
      "min_height": null,
      "min_width": null,
      "object_fit": null,
      "object_position": null,
      "order": null,
      "overflow": null,
      "overflow_x": null,
      "overflow_y": null,
      "padding": null,
      "right": null,
      "top": null,
      "visibility": null,
      "width": null
     }
    },
    "b6c8468a0b17407ba1a20581754646e9": {
     "model_module": "@jupyter-widgets/controls",
     "model_name": "HBoxModel",
     "state": {
      "_dom_classes": [],
      "_model_module": "@jupyter-widgets/controls",
      "_model_module_version": "1.5.0",
      "_model_name": "HBoxModel",
      "_view_count": null,
      "_view_module": "@jupyter-widgets/controls",
      "_view_module_version": "1.5.0",
      "_view_name": "HBoxView",
      "box_style": "",
      "children": [
       "IPY_MODEL_0f3a32405239463ea6a13cda77d545df",
       "IPY_MODEL_a4018df35d5449c3879e1d20e93adcb7"
      ],
      "layout": "IPY_MODEL_333eeaf262924287a50e8797efafc7ae"
     }
    },
    "ba1d62459da7464892278507cef8eaa2": {
     "model_module": "@jupyter-widgets/controls",
     "model_name": "HBoxModel",
     "state": {
      "_dom_classes": [],
      "_model_module": "@jupyter-widgets/controls",
      "_model_module_version": "1.5.0",
      "_model_name": "HBoxModel",
      "_view_count": null,
      "_view_module": "@jupyter-widgets/controls",
      "_view_module_version": "1.5.0",
      "_view_name": "HBoxView",
      "box_style": "",
      "children": [
       "IPY_MODEL_ecd73851b27146baa2b2b3473a5a722f",
       "IPY_MODEL_1545d3f54a124713810e4c6e6432f27e"
      ],
      "layout": "IPY_MODEL_7eb6827d6dd14acb8d53aee45e6f8c4f"
     }
    },
    "bd665aaaf9914e48ae65c1d154f81a96": {
     "model_module": "@jupyter-widgets/controls",
     "model_name": "DescriptionStyleModel",
     "state": {
      "_model_module": "@jupyter-widgets/controls",
      "_model_module_version": "1.5.0",
      "_model_name": "DescriptionStyleModel",
      "_view_count": null,
      "_view_module": "@jupyter-widgets/base",
      "_view_module_version": "1.2.0",
      "_view_name": "StyleView",
      "description_width": ""
     }
    },
    "bf4c0a0487de42b29c72134cc015d0f4": {
     "model_module": "@jupyter-widgets/controls",
     "model_name": "ProgressStyleModel",
     "state": {
      "_model_module": "@jupyter-widgets/controls",
      "_model_module_version": "1.5.0",
      "_model_name": "ProgressStyleModel",
      "_view_count": null,
      "_view_module": "@jupyter-widgets/base",
      "_view_module_version": "1.2.0",
      "_view_name": "StyleView",
      "bar_color": null,
      "description_width": "initial"
     }
    },
    "c264f4e1314249cf8e44f45c747d95a7": {
     "model_module": "@jupyter-widgets/base",
     "model_name": "LayoutModel",
     "state": {
      "_model_module": "@jupyter-widgets/base",
      "_model_module_version": "1.2.0",
      "_model_name": "LayoutModel",
      "_view_count": null,
      "_view_module": "@jupyter-widgets/base",
      "_view_module_version": "1.2.0",
      "_view_name": "LayoutView",
      "align_content": null,
      "align_items": null,
      "align_self": null,
      "border": null,
      "bottom": null,
      "display": null,
      "flex": null,
      "flex_flow": null,
      "grid_area": null,
      "grid_auto_columns": null,
      "grid_auto_flow": null,
      "grid_auto_rows": null,
      "grid_column": null,
      "grid_gap": null,
      "grid_row": null,
      "grid_template_areas": null,
      "grid_template_columns": null,
      "grid_template_rows": null,
      "height": null,
      "justify_content": null,
      "justify_items": null,
      "left": null,
      "margin": null,
      "max_height": null,
      "max_width": null,
      "min_height": null,
      "min_width": null,
      "object_fit": null,
      "object_position": null,
      "order": null,
      "overflow": null,
      "overflow_x": null,
      "overflow_y": null,
      "padding": null,
      "right": null,
      "top": null,
      "visibility": null,
      "width": null
     }
    },
    "c626ad6cf40a4eaeb8c34c5ed2602090": {
     "model_module": "@jupyter-widgets/controls",
     "model_name": "ProgressStyleModel",
     "state": {
      "_model_module": "@jupyter-widgets/controls",
      "_model_module_version": "1.5.0",
      "_model_name": "ProgressStyleModel",
      "_view_count": null,
      "_view_module": "@jupyter-widgets/base",
      "_view_module_version": "1.2.0",
      "_view_name": "StyleView",
      "bar_color": null,
      "description_width": "initial"
     }
    },
    "c78445f144f1437cbf7953ef6cfec6b7": {
     "model_module": "@jupyter-widgets/base",
     "model_name": "LayoutModel",
     "state": {
      "_model_module": "@jupyter-widgets/base",
      "_model_module_version": "1.2.0",
      "_model_name": "LayoutModel",
      "_view_count": null,
      "_view_module": "@jupyter-widgets/base",
      "_view_module_version": "1.2.0",
      "_view_name": "LayoutView",
      "align_content": null,
      "align_items": null,
      "align_self": null,
      "border": null,
      "bottom": null,
      "display": null,
      "flex": null,
      "flex_flow": null,
      "grid_area": null,
      "grid_auto_columns": null,
      "grid_auto_flow": null,
      "grid_auto_rows": null,
      "grid_column": null,
      "grid_gap": null,
      "grid_row": null,
      "grid_template_areas": null,
      "grid_template_columns": null,
      "grid_template_rows": null,
      "height": null,
      "justify_content": null,
      "justify_items": null,
      "left": null,
      "margin": null,
      "max_height": null,
      "max_width": null,
      "min_height": null,
      "min_width": null,
      "object_fit": null,
      "object_position": null,
      "order": null,
      "overflow": null,
      "overflow_x": null,
      "overflow_y": null,
      "padding": null,
      "right": null,
      "top": null,
      "visibility": null,
      "width": null
     }
    },
    "c825cbc692f549b3bdc14b42c281858c": {
     "model_module": "@jupyter-widgets/base",
     "model_name": "LayoutModel",
     "state": {
      "_model_module": "@jupyter-widgets/base",
      "_model_module_version": "1.2.0",
      "_model_name": "LayoutModel",
      "_view_count": null,
      "_view_module": "@jupyter-widgets/base",
      "_view_module_version": "1.2.0",
      "_view_name": "LayoutView",
      "align_content": null,
      "align_items": null,
      "align_self": null,
      "border": null,
      "bottom": null,
      "display": null,
      "flex": null,
      "flex_flow": null,
      "grid_area": null,
      "grid_auto_columns": null,
      "grid_auto_flow": null,
      "grid_auto_rows": null,
      "grid_column": null,
      "grid_gap": null,
      "grid_row": null,
      "grid_template_areas": null,
      "grid_template_columns": null,
      "grid_template_rows": null,
      "height": null,
      "justify_content": null,
      "justify_items": null,
      "left": null,
      "margin": null,
      "max_height": null,
      "max_width": null,
      "min_height": null,
      "min_width": null,
      "object_fit": null,
      "object_position": null,
      "order": null,
      "overflow": null,
      "overflow_x": null,
      "overflow_y": null,
      "padding": null,
      "right": null,
      "top": null,
      "visibility": null,
      "width": null
     }
    },
    "c9214ab964b345c19b4a2f0feb6ba5a7": {
     "model_module": "@jupyter-widgets/controls",
     "model_name": "HTMLModel",
     "state": {
      "_dom_classes": [],
      "_model_module": "@jupyter-widgets/controls",
      "_model_module_version": "1.5.0",
      "_model_name": "HTMLModel",
      "_view_count": null,
      "_view_module": "@jupyter-widgets/controls",
      "_view_module_version": "1.5.0",
      "_view_name": "HTMLView",
      "description": "",
      "description_tooltip": null,
      "layout": "IPY_MODEL_897a5569392341eca53c92ac71a3fdc4",
      "placeholder": "​",
      "style": "IPY_MODEL_4d283afb6a844d0dad7459e0b23f1e2a",
      "value": " 8/8 [00:29&lt;00:00,  3.74s/it]"
     }
    },
    "cbbcb3ff42f34c3bbf437bd731abb7c0": {
     "model_module": "@jupyter-widgets/controls",
     "model_name": "HTMLModel",
     "state": {
      "_dom_classes": [],
      "_model_module": "@jupyter-widgets/controls",
      "_model_module_version": "1.5.0",
      "_model_name": "HTMLModel",
      "_view_count": null,
      "_view_module": "@jupyter-widgets/controls",
      "_view_module_version": "1.5.0",
      "_view_name": "HTMLView",
      "description": "",
      "description_tooltip": null,
      "layout": "IPY_MODEL_e29273de54464daca309ff5ef906b8f0",
      "placeholder": "​",
      "style": "IPY_MODEL_bd665aaaf9914e48ae65c1d154f81a96",
      "value": " 4/4 [00:14&lt;00:00,  3.75s/it]"
     }
    },
    "cbcb9c51416d4274916f06fabae964ab": {
     "model_module": "@jupyter-widgets/base",
     "model_name": "LayoutModel",
     "state": {
      "_model_module": "@jupyter-widgets/base",
      "_model_module_version": "1.2.0",
      "_model_name": "LayoutModel",
      "_view_count": null,
      "_view_module": "@jupyter-widgets/base",
      "_view_module_version": "1.2.0",
      "_view_name": "LayoutView",
      "align_content": null,
      "align_items": null,
      "align_self": null,
      "border": null,
      "bottom": null,
      "display": null,
      "flex": null,
      "flex_flow": null,
      "grid_area": null,
      "grid_auto_columns": null,
      "grid_auto_flow": null,
      "grid_auto_rows": null,
      "grid_column": null,
      "grid_gap": null,
      "grid_row": null,
      "grid_template_areas": null,
      "grid_template_columns": null,
      "grid_template_rows": null,
      "height": null,
      "justify_content": null,
      "justify_items": null,
      "left": null,
      "margin": null,
      "max_height": null,
      "max_width": null,
      "min_height": null,
      "min_width": null,
      "object_fit": null,
      "object_position": null,
      "order": null,
      "overflow": null,
      "overflow_x": null,
      "overflow_y": null,
      "padding": null,
      "right": null,
      "top": null,
      "visibility": null,
      "width": null
     }
    },
    "cbf9e6f71f3a4f4c87ee68f9e241db99": {
     "model_module": "@jupyter-widgets/controls",
     "model_name": "FloatProgressModel",
     "state": {
      "_dom_classes": [],
      "_model_module": "@jupyter-widgets/controls",
      "_model_module_version": "1.5.0",
      "_model_name": "FloatProgressModel",
      "_view_count": null,
      "_view_module": "@jupyter-widgets/controls",
      "_view_module_version": "1.5.0",
      "_view_name": "ProgressView",
      "bar_style": "",
      "description": "Training: (loss 3.5740): 100%",
      "description_tooltip": null,
      "layout": "IPY_MODEL_ad2fb50f62eb41ac9fe392172b8d8e4a",
      "max": 8,
      "min": 0,
      "orientation": "horizontal",
      "style": "IPY_MODEL_889b3d1cfcc846fda780984aba343727",
      "value": 8
     }
    },
    "cd15b387cf7b4455b3fb72e510afc4f1": {
     "model_module": "@jupyter-widgets/base",
     "model_name": "LayoutModel",
     "state": {
      "_model_module": "@jupyter-widgets/base",
      "_model_module_version": "1.2.0",
      "_model_name": "LayoutModel",
      "_view_count": null,
      "_view_module": "@jupyter-widgets/base",
      "_view_module_version": "1.2.0",
      "_view_name": "LayoutView",
      "align_content": null,
      "align_items": null,
      "align_self": null,
      "border": null,
      "bottom": null,
      "display": null,
      "flex": null,
      "flex_flow": null,
      "grid_area": null,
      "grid_auto_columns": null,
      "grid_auto_flow": null,
      "grid_auto_rows": null,
      "grid_column": null,
      "grid_gap": null,
      "grid_row": null,
      "grid_template_areas": null,
      "grid_template_columns": null,
      "grid_template_rows": null,
      "height": null,
      "justify_content": null,
      "justify_items": null,
      "left": null,
      "margin": null,
      "max_height": null,
      "max_width": null,
      "min_height": null,
      "min_width": null,
      "object_fit": null,
      "object_position": null,
      "order": null,
      "overflow": null,
      "overflow_x": null,
      "overflow_y": null,
      "padding": null,
      "right": null,
      "top": null,
      "visibility": null,
      "width": null
     }
    },
    "d198706a06844919811a8265ad23d5cd": {
     "model_module": "@jupyter-widgets/controls",
     "model_name": "HTMLModel",
     "state": {
      "_dom_classes": [],
      "_model_module": "@jupyter-widgets/controls",
      "_model_module_version": "1.5.0",
      "_model_name": "HTMLModel",
      "_view_count": null,
      "_view_module": "@jupyter-widgets/controls",
      "_view_module_version": "1.5.0",
      "_view_name": "HTMLView",
      "description": "",
      "description_tooltip": null,
      "layout": "IPY_MODEL_03d8f7bc04fa4727984cddfd25c2d719",
      "placeholder": "​",
      "style": "IPY_MODEL_8f0b7396e5f8482290b41b1d29221863",
      "value": " 4/4 [00:14&lt;00:00,  3.72s/it]"
     }
    },
    "d4712083203a47eebba6339adf8aef50": {
     "model_module": "@jupyter-widgets/base",
     "model_name": "LayoutModel",
     "state": {
      "_model_module": "@jupyter-widgets/base",
      "_model_module_version": "1.2.0",
      "_model_name": "LayoutModel",
      "_view_count": null,
      "_view_module": "@jupyter-widgets/base",
      "_view_module_version": "1.2.0",
      "_view_name": "LayoutView",
      "align_content": null,
      "align_items": null,
      "align_self": null,
      "border": null,
      "bottom": null,
      "display": null,
      "flex": null,
      "flex_flow": null,
      "grid_area": null,
      "grid_auto_columns": null,
      "grid_auto_flow": null,
      "grid_auto_rows": null,
      "grid_column": null,
      "grid_gap": null,
      "grid_row": null,
      "grid_template_areas": null,
      "grid_template_columns": null,
      "grid_template_rows": null,
      "height": null,
      "justify_content": null,
      "justify_items": null,
      "left": null,
      "margin": null,
      "max_height": null,
      "max_width": null,
      "min_height": null,
      "min_width": null,
      "object_fit": null,
      "object_position": null,
      "order": null,
      "overflow": null,
      "overflow_x": null,
      "overflow_y": null,
      "padding": null,
      "right": null,
      "top": null,
      "visibility": null,
      "width": null
     }
    },
    "d749e088319e4bb49100c2bae0d4d0f9": {
     "model_module": "@jupyter-widgets/controls",
     "model_name": "HBoxModel",
     "state": {
      "_dom_classes": [],
      "_model_module": "@jupyter-widgets/controls",
      "_model_module_version": "1.5.0",
      "_model_name": "HBoxModel",
      "_view_count": null,
      "_view_module": "@jupyter-widgets/controls",
      "_view_module_version": "1.5.0",
      "_view_name": "HBoxView",
      "box_style": "",
      "children": [
       "IPY_MODEL_6a653f6336a34dc98e505bb4b032e613",
       "IPY_MODEL_cbbcb3ff42f34c3bbf437bd731abb7c0"
      ],
      "layout": "IPY_MODEL_7cf9d22161f145bd8857ed9e00880a78"
     }
    },
    "d92cd9d4b1be4fe7a4a780e41f77648e": {
     "model_module": "@jupyter-widgets/controls",
     "model_name": "FloatProgressModel",
     "state": {
      "_dom_classes": [],
      "_model_module": "@jupyter-widgets/controls",
      "_model_module_version": "1.5.0",
      "_model_name": "FloatProgressModel",
      "_view_count": null,
      "_view_module": "@jupyter-widgets/controls",
      "_view_module_version": "1.5.0",
      "_view_name": "ProgressView",
      "bar_style": "",
      "description": "Training: (loss 3.7315): 100%",
      "description_tooltip": null,
      "layout": "IPY_MODEL_a92f9371fdd94dd1aee124a672152020",
      "max": 8,
      "min": 0,
      "orientation": "horizontal",
      "style": "IPY_MODEL_671bc4d3b15e4f329e18bc297924a9bf",
      "value": 8
     }
    },
    "da0304c38eb64e11a0faf082ea5ee7ba": {
     "model_module": "@jupyter-widgets/base",
     "model_name": "LayoutModel",
     "state": {
      "_model_module": "@jupyter-widgets/base",
      "_model_module_version": "1.2.0",
      "_model_name": "LayoutModel",
      "_view_count": null,
      "_view_module": "@jupyter-widgets/base",
      "_view_module_version": "1.2.0",
      "_view_name": "LayoutView",
      "align_content": null,
      "align_items": null,
      "align_self": null,
      "border": null,
      "bottom": null,
      "display": null,
      "flex": null,
      "flex_flow": null,
      "grid_area": null,
      "grid_auto_columns": null,
      "grid_auto_flow": null,
      "grid_auto_rows": null,
      "grid_column": null,
      "grid_gap": null,
      "grid_row": null,
      "grid_template_areas": null,
      "grid_template_columns": null,
      "grid_template_rows": null,
      "height": null,
      "justify_content": null,
      "justify_items": null,
      "left": null,
      "margin": null,
      "max_height": null,
      "max_width": null,
      "min_height": null,
      "min_width": null,
      "object_fit": null,
      "object_position": null,
      "order": null,
      "overflow": null,
      "overflow_x": null,
      "overflow_y": null,
      "padding": null,
      "right": null,
      "top": null,
      "visibility": null,
      "width": null
     }
    },
    "e1cde7b5bc6f49eaa772571ba719fff6": {
     "model_module": "@jupyter-widgets/controls",
     "model_name": "HTMLModel",
     "state": {
      "_dom_classes": [],
      "_model_module": "@jupyter-widgets/controls",
      "_model_module_version": "1.5.0",
      "_model_name": "HTMLModel",
      "_view_count": null,
      "_view_module": "@jupyter-widgets/controls",
      "_view_module_version": "1.5.0",
      "_view_name": "HTMLView",
      "description": "",
      "description_tooltip": null,
      "layout": "IPY_MODEL_c78445f144f1437cbf7953ef6cfec6b7",
      "placeholder": "​",
      "style": "IPY_MODEL_f0d75016f36d400989786ac20d743fe1",
      "value": " 8/8 [00:53&lt;00:00,  5.93s/it]"
     }
    },
    "e29273de54464daca309ff5ef906b8f0": {
     "model_module": "@jupyter-widgets/base",
     "model_name": "LayoutModel",
     "state": {
      "_model_module": "@jupyter-widgets/base",
      "_model_module_version": "1.2.0",
      "_model_name": "LayoutModel",
      "_view_count": null,
      "_view_module": "@jupyter-widgets/base",
      "_view_module_version": "1.2.0",
      "_view_name": "LayoutView",
      "align_content": null,
      "align_items": null,
      "align_self": null,
      "border": null,
      "bottom": null,
      "display": null,
      "flex": null,
      "flex_flow": null,
      "grid_area": null,
      "grid_auto_columns": null,
      "grid_auto_flow": null,
      "grid_auto_rows": null,
      "grid_column": null,
      "grid_gap": null,
      "grid_row": null,
      "grid_template_areas": null,
      "grid_template_columns": null,
      "grid_template_rows": null,
      "height": null,
      "justify_content": null,
      "justify_items": null,
      "left": null,
      "margin": null,
      "max_height": null,
      "max_width": null,
      "min_height": null,
      "min_width": null,
      "object_fit": null,
      "object_position": null,
      "order": null,
      "overflow": null,
      "overflow_x": null,
      "overflow_y": null,
      "padding": null,
      "right": null,
      "top": null,
      "visibility": null,
      "width": null
     }
    },
    "e3137035730d45f993bcb8b76ec18af5": {
     "model_module": "@jupyter-widgets/base",
     "model_name": "LayoutModel",
     "state": {
      "_model_module": "@jupyter-widgets/base",
      "_model_module_version": "1.2.0",
      "_model_name": "LayoutModel",
      "_view_count": null,
      "_view_module": "@jupyter-widgets/base",
      "_view_module_version": "1.2.0",
      "_view_name": "LayoutView",
      "align_content": null,
      "align_items": null,
      "align_self": null,
      "border": null,
      "bottom": null,
      "display": null,
      "flex": null,
      "flex_flow": null,
      "grid_area": null,
      "grid_auto_columns": null,
      "grid_auto_flow": null,
      "grid_auto_rows": null,
      "grid_column": null,
      "grid_gap": null,
      "grid_row": null,
      "grid_template_areas": null,
      "grid_template_columns": null,
      "grid_template_rows": null,
      "height": null,
      "justify_content": null,
      "justify_items": null,
      "left": null,
      "margin": null,
      "max_height": null,
      "max_width": null,
      "min_height": null,
      "min_width": null,
      "object_fit": null,
      "object_position": null,
      "order": null,
      "overflow": null,
      "overflow_x": null,
      "overflow_y": null,
      "padding": null,
      "right": null,
      "top": null,
      "visibility": null,
      "width": null
     }
    },
    "ecd73851b27146baa2b2b3473a5a722f": {
     "model_module": "@jupyter-widgets/controls",
     "model_name": "FloatProgressModel",
     "state": {
      "_dom_classes": [],
      "_model_module": "@jupyter-widgets/controls",
      "_model_module_version": "1.5.0",
      "_model_name": "FloatProgressModel",
      "_view_count": null,
      "_view_module": "@jupyter-widgets/controls",
      "_view_module_version": "1.5.0",
      "_view_name": "ProgressView",
      "bar_style": "",
      "description": "Training: (loss 3.7529): 100%",
      "description_tooltip": null,
      "layout": "IPY_MODEL_f004868b03594532a58d85288acdcd9c",
      "max": 8,
      "min": 0,
      "orientation": "horizontal",
      "style": "IPY_MODEL_4ebc43dc8b22482181b6301a3f06b1ce",
      "value": 8
     }
    },
    "f004868b03594532a58d85288acdcd9c": {
     "model_module": "@jupyter-widgets/base",
     "model_name": "LayoutModel",
     "state": {
      "_model_module": "@jupyter-widgets/base",
      "_model_module_version": "1.2.0",
      "_model_name": "LayoutModel",
      "_view_count": null,
      "_view_module": "@jupyter-widgets/base",
      "_view_module_version": "1.2.0",
      "_view_name": "LayoutView",
      "align_content": null,
      "align_items": null,
      "align_self": null,
      "border": null,
      "bottom": null,
      "display": null,
      "flex": null,
      "flex_flow": null,
      "grid_area": null,
      "grid_auto_columns": null,
      "grid_auto_flow": null,
      "grid_auto_rows": null,
      "grid_column": null,
      "grid_gap": null,
      "grid_row": null,
      "grid_template_areas": null,
      "grid_template_columns": null,
      "grid_template_rows": null,
      "height": null,
      "justify_content": null,
      "justify_items": null,
      "left": null,
      "margin": null,
      "max_height": null,
      "max_width": null,
      "min_height": null,
      "min_width": null,
      "object_fit": null,
      "object_position": null,
      "order": null,
      "overflow": null,
      "overflow_x": null,
      "overflow_y": null,
      "padding": null,
      "right": null,
      "top": null,
      "visibility": null,
      "width": null
     }
    },
    "f0d75016f36d400989786ac20d743fe1": {
     "model_module": "@jupyter-widgets/controls",
     "model_name": "DescriptionStyleModel",
     "state": {
      "_model_module": "@jupyter-widgets/controls",
      "_model_module_version": "1.5.0",
      "_model_name": "DescriptionStyleModel",
      "_view_count": null,
      "_view_module": "@jupyter-widgets/base",
      "_view_module_version": "1.2.0",
      "_view_name": "StyleView",
      "description_width": ""
     }
    },
    "f33eca4ad6ef4dc78d8e030e11546ceb": {
     "model_module": "@jupyter-widgets/controls",
     "model_name": "FloatProgressModel",
     "state": {
      "_dom_classes": [],
      "_model_module": "@jupyter-widgets/controls",
      "_model_module_version": "1.5.0",
      "_model_name": "FloatProgressModel",
      "_view_count": null,
      "_view_module": "@jupyter-widgets/controls",
      "_view_module_version": "1.5.0",
      "_view_name": "ProgressView",
      "bar_style": "",
      "description": "Validation: (loss 3.0259): 100%",
      "description_tooltip": null,
      "layout": "IPY_MODEL_80a4bba215eb4c0bad1542fde9c932ee",
      "max": 4,
      "min": 0,
      "orientation": "horizontal",
      "style": "IPY_MODEL_52a31f8c369a46babdb62a9efba5fd61",
      "value": 4
     }
    },
    "fb1c8deaaa284a8da3c8d7251a30db05": {
     "model_module": "@jupyter-widgets/controls",
     "model_name": "DescriptionStyleModel",
     "state": {
      "_model_module": "@jupyter-widgets/controls",
      "_model_module_version": "1.5.0",
      "_model_name": "DescriptionStyleModel",
      "_view_count": null,
      "_view_module": "@jupyter-widgets/base",
      "_view_module_version": "1.2.0",
      "_view_name": "StyleView",
      "description_width": ""
     }
    },
    "fd8e8874ceb64f3dba2b7421ad41ecba": {
     "model_module": "@jupyter-widgets/controls",
     "model_name": "DescriptionStyleModel",
     "state": {
      "_model_module": "@jupyter-widgets/controls",
      "_model_module_version": "1.5.0",
      "_model_name": "DescriptionStyleModel",
      "_view_count": null,
      "_view_module": "@jupyter-widgets/base",
      "_view_module_version": "1.2.0",
      "_view_name": "StyleView",
      "description_width": ""
     }
    },
    "fed348fa26eb4c5b843b56a0140d227a": {
     "model_module": "@jupyter-widgets/controls",
     "model_name": "FloatProgressModel",
     "state": {
      "_dom_classes": [],
      "_model_module": "@jupyter-widgets/controls",
      "_model_module_version": "1.5.0",
      "_model_name": "FloatProgressModel",
      "_view_count": null,
      "_view_module": "@jupyter-widgets/controls",
      "_view_module_version": "1.5.0",
      "_view_name": "ProgressView",
      "bar_style": "danger",
      "description": "Progress:  10%",
      "description_tooltip": null,
      "layout": "IPY_MODEL_c264f4e1314249cf8e44f45c747d95a7",
      "max": 60,
      "min": 0,
      "orientation": "horizontal",
      "style": "IPY_MODEL_36068bfd63104b20846d3112d718419f",
      "value": 6
     }
    }
   }
  }
 },
 "nbformat": 4,
 "nbformat_minor": 1
}
